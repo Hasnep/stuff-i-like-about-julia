{
 "cells": [
  {
   "cell_type": "markdown",
   "metadata": {},
   "source": [
    "# Stuff I Like About The Julia Programming Language"
   ]
  },
  {
   "cell_type": "markdown",
   "metadata": {},
   "source": [
    "`git_club 2020-06-19` - Hannes"
   ]
  },
  {
   "cell_type": "markdown",
   "metadata": {},
   "source": [
    "> Julia's unofficial tagline is \"Looks like Python, feels like Lisp, runs like Fortran.\"\n",
    "> I've been learning Julia for slightly less than a year now, and I'd like to share some of the things I've enjoyed about it.\n",
    "> I'll give an overview of the language's main features with code examples and discuss whether it really is the future scientific computing."
   ]
  },
  {
   "cell_type": "markdown",
   "metadata": {},
   "source": [
    "* [Static notebook on nbviewer](https://nbviewer.jupyter.org/github/Hasnep/stuff-i-like-about-julia/blob/master/stuff-i-like-about-julia.ipynb)\n",
    "* [Interactive notebook on Binder](https://mybinder.org/v2/gh/Hasnep/stuff-i-like-about-julia/master?filepath=stuff-i-like-about-julia.ipynb)"
   ]
  },
  {
   "cell_type": "markdown",
   "metadata": {},
   "source": [
    "## Expectations"
   ]
  },
  {
   "cell_type": "markdown",
   "metadata": {},
   "source": [
    "- I'm not going to:\n",
    "    - Convince you to switch to Julia\n",
    "    - Teach you everything about Julia\n",
    "    - Convince you that Julia is better than Python\n",
    "- I'll try to:\n",
    "    - Use Python as a comparison to give you some context\n",
    "    - Show you some things I like about Julia   "
   ]
  },
  {
   "cell_type": "markdown",
   "metadata": {},
   "source": [
    "## What is Julia?"
   ]
  },
  {
   "cell_type": "markdown",
   "metadata": {},
   "source": [
    "Technically:\n",
    "\n",
    "> Julia is a high level, JIT compiled, dynamic language designed with multiple dispatch, automatic differentiation and metaprogramming.\n",
    "\n",
    "In practice:\n",
    "\n",
    "> Julia finds a balance between being fast and easy to use with lots of features you'll miss when you use another language."
   ]
  },
  {
   "cell_type": "markdown",
   "metadata": {},
   "source": [
    "## History"
   ]
  },
  {
   "cell_type": "markdown",
   "metadata": {},
   "source": [
    "- Julia was started in 2009 by Jeff Bezanson, Stefan Karpinski, Viral B. Shah, and Alan Edelman\n",
    "- Announced in 2012\n",
    "- Version 1.0 was released in 2018\n",
    "- Now on version 1.4, heading for 1.5 soon"
   ]
  },
  {
   "cell_type": "markdown",
   "metadata": {},
   "source": [
    "## It's fast"
   ]
  },
  {
   "cell_type": "markdown",
   "metadata": {},
   "source": [
    "Julia was designed to solve the \"two language problem\", where researchers use a slower, high-level language for research and then have to use a slower, low-level language once they hit a bottleneck or for production.\n",
    "\n",
    "Julia is both languages at the same time!"
   ]
  },
  {
   "cell_type": "markdown",
   "metadata": {},
   "source": [
    "![Benchmarks of different languages relative to C](https://julialang.org/assets/benchmarks/benchmarks.svg)\n",
    "\n",
    "> Source: https://julialang.org/benchmarks/"
   ]
  },
  {
   "cell_type": "markdown",
   "metadata": {},
   "source": [
    "Some benchmarks (from the Julia website) of different languages relative to C.\n",
    "These benchmarks try to compare implementations of the same algorithm.\n",
    "\n",
    "Julia is comparable to compiled languages like Rust, Go, Fortran, etc. and is sometimes faster than C.\n",
    "Python is sometimes 100x slower than C.\n",
    "R is a bit slower than that.\n"
   ]
  },
  {
   "cell_type": "markdown",
   "metadata": {},
   "source": [
    "### How?"
   ]
  },
  {
   "cell_type": "markdown",
   "metadata": {},
   "source": [
    "- Compiled languages like C or Rust compile all the code before you run\n",
    "- Interpreted languages like Python or R don't compile\n",
    "- Julia uses a _Just-In-Time_ (JIT) compiler which compiles a function the first time it is called."
   ]
  },
  {
   "cell_type": "markdown",
   "metadata": {},
   "source": [
    "### Why I don't think it matters that much"
   ]
  },
  {
   "cell_type": "markdown",
   "metadata": {},
   "source": [
    "* My time is more valuable than the computer's time\n",
    "* JIT compilation takes a while"
   ]
  },
  {
   "cell_type": "markdown",
   "metadata": {},
   "source": [
    "### Easy to use"
   ]
  },
  {
   "cell_type": "markdown",
   "metadata": {},
   "source": [
    "Writing a sum function from scratch, first in Python:"
   ]
  },
  {
   "cell_type": "markdown",
   "metadata": {},
   "source": [
    "```python\n",
    "def my_sum(array):\n",
    "    \"\"\"\n",
    "    Sum a list.\n",
    "    \"\"\"\n",
    "    total = 0\n",
    "    for x in array:\n",
    "        total += x\n",
    "    return total\n",
    "```"
   ]
  },
  {
   "cell_type": "markdown",
   "metadata": {},
   "source": [
    "Then in Julia:"
   ]
  },
  {
   "cell_type": "code",
   "execution_count": null,
   "metadata": {},
   "outputs": [],
   "source": [
    "\"\"\"\n",
    "Sum an array.\n",
    "\"\"\"\n",
    "function my_sum(array)\n",
    "    total = 0\n",
    "    for x in array\n",
    "        total += x\n",
    "    end\n",
    "    return total\n",
    "end"
   ]
  },
  {
   "cell_type": "markdown",
   "metadata": {},
   "source": [
    "This syntax will be familliar if you've used Python."
   ]
  },
  {
   "cell_type": "code",
   "execution_count": null,
   "metadata": {},
   "outputs": [],
   "source": [
    "my_sum(1:10)"
   ]
  },
  {
   "cell_type": "markdown",
   "metadata": {},
   "source": [
    "- C: ~10ms\n",
    "- Python: ~500ms\n",
    "- Julia: ~10ms\n",
    "\n",
    "> Source: [An Introduction to Julia (Beginner Level) | SciPy 2018 Tutorial | Jane Herriman, Sacha Verweij](https://www.youtube.com/watch?v=b5xvVyzUnXI)"
   ]
  },
  {
   "cell_type": "markdown",
   "metadata": {},
   "source": [
    "There are two ways to write functions in Julia:"
   ]
  },
  {
   "cell_type": "code",
   "execution_count": null,
   "metadata": {},
   "outputs": [],
   "source": [
    "\"\"\"\n",
    "Calculate the nth Fibonacci number.\n",
    "\"\"\"\n",
    "function long_fib(n)\n",
    "    if n < 2\n",
    "        return n\n",
    "    else\n",
    "        return long_fib(n - 1) + long_fib(n - 2)\n",
    "    end\n",
    "end"
   ]
  },
  {
   "cell_type": "code",
   "execution_count": null,
   "metadata": {},
   "outputs": [],
   "source": [
    "long_fib(20)"
   ]
  },
  {
   "cell_type": "code",
   "execution_count": null,
   "metadata": {},
   "outputs": [],
   "source": [
    "short_fib(n) = n < 2 ? n : short_fib(n - 1) + short_fib(n - 2)"
   ]
  },
  {
   "cell_type": "code",
   "execution_count": null,
   "metadata": {},
   "outputs": [],
   "source": [
    "short_fib(20)"
   ]
  },
  {
   "cell_type": "markdown",
   "metadata": {},
   "source": [
    "## Broadcasting"
   ]
  },
  {
   "cell_type": "markdown",
   "metadata": {},
   "source": [
    "In Python, most functions accept one element.\n",
    "\n",
    "```python\n",
    ">>> import math\n",
    ">>> math.sin([1, 2, 3])\n",
    "```\n",
    "\n",
    "will give an error:\n",
    "\n",
    "```\n",
    "TypeError: must be real number, not list\n",
    "```\n",
    "\n",
    "You can use a list comprehension:\n",
    "\n",
    "```python\n",
    ">>> [math.sin(x) for x in [1, 2, 3]]\n",
    "```\n",
    "\n",
    "or a map:\n",
    "\n",
    "```python\n",
    ">>> map(math.sin, [1, 2, 3])\n",
    "```\n",
    "\n",
    "```\n",
    "[0.8414709848078965, 0.9092974268256817, 0.1411200080598672]\n",
    "```"
   ]
  },
  {
   "cell_type": "markdown",
   "metadata": {},
   "source": [
    "In R, most functions are vectorised\n",
    "\n",
    "```R\n",
    "> sin(c(1, 2, 3))\n",
    "```\n",
    "\n",
    "```\n",
    "[1] 0.8414710 0.9092974 0.1411200\n",
    "```"
   ]
  },
  {
   "cell_type": "markdown",
   "metadata": {},
   "source": [
    "In Julia\n",
    "\n",
    "```julia\n",
    "julia> sin([1, 2, 3])\n",
    "```\n",
    "\n",
    "gives an error\n",
    "\n",
    "```\n",
    "ERROR: MethodError: no method matching sin(::Array{Int64,1})\n",
    "```\n",
    "\n",
    "Using the broadcast operator, the funciton is applied elementwise!"
   ]
  },
  {
   "cell_type": "code",
   "execution_count": null,
   "metadata": {},
   "outputs": [],
   "source": [
    "sin.([1, 2, 3])"
   ]
  },
  {
   "cell_type": "markdown",
   "metadata": {},
   "source": [
    "This is powerful, but sometimes tricky syntax.\n",
    "For example, adding a dot makes the length function broadcast over the array:"
   ]
  },
  {
   "cell_type": "code",
   "execution_count": null,
   "metadata": {},
   "outputs": [],
   "source": [
    "length(split(\"How many words are in this sentence?\"))"
   ]
  },
  {
   "cell_type": "code",
   "execution_count": null,
   "metadata": {},
   "outputs": [],
   "source": [
    "length.(split(\"How many characters are each of these words?\"))"
   ]
  },
  {
   "cell_type": "markdown",
   "metadata": {},
   "source": [
    "Broadcasting even works for user functions"
   ]
  },
  {
   "cell_type": "code",
   "execution_count": null,
   "metadata": {},
   "outputs": [],
   "source": [
    "short_fib.(1:10)"
   ]
  },
  {
   "cell_type": "markdown",
   "metadata": {},
   "source": [
    "And for operators"
   ]
  },
  {
   "cell_type": "markdown",
   "metadata": {},
   "source": [
    "What are the first 10 square numbers?"
   ]
  },
  {
   "cell_type": "code",
   "execution_count": null,
   "metadata": {},
   "outputs": [],
   "source": [
    "(1:10) .^ 2"
   ]
  },
  {
   "cell_type": "markdown",
   "metadata": {},
   "source": [
    "### Julia is (mostly) written in Julia"
   ]
  },
  {
   "cell_type": "markdown",
   "metadata": {},
   "source": [
    "If you can read Julia code, you can also read Julia's source code to understand what it does.\n",
    "\n",
    "I looked at the most recent PR as an example:"
   ]
  },
  {
   "cell_type": "code",
   "execution_count": null,
   "metadata": {},
   "outputs": [],
   "source": [
    "tensor(A::AbstractArray, B::AbstractArray) = [a * b for a in A, b in B]\n",
    "const ⊗ = tensor"
   ]
  },
  {
   "cell_type": "code",
   "execution_count": null,
   "metadata": {},
   "outputs": [],
   "source": [
    "[1, 2] ⊗ [3, 4, 5]"
   ]
  },
  {
   "cell_type": "markdown",
   "metadata": {},
   "source": [
    "Python's numpy is fast because it's mostly written in C/C++ (51.4%), but if you want to do something that numpy can't do, you need to either use C or write slower Python code."
   ]
  },
  {
   "cell_type": "markdown",
   "metadata": {},
   "source": [
    "## Multiple dispatch"
   ]
  },
  {
   "cell_type": "markdown",
   "metadata": {},
   "source": [
    "An example, based on [Measurements.jl](https://github.com/JuliaPhysics/Measurements.jl/)."
   ]
  },
  {
   "cell_type": "code",
   "execution_count": null,
   "metadata": {},
   "outputs": [],
   "source": [
    "\"\"\"\n",
    "A number with some error.\n",
    "\"\"\"\n",
    "struct Uncertain <: Real\n",
    "    val::Real\n",
    "    err::Real\n",
    "end"
   ]
  },
  {
   "cell_type": "markdown",
   "metadata": {},
   "source": [
    "Define the standard gravity on earth."
   ]
  },
  {
   "cell_type": "code",
   "execution_count": null,
   "metadata": {},
   "outputs": [],
   "source": [
    "g = Uncertain(9.8, 0.1)\n",
    "print(g)"
   ]
  },
  {
   "cell_type": "markdown",
   "metadata": {},
   "source": [
    "Wouldn't it be nicer to show an uncertain number with the plus/minus symbol?"
   ]
  },
  {
   "cell_type": "code",
   "execution_count": null,
   "metadata": {},
   "outputs": [],
   "source": [
    "# Write a show function that dispatches on the Uncertain type\n",
    "Base.show(io::IO, x::Uncertain) = print(io, \"$(x.val) ∓ $(x.err)\")\n",
    "print(g)"
   ]
  },
  {
   "cell_type": "markdown",
   "metadata": {},
   "source": [
    "Let's define an operator"
   ]
  },
  {
   "cell_type": "code",
   "execution_count": null,
   "metadata": {},
   "outputs": [],
   "source": [
    "∓(a, b) = Uncertain(a, b)\n",
    "my_height = 190 ∓ 1"
   ]
  },
  {
   "cell_type": "markdown",
   "metadata": {},
   "source": [
    "How do you add two uncertain measurements?\n",
    "\n",
    "$$\n",
    "Q = a + b \\\\\n",
    "{\\delta Q} = \\sqrt{(\\delta a)^2 + (\\delta b)^2}\n",
    "$$"
   ]
  },
  {
   "cell_type": "code",
   "execution_count": null,
   "metadata": {},
   "outputs": [],
   "source": [
    "Base.:+(a::Uncertain, b::Uncertain) = (a.val + b.val) ∓ sqrt(a.err^2 + b.err^2)"
   ]
  },
  {
   "cell_type": "code",
   "execution_count": null,
   "metadata": {},
   "outputs": [],
   "source": [
    "my_brothers_height = 160 ∓ 1\n",
    "my_height + my_brothers_height"
   ]
  },
  {
   "cell_type": "markdown",
   "metadata": {},
   "source": [
    "Similar for subtraction."
   ]
  },
  {
   "cell_type": "code",
   "execution_count": null,
   "metadata": {},
   "outputs": [],
   "source": [
    "Base.:-(a::Uncertain, b::Uncertain) = Uncertain(a.val - b.val, sqrt(a.err^2 + b.err^2))"
   ]
  },
  {
   "cell_type": "code",
   "execution_count": null,
   "metadata": {},
   "outputs": [],
   "source": [
    "my_height - my_brothers_height"
   ]
  },
  {
   "cell_type": "markdown",
   "metadata": {},
   "source": [
    "Slightly more complicated for multiplcation and division."
   ]
  },
  {
   "cell_type": "code",
   "execution_count": null,
   "metadata": {},
   "outputs": [],
   "source": [
    "function Base.:*(a::Uncertain, b::Uncertain) \n",
    "    total_value = a.val * b.val\n",
    "    total_error = total_value * sqrt((a.err / a.val)^2 + (b.err / b.val)^2)\n",
    "    return Uncertain(total_value, total_error)\n",
    "end\n",
    "\n",
    "function Base.:/(a::Uncertain, b::Uncertain) \n",
    "    total_value = a.val / b.val\n",
    "    total_error = total_value * sqrt((a.err / a.val)^2 + (b.err / b.val)^2)\n",
    "    return Uncertain(total_value, total_error)\n",
    "end"
   ]
  },
  {
   "cell_type": "code",
   "execution_count": null,
   "metadata": {},
   "outputs": [],
   "source": [
    "println(my_height * my_brothers_height)\n",
    "println(my_height / my_brothers_height)"
   ]
  },
  {
   "cell_type": "markdown",
   "metadata": {},
   "source": [
    "Finally powers, again the exact formula is not important."
   ]
  },
  {
   "cell_type": "code",
   "execution_count": null,
   "metadata": {},
   "outputs": [],
   "source": [
    "Base.:^(a::Uncertain, b::Real) = (a.val^b) ∓ (abs(b) * a.val^(b - 1) * a.err)"
   ]
  },
  {
   "cell_type": "code",
   "execution_count": null,
   "metadata": {},
   "outputs": [],
   "source": [
    "Base.promote_rule(::Type{Uncertain}, ::Type{T}) where T <: Real = Uncertain\n",
    "Base.convert(::Type{Uncertain}, x::Real) = Uncertain(x, 0)\n",
    "Base.convert(::Type{Uncertain}, x::Uncertain) = x"
   ]
  },
  {
   "cell_type": "markdown",
   "metadata": {},
   "source": [
    "Solve for t:\n",
    "$$\n",
    "t = \\frac{\\sqrt{2 a s + u^2} - u}{a}\n",
    "$$"
   ]
  },
  {
   "cell_type": "code",
   "execution_count": null,
   "metadata": {},
   "outputs": [],
   "source": [
    "t = ((2 * g * (my_height - my_brothers_height))^0.5) / g"
   ]
  },
  {
   "cell_type": "markdown",
   "metadata": {},
   "source": [
    "Let's use the actual Measurements.jl package"
   ]
  },
  {
   "cell_type": "code",
   "execution_count": null,
   "metadata": {},
   "outputs": [],
   "source": [
    "using Measurements: Measurement, ±"
   ]
  },
  {
   "cell_type": "code",
   "execution_count": null,
   "metadata": {},
   "outputs": [],
   "source": [
    "g = 9.8 ± 0.1\n",
    "my_height = 190 ± 1\n",
    "my_brothers_height = 160 ± 1"
   ]
  },
  {
   "cell_type": "code",
   "execution_count": null,
   "metadata": {},
   "outputs": [],
   "source": [
    "t = ((2 * g * (my_height - my_brothers_height))^0.5) / g"
   ]
  },
  {
   "cell_type": "code",
   "execution_count": null,
   "metadata": {},
   "outputs": [],
   "source": [
    "using DifferentialEquations\n",
    "f(s,p,t) = (-9.8 ± 0.1) * t\n",
    "s₀ = 190 ± 1\n",
    "tspan = (0.0, 3.0)\n",
    "problem = ODEProblem(f, s₀, tspan)\n",
    "solution = solve(problem, Tsit5(),  saveat = 0.1)"
   ]
  },
  {
   "cell_type": "code",
   "execution_count": null,
   "metadata": {},
   "outputs": [],
   "source": [
    "using Plots\n",
    "plot(solution.t,solution.u,\n",
    "title = \"Solution to the ODE\",\n",
    "     xaxis = \"Time (t) in seconds\",\n",
    "     yaxis = \"Displacement s(t) in metres\") "
   ]
  },
  {
   "cell_type": "markdown",
   "metadata": {},
   "source": [
    "## PyCall"
   ]
  },
  {
   "cell_type": "code",
   "execution_count": null,
   "metadata": {},
   "outputs": [],
   "source": [
    "using PyCall\n",
    "math = pyimport(\"math\")\n",
    "math.sin(math.pi / 4)"
   ]
  },
  {
   "cell_type": "code",
   "execution_count": null,
   "metadata": {},
   "outputs": [],
   "source": []
  },
  {
   "cell_type": "code",
   "execution_count": null,
   "metadata": {},
   "outputs": [],
   "source": [
    "py\"\"\"\n",
    "def pyfib(n, fun):\n",
    "    print(\"🐍\")\n",
    "    if n < 2:\n",
    "        return n\n",
    "    else:\n",
    "        return fun(n - 1, pyfib) + fun(n - 2, pyfib)\n",
    "\"\"\"\n",
    "\n",
    "function jlfib(n, fun)\n",
    "    print(\"🐈\")\n",
    "    if n < 2\n",
    "        return n\n",
    "    else\n",
    "        return fun(n - 1, jlfib) + fun(n - 2, jlfib)\n",
    "    end\n",
    "end"
   ]
  },
  {
   "cell_type": "markdown",
   "metadata": {},
   "source": [
    "## Disadvantages"
   ]
  },
  {
   "cell_type": "code",
   "execution_count": null,
   "metadata": {},
   "outputs": [],
   "source": []
  },
  {
   "cell_type": "markdown",
   "metadata": {},
   "source": [
    "- Super slow to load\n",
    "  - That JIT compiler means the first time a function is run it's super slow as it compiles\n",
    "    - It's instant the seocnd time you run it (in the same session), but for a function that only runs once, it's not great.\n",
    "    - The way people talk about this is the \"time to first plot problem\", i.e. how long does it take to start the language's REPL, load some data packages, load some data and then plot it.\n",
    "\t  - For python/R it's < 5 seconds int total\n",
    "\t  - but for Julia you can wait like 10 seconds for a plotting package like `Gadfly.jl` to load, then another 5-10 seconds to produce the first plot. After that is done, plotting the second time is very quick obvs.\n",
    "  - Being worked on though. There was recently a 15% speed up and there should be another 20% speed up soon, so < 10 seconds.\n",
    "  - The current advice is to leave the REPL/Jupyter notebook open while you work on it. You can use `Revise.jl` to automatically reload your package if you're developing a package.\n",
    "- Some (i.e. a lot of) packages are just not there yet in terms of maturity\n",
    "- Julia's integers are machine integers, so they overflow\n",
    "- Some more general programming things are harder to do in Julia, e.g. GUIs, , serving web stuff (although this is aparently a lot better with the new `Genie.jl` framework)\n",
    "- Currently the only way to compile a binary is to include all of Julia in each binary.\n",
    "  - This is being worked on "
   ]
  },
  {
   "cell_type": "markdown",
   "metadata": {},
   "source": [
    "## Julia in action"
   ]
  },
  {
   "cell_type": "markdown",
   "metadata": {},
   "source": [
    "- Aviva, the UK’s largest insurer, uses the language for calculating complex risk models\n",
    "- The Boston Public School District used Julia to optimize school bus routes, saving over $5 million in tax funds\n",
    "- NASA ran it on one of the top five supercomputers in the world, cataloging every visible astronomical light source in the observable universe for the first time in a mere 15 minutes\n",
    "\n",
    "> Source: [Julia: A Solution to the Two-Language Programming Problem](https://thebottomline.as.ucsb.edu/2018/10/julia-a-solution-to-the-two-language-programming-problem)"
   ]
  },
  {
   "cell_type": "markdown",
   "metadata": {},
   "source": []
  },
  {
   "cell_type": "code",
   "execution_count": null,
   "metadata": {},
   "outputs": [],
   "source": []
  }
 ],
 "metadata": {
  "kernelspec": {
   "display_name": "Julia 1.4.1",
   "language": "julia",
   "name": "julia-1.4"
  },
  "language_info": {
   "file_extension": ".jl",
   "mimetype": "application/julia",
   "name": "julia",
   "version": "1.4.1"
  }
 },
 "nbformat": 4,
 "nbformat_minor": 4
}
