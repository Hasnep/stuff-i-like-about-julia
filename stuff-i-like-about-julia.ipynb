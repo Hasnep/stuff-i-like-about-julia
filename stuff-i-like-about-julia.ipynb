{
 "cells": [
  {
   "cell_type": "markdown",
   "source": [
    "# Stuff I Like About The Julia Programming Language"
   ],
   "metadata": {}
  },
  {
   "cell_type": "markdown",
   "source": [
    "`git_club 2020-06-19` - Hannes"
   ],
   "metadata": {}
  },
  {
   "cell_type": "markdown",
   "source": [
    "[View this notebook online](https://nbviewer.jupyter.org/github/Hasnep/stuff-i-like-about-julia/blob/master/stuff-i-like-about-julia.ipynb)"
   ],
   "metadata": {}
  },
  {
   "cell_type": "markdown",
   "source": [
    "> Julia's unofficial tagline is \"Looks like Python, feels like Lisp, runs like Fortran.\"\n",
    "> I've been learning Julia for slightly less than a year now, and I'd like to share some of the things I've enjoyed about it.\n",
    "> I'll give an overview of the language's main features with code examples and discuss whether it really is the future scientific computing."
   ],
   "metadata": {}
  },
  {
   "cell_type": "markdown",
   "source": [
    "Technically:\n",
    "> Julia is a high level, JIT compiled, dynamic language designed with multiple dispatch, automatic differentiation and metaprogramming."
   ],
   "metadata": {}
  },
  {
   "cell_type": "markdown",
   "source": [
    "In practice:\n",
    "> Julia finds a balance between being fast and easy to use with lots of features you'll miss when you use another language."
   ],
   "metadata": {}
  },
  {
   "cell_type": "markdown",
   "source": [
    "## History"
   ],
   "metadata": {}
  },
  {
   "cell_type": "markdown",
   "source": [
    "- Julia was started in 2009 by Jeff Bezanson, Stefan Karpinski, Viral B. Shah, and Alan Edelman\n",
    "- Announced in 2012\n",
    "- Version 1.0 was released in 2018\n",
    "- Now on version 1.4, heading for 1.5 soon"
   ],
   "metadata": {}
  },
  {
   "cell_type": "markdown",
   "source": [
    "## Julia is easy to use"
   ],
   "metadata": {}
  },
  {
   "cell_type": "markdown",
   "source": [
    "Let's write a function from scratch to sum an array of numbers, first in Python:\n",
    "```python\n",
    "def my_sum(array):\n",
    "    \"\"\"\n",
    "    Sum a list.\n",
    "    \"\"\"\n",
    "    total = 0\n",
    "    for x in array:\n",
    "        total += x\n",
    "    return total\n",
    "```"
   ],
   "metadata": {}
  },
  {
   "cell_type": "markdown",
   "source": [
    "Then in Julia:"
   ],
   "metadata": {}
  },
  {
   "outputs": [
    {
     "output_type": "execute_result",
     "data": {
      "text/plain": "Main.##302.my_sum"
     },
     "metadata": {},
     "execution_count": 1
    }
   ],
   "cell_type": "code",
   "source": [
    "\"\"\"\n",
    "Sum an array.\n",
    "\"\"\"\n",
    "function my_sum(array)\n",
    "    total = 0\n",
    "    for x in array\n",
    "        total += x\n",
    "    end\n",
    "    return total\n",
    "end"
   ],
   "metadata": {},
   "execution_count": 1
  },
  {
   "cell_type": "markdown",
   "source": [
    "This syntax will be familliar if you've used Python."
   ],
   "metadata": {}
  },
  {
   "outputs": [
    {
     "output_type": "execute_result",
     "data": {
      "text/plain": "55"
     },
     "metadata": {},
     "execution_count": 2
    }
   ],
   "cell_type": "code",
   "source": [
    "my_sum(1:10)"
   ],
   "metadata": {},
   "execution_count": 2
  },
  {
   "cell_type": "markdown",
   "source": [
    "Benchmarks for this function in different languages:\n",
    "- C: ~10ms\n",
    "- Python: ~500ms\n",
    "- Julia: ~10ms\n",
    "> Source: [An Introduction to Julia (Beginner Level) | SciPy 2018 Tutorial | Jane Herriman, Sacha Verweij](https://www.youtube.com/watch?v=b5xvVyzUnXI)"
   ],
   "metadata": {}
  },
  {
   "cell_type": "markdown",
   "source": [
    "## It's fast"
   ],
   "metadata": {}
  },
  {
   "cell_type": "markdown",
   "source": [
    "Julia was designed to solve the \"two language problem\", where researchers use a slower, high-level language for research and then have to use a slower, low-level language once they hit a bottleneck or for production.\n",
    "Julia is both languages at the same time!"
   ],
   "metadata": {}
  },
  {
   "cell_type": "markdown",
   "source": [
    "Some benchmarks (from the Julia website) of different languages relative to C.\n",
    "![Benchmarks of different languages relative to C](https://julialang.org/assets/benchmarks/benchmarks.svg)\n",
    "> Source: https://julialang.org/benchmarks/"
   ],
   "metadata": {}
  },
  {
   "cell_type": "markdown",
   "source": [
    "These benchmarks try to compare implementations of the same algorithm.\n",
    "Julia is comparable to compiled languages like Rust, Go, Fortran, etc. and is sometimes faster than C.\n",
    "Python is sometimes 100x slower than C.\n",
    "R is a bit slower than that."
   ],
   "metadata": {}
  },
  {
   "cell_type": "markdown",
   "source": [
    "How is it so fast?"
   ],
   "metadata": {}
  },
  {
   "cell_type": "markdown",
   "source": [
    "Generally languages fall into two categories:"
   ],
   "metadata": {}
  },
  {
   "cell_type": "markdown",
   "source": [
    "- Compiled languages like C or Rust compile all the code before you run\n",
    "- Interpreted languages like Python or R don't compile"
   ],
   "metadata": {}
  },
  {
   "cell_type": "markdown",
   "source": [
    "Julia uses a _Just-In-Time_ (JIT) compiler which compiles a function the first time it is called."
   ],
   "metadata": {}
  },
  {
   "cell_type": "markdown",
   "source": [
    "In my opinion, speed doesn't matter all that much"
   ],
   "metadata": {}
  },
  {
   "cell_type": "markdown",
   "source": [
    "- JIT compilation takes a short while\n",
    "- My time is more valuable than the computer's time"
   ],
   "metadata": {}
  },
  {
   "cell_type": "markdown",
   "source": [
    "Now, back to some code!"
   ],
   "metadata": {}
  },
  {
   "cell_type": "markdown",
   "source": [
    "## Dynamically typed"
   ],
   "metadata": {}
  },
  {
   "cell_type": "markdown",
   "source": [
    "Let's write a function to calculate the $n$th Fibonacci number.\n",
    "We want the input `n` to only allow integers and we want to specify the output should only be integers."
   ],
   "metadata": {}
  },
  {
   "outputs": [
    {
     "output_type": "execute_result",
     "data": {
      "text/plain": "Main.##302.fib"
     },
     "metadata": {},
     "execution_count": 3
    }
   ],
   "cell_type": "code",
   "source": [
    "\"\"\"\n",
    "Calculate the nth Fibonacci number.\n",
    "\"\"\"\n",
    "function fib(n::Integer)::Integer\n",
    "    if n < 2\n",
    "        return n\n",
    "    else\n",
    "        return fib(n - 1) + fib(n - 2)\n",
    "    end\n",
    "end"
   ],
   "metadata": {},
   "execution_count": 3
  },
  {
   "cell_type": "markdown",
   "source": [
    "If we try to run the function with a non-integer input"
   ],
   "metadata": {}
  },
  {
   "cell_type": "markdown",
   "source": [
    "```julia\n",
    "julia> fib(0.5)\n",
    "```"
   ],
   "metadata": {}
  },
  {
   "cell_type": "markdown",
   "source": [
    "Julia will throw an error:"
   ],
   "metadata": {}
  },
  {
   "cell_type": "markdown",
   "source": [
    "```\n",
    "ERROR: MethodError: no method matching fib(::Float64)\n",
    "Closest candidates are:\n",
    "  fib(::Integer)\n",
    "```"
   ],
   "metadata": {}
  },
  {
   "outputs": [
    {
     "output_type": "execute_result",
     "data": {
      "text/plain": "6765"
     },
     "metadata": {},
     "execution_count": 4
    }
   ],
   "cell_type": "code",
   "source": [
    "fib(20)"
   ],
   "metadata": {},
   "execution_count": 4
  },
  {
   "cell_type": "markdown",
   "source": [
    "There is also a one-line function notation that is useful for short functions"
   ],
   "metadata": {}
  },
  {
   "outputs": [
    {
     "output_type": "execute_result",
     "data": {
      "text/plain": "6765"
     },
     "metadata": {},
     "execution_count": 5
    }
   ],
   "cell_type": "code",
   "source": [
    "short_fib(n::Integer)::Integer = n < 2 ? n : short_fib(n - 1) + short_fib(n - 2)\n",
    "\n",
    "short_fib(20)"
   ],
   "metadata": {},
   "execution_count": 5
  },
  {
   "cell_type": "markdown",
   "source": [
    "## It's free!"
   ],
   "metadata": {}
  },
  {
   "cell_type": "markdown",
   "source": [
    "Julia is MIT licenced."
   ],
   "metadata": {}
  },
  {
   "cell_type": "markdown",
   "source": [
    "## Broadcasting"
   ],
   "metadata": {}
  },
  {
   "cell_type": "markdown",
   "source": [
    "In Python, most functions accept one element.\n",
    "Running this code:\n",
    "```python\n",
    ">>> import math\n",
    ">>> math.sin([1, 2, 3])\n",
    "```\n",
    "will give this error:\n",
    "```\n",
    "TypeError: must be real number, not list\n",
    "```\n",
    "Pythonistas would probably use a list comprehension:\n",
    "```python\n",
    ">>> [math.sin(x) for x in [1, 2, 3]]\n",
    "```\n",
    "or a map:\n",
    "```python\n",
    ">>> map(math.sin, [1, 2, 3])\n",
    "```\n",
    "```\n",
    "[0.8414709848078965, 0.9092974268256817, 0.1411200080598672]\n",
    "```"
   ],
   "metadata": {}
  },
  {
   "cell_type": "markdown",
   "source": [
    "In R, most functions are vectorised\n",
    "```R\n",
    "> sin(c(1, 2, 3))\n",
    "```\n",
    "```\n",
    "[1] 0.8414710 0.9092974 0.1411200\n",
    "```"
   ],
   "metadata": {}
  },
  {
   "cell_type": "markdown",
   "source": [
    "In Julia, functions are not vectorised, for example, this line:\n",
    "```julia\n",
    "julia> sin([1, 2, 3])\n",
    "```\n",
    "gives this error:\n",
    "```\n",
    "ERROR: MethodError: no method matching sin(::Array{Int64,1})\n",
    "```"
   ],
   "metadata": {}
  },
  {
   "cell_type": "markdown",
   "source": [
    "Using the broadcast operator, the funciton is applied elementwise!"
   ],
   "metadata": {}
  },
  {
   "outputs": [
    {
     "output_type": "execute_result",
     "data": {
      "text/plain": "3-element Array{Float64,1}:\n 0.8414709848078965\n 0.9092974268256817\n 0.1411200080598672"
     },
     "metadata": {},
     "execution_count": 6
    }
   ],
   "cell_type": "code",
   "source": [
    "sin.([1, 2, 3])"
   ],
   "metadata": {},
   "execution_count": 6
  },
  {
   "cell_type": "markdown",
   "source": [
    "Broadcasting even works for user functions"
   ],
   "metadata": {}
  },
  {
   "outputs": [
    {
     "output_type": "execute_result",
     "data": {
      "text/plain": "10-element Array{Int64,1}:\n  1\n  1\n  2\n  3\n  5\n  8\n 13\n 21\n 34\n 55"
     },
     "metadata": {},
     "execution_count": 7
    }
   ],
   "cell_type": "code",
   "source": [
    "fib.(1:10)"
   ],
   "metadata": {},
   "execution_count": 7
  },
  {
   "cell_type": "markdown",
   "source": [
    "And for operators:"
   ],
   "metadata": {}
  },
  {
   "outputs": [
    {
     "output_type": "execute_result",
     "data": {
      "text/plain": "10-element Array{Int64,1}:\n   1\n   4\n   9\n  16\n  25\n  36\n  49\n  64\n  81\n 100"
     },
     "metadata": {},
     "execution_count": 8
    }
   ],
   "cell_type": "code",
   "source": [
    "# What are the first 10 square numbers?\n",
    "(1:10).^2"
   ],
   "metadata": {},
   "execution_count": 8
  },
  {
   "cell_type": "markdown",
   "source": [
    "This is powerful, but sometimes tricky syntax.\n",
    "For example, adding a dot makes the length function broadcast over the array:"
   ],
   "metadata": {}
  },
  {
   "outputs": [
    {
     "output_type": "execute_result",
     "data": {
      "text/plain": "7"
     },
     "metadata": {},
     "execution_count": 9
    }
   ],
   "cell_type": "code",
   "source": [
    "length(split(\"How many words are in this sentence?\"))"
   ],
   "metadata": {},
   "execution_count": 9
  },
  {
   "cell_type": "markdown",
   "source": [
    "+"
   ],
   "metadata": {}
  },
  {
   "outputs": [
    {
     "output_type": "execute_result",
     "data": {
      "text/plain": "8-element Array{Int64,1}:\n  3\n  4\n 10\n  3\n  4\n  2\n  5\n  6"
     },
     "metadata": {},
     "execution_count": 10
    }
   ],
   "cell_type": "code",
   "source": [
    "length.(split(\"How many characters are each of these words?\"))"
   ],
   "metadata": {},
   "execution_count": 10
  },
  {
   "cell_type": "markdown",
   "source": [
    "## Useful Unicode characters"
   ],
   "metadata": {}
  },
  {
   "cell_type": "markdown",
   "source": [
    "Julia lets you type lots of symbols using LaTeX-y abbreviations, e.g. type `\\alpha` and press tab for α or `\\sqrt` and tab for √."
   ],
   "metadata": {}
  },
  {
   "outputs": [
    {
     "output_type": "execute_result",
     "data": {
      "text/plain": "37"
     },
     "metadata": {},
     "execution_count": 11
    }
   ],
   "cell_type": "code",
   "source": [
    "α = 37"
   ],
   "metadata": {},
   "execution_count": 11
  },
  {
   "cell_type": "markdown",
   "source": [
    "The square root symbol is an abbreviation for the `sqrt()` function:"
   ],
   "metadata": {}
  },
  {
   "outputs": [
    {
     "output_type": "execute_result",
     "data": {
      "text/plain": "6.082762530298219"
     },
     "metadata": {},
     "execution_count": 12
    }
   ],
   "cell_type": "code",
   "source": [
    "√α"
   ],
   "metadata": {},
   "execution_count": 12
  },
  {
   "cell_type": "markdown",
   "source": [
    "Some constants like π for pi and ℯ for Euler's constant are predefined:"
   ],
   "metadata": {}
  },
  {
   "outputs": [
    {
     "output_type": "execute_result",
     "data": {
      "text/plain": "true"
     },
     "metadata": {},
     "execution_count": 13
    }
   ],
   "cell_type": "code",
   "source": [
    "# Use the approximate equals sign ≈ because this calculation is not exact\n",
    "ℯ^(im * π) ≈ -1"
   ],
   "metadata": {},
   "execution_count": 13
  },
  {
   "cell_type": "markdown",
   "source": [
    "You can define your own operators using either built in functions:"
   ],
   "metadata": {}
  },
  {
   "outputs": [
    {
     "output_type": "execute_result",
     "data": {
      "text/plain": "true"
     },
     "metadata": {},
     "execution_count": 14
    }
   ],
   "cell_type": "code",
   "source": [
    "const ⊂ = issubset\n",
    "[2, 5] ⊂ [1, 2, 3, 4, 5]"
   ],
   "metadata": {},
   "execution_count": 14
  },
  {
   "cell_type": "markdown",
   "source": [
    "or user functions:"
   ],
   "metadata": {}
  },
  {
   "outputs": [
    {
     "output_type": "execute_result",
     "data": {
      "text/plain": "55"
     },
     "metadata": {},
     "execution_count": 15
    }
   ],
   "cell_type": "code",
   "source": [
    "const ∑ = my_sum\n",
    "∑(1:10)"
   ],
   "metadata": {},
   "execution_count": 15
  },
  {
   "cell_type": "markdown",
   "source": [
    "Because Julia supports almost any symbol you can type as a variable name, that includes emojis!"
   ],
   "metadata": {}
  },
  {
   "outputs": [
    {
     "output_type": "execute_result",
     "data": {
      "text/plain": "true"
     },
     "metadata": {},
     "execution_count": 16
    }
   ],
   "cell_type": "code",
   "source": [
    "🔥 = 10\n",
    "🐶 = 20\n",
    "🌭 = 30\n",
    "🔥 + 🐶 == 🌭"
   ],
   "metadata": {},
   "execution_count": 16
  },
  {
   "cell_type": "markdown",
   "source": [
    "## Julia is (mostly) written in Julia"
   ],
   "metadata": {}
  },
  {
   "cell_type": "markdown",
   "source": [
    "If you can read Julia code, you can also read Julia's source code to understand what it does.\n",
    "I looked at the most recent PR as an example:"
   ],
   "metadata": {}
  },
  {
   "outputs": [
    {
     "output_type": "execute_result",
     "data": {
      "text/plain": "tensor (generic function with 1 method)"
     },
     "metadata": {},
     "execution_count": 17
    }
   ],
   "cell_type": "code",
   "source": [
    "tensor(A::AbstractArray, B::AbstractArray) = [a * b for a in A, b in B]\n",
    "const ⊗ = tensor"
   ],
   "metadata": {},
   "execution_count": 17
  },
  {
   "outputs": [
    {
     "output_type": "execute_result",
     "data": {
      "text/plain": "2×3 Array{Int64,2}:\n 3  4   5\n 6  8  10"
     },
     "metadata": {},
     "execution_count": 18
    }
   ],
   "cell_type": "code",
   "source": [
    "[1, 2] ⊗ [3, 4, 5]"
   ],
   "metadata": {},
   "execution_count": 18
  },
  {
   "cell_type": "markdown",
   "source": [
    "Python's numpy is fast because it's mostly written in C/C++ (51.4%), but if you want to do something that numpy can't do, you need to either use C++ or write slower Python code."
   ],
   "metadata": {}
  },
  {
   "cell_type": "markdown",
   "source": [
    "This bridges the gap between a Julia user and a Julia developer.\n",
    "For every user of Julia, there's another possible contributer."
   ],
   "metadata": {}
  },
  {
   "cell_type": "markdown",
   "source": [
    "## Multiple dispatch"
   ],
   "metadata": {}
  },
  {
   "cell_type": "markdown",
   "source": [
    "As an example, let's build a small Julia package based on [Measurements.jl](https://github.com/JuliaPhysics/Measurements.jl/)."
   ],
   "metadata": {}
  },
  {
   "outputs": [
    {
     "output_type": "execute_result",
     "data": {
      "text/plain": "Main.##302.Uncertain"
     },
     "metadata": {},
     "execution_count": 19
    }
   ],
   "cell_type": "code",
   "source": [
    "\"\"\"\n",
    "A number with some error.\n",
    "\"\"\"\n",
    "struct Uncertain <: Real\n",
    "    val::Real\n",
    "    err::Real\n",
    "end"
   ],
   "metadata": {},
   "execution_count": 19
  },
  {
   "cell_type": "markdown",
   "source": [
    "Define the standard gravity on earth."
   ],
   "metadata": {}
  },
  {
   "outputs": [
    {
     "output_type": "execute_result",
     "data": {
      "text/plain": "Main.##302.Uncertain(9.8, 0.1)"
     },
     "metadata": {},
     "execution_count": 20
    }
   ],
   "cell_type": "code",
   "source": [
    "g = Uncertain(9.8, 0.1)"
   ],
   "metadata": {},
   "execution_count": 20
  },
  {
   "cell_type": "markdown",
   "source": [
    "Wouldn't it be nicer to show an uncertain number with the plus/minus symbol?\n",
    "Let's write a show function that dispatches on the Uncertain type:"
   ],
   "metadata": {}
  },
  {
   "outputs": [
    {
     "output_type": "execute_result",
     "data": {
      "text/plain": "9.8 ∓ 0.1"
     },
     "metadata": {},
     "execution_count": 21
    }
   ],
   "cell_type": "code",
   "source": [
    "Base.show(io::IO, x::Uncertain) = print(io, \"$(x.val) ∓ $(x.err)\")\n",
    "\n",
    "g"
   ],
   "metadata": {},
   "execution_count": 21
  },
  {
   "cell_type": "markdown",
   "source": [
    "Let's define the plus/minus operator to create `Uncertain` numbers:"
   ],
   "metadata": {}
  },
  {
   "outputs": [
    {
     "output_type": "execute_result",
     "data": {
      "text/plain": "190 ∓ 1"
     },
     "metadata": {},
     "execution_count": 22
    }
   ],
   "cell_type": "code",
   "source": [
    "∓(a::Real, b::Real) = Uncertain(a, b)\n",
    "my_height = 190 ∓ 1"
   ],
   "metadata": {},
   "execution_count": 22
  },
  {
   "cell_type": "markdown",
   "source": [
    "How do you add two uncertain measurements?"
   ],
   "metadata": {}
  },
  {
   "outputs": [
    {
     "output_type": "execute_result",
     "data": {
      "text/plain": "175 ∓ 2"
     },
     "metadata": {},
     "execution_count": 23
    }
   ],
   "cell_type": "code",
   "source": [
    "my_brothers_height = 175 ∓ 2"
   ],
   "metadata": {},
   "execution_count": 23
  },
  {
   "cell_type": "markdown",
   "source": [
    "```julia\n",
    "julia> my_height + my_brothers_height\n",
    "```\n",
    "```\n",
    "ERROR: + not defined for Uncertain\n",
    "```"
   ],
   "metadata": {}
  },
  {
   "cell_type": "markdown",
   "source": [
    "$$\n",
    "Q = a + b \\\\\n",
    "{\\delta Q} = \\sqrt{(\\delta a)^2 + (\\delta b)^2}\n",
    "$$"
   ],
   "metadata": {}
  },
  {
   "outputs": [
    {
     "output_type": "execute_result",
     "data": {
      "text/plain": "365 ∓ 2.23606797749979"
     },
     "metadata": {},
     "execution_count": 24
    }
   ],
   "cell_type": "code",
   "source": [
    "Base.:+(a::Uncertain, b::Uncertain) = (a.val + b.val) ∓ sqrt(a.err^2 + b.err^2)\n",
    "my_height + my_brothers_height"
   ],
   "metadata": {},
   "execution_count": 24
  },
  {
   "cell_type": "markdown",
   "source": [
    "Similar for subtraction."
   ],
   "metadata": {}
  },
  {
   "outputs": [
    {
     "output_type": "execute_result",
     "data": {
      "text/plain": "15 ∓ 2.23606797749979"
     },
     "metadata": {},
     "execution_count": 25
    }
   ],
   "cell_type": "code",
   "source": [
    "Base.:-(a::Uncertain, b::Uncertain) = (a.val - b.val) ∓ sqrt(a.err^2 + b.err^2)\n",
    "my_height - my_brothers_height"
   ],
   "metadata": {},
   "execution_count": 25
  },
  {
   "cell_type": "markdown",
   "source": [
    "Slightly more complicated for multiplcation and division."
   ],
   "metadata": {}
  },
  {
   "outputs": [],
   "cell_type": "code",
   "source": [
    "function Base.:*(a::Uncertain, b::Uncertain)\n",
    "    total_value = a.val * b.val\n",
    "    total_error = total_value * sqrt((a.err / a.val)^2 + (b.err / b.val)^2)\n",
    "    return Uncertain(total_value, total_error)\n",
    "end\n",
    "\n",
    "function Base.:/(a::Uncertain, b::Uncertain)\n",
    "    total_value = a.val / b.val\n",
    "    total_error = total_value * sqrt((a.err / a.val)^2 + (b.err / b.val)^2)\n",
    "    return Uncertain(total_value, total_error)\n",
    "end"
   ],
   "metadata": {},
   "execution_count": 26
  },
  {
   "outputs": [
    {
     "output_type": "execute_result",
     "data": {
      "text/plain": "33250 ∓ 418.35989291517893"
     },
     "metadata": {},
     "execution_count": 27
    }
   ],
   "cell_type": "code",
   "source": [
    "my_height * my_brothers_height"
   ],
   "metadata": {},
   "execution_count": 27
  },
  {
   "outputs": [
    {
     "output_type": "execute_result",
     "data": {
      "text/plain": "1.0857142857142856 ∓ 0.013660731197230332"
     },
     "metadata": {},
     "execution_count": 28
    }
   ],
   "cell_type": "code",
   "source": [
    "my_height / my_brothers_height"
   ],
   "metadata": {},
   "execution_count": 28
  },
  {
   "cell_type": "markdown",
   "source": [
    "Finally powers, again the exact formula is not important."
   ],
   "metadata": {}
  },
  {
   "outputs": [
    {
     "output_type": "execute_result",
     "data": {
      "text/plain": "36100.0 ∓ 380.0"
     },
     "metadata": {},
     "execution_count": 29
    }
   ],
   "cell_type": "code",
   "source": [
    "Base.:^(a::Uncertain, b::Real) = (a.val^b) ∓ (abs(b) * a.val^(b - 1) * a.err)\n",
    "my_height^2.0"
   ],
   "metadata": {},
   "execution_count": 29
  },
  {
   "cell_type": "markdown",
   "source": [
    "Finally, we need to tell Julia what to do if we give it an `Uncertain` number and some other number in the same operation."
   ],
   "metadata": {}
  },
  {
   "cell_type": "markdown",
   "source": [
    "```julia\n",
    "julia> 1 + g\n",
    "```\n",
    "```\n",
    "ERROR: promotion of types Int64 and Uncertain failed to change any arguments\n",
    "```"
   ],
   "metadata": {}
  },
  {
   "cell_type": "markdown",
   "source": [
    "We want to convert both numbers to our `Uncertain` type:"
   ],
   "metadata": {}
  },
  {
   "outputs": [],
   "cell_type": "code",
   "source": [
    "Base.promote_rule(::Type{Uncertain}, ::Type{T}) where T <: Real = Uncertain"
   ],
   "metadata": {},
   "execution_count": 30
  },
  {
   "cell_type": "markdown",
   "source": [
    "Coverting a real number to our Uncertain type just means we add an error of 0:"
   ],
   "metadata": {}
  },
  {
   "outputs": [],
   "cell_type": "code",
   "source": [
    "Base.convert(::Type{Uncertain}, x::Real) = Uncertain(x, 0)"
   ],
   "metadata": {},
   "execution_count": 31
  },
  {
   "cell_type": "markdown",
   "source": [
    "When Julia wants to convert an Uncertain number it doesn't need to do anything :"
   ],
   "metadata": {}
  },
  {
   "outputs": [],
   "cell_type": "code",
   "source": [
    "Base.convert(::Type{Uncertain}, x::Uncertain) = x"
   ],
   "metadata": {},
   "execution_count": 32
  },
  {
   "outputs": [
    {
     "output_type": "execute_result",
     "data": {
      "text/plain": "10.8 ∓ 0.1"
     },
     "metadata": {},
     "execution_count": 33
    }
   ],
   "cell_type": "code",
   "source": [
    "1 + g"
   ],
   "metadata": {},
   "execution_count": 33
  },
  {
   "cell_type": "markdown",
   "source": [
    "Now we can solve a simple problem, how much time would it take if I dropped a ball from my height and my brother caught it at his height?"
   ],
   "metadata": {}
  },
  {
   "cell_type": "markdown",
   "source": [
    "Solve for t:\n",
    "$$\n",
    "t = \\frac{\\sqrt{2 a s + u^2} - u}{a} = \\frac{\\sqrt{2 g (h_1 - h_2)}}{g}\n",
    "$$"
   ],
   "metadata": {}
  },
  {
   "outputs": [
    {
     "output_type": "execute_result",
     "data": {
      "text/plain": "1.749635530559413 ∓ 0.13192889617888173"
     },
     "metadata": {},
     "execution_count": 34
    }
   ],
   "cell_type": "code",
   "source": [
    "t = ((2 * g * (my_height - my_brothers_height))^0.5) / g"
   ],
   "metadata": {},
   "execution_count": 34
  },
  {
   "cell_type": "markdown",
   "source": [
    "Let's use the actual Measurements.jl package"
   ],
   "metadata": {}
  },
  {
   "outputs": [],
   "cell_type": "code",
   "source": [
    "using Measurements: Measurement, ±"
   ],
   "metadata": {},
   "execution_count": 35
  },
  {
   "cell_type": "markdown",
   "source": [
    "Let's solve the same problem as before and make sure we get the same result:"
   ],
   "metadata": {}
  },
  {
   "outputs": [
    {
     "output_type": "execute_result",
     "data": {
      "text/plain": "1.75 ± 0.13",
      "text/latex": "$1.75 \\pm 0.13$"
     },
     "metadata": {},
     "execution_count": 36
    }
   ],
   "cell_type": "code",
   "source": [
    "g = 9.8 ± 0.1\n",
    "my_height = 190 ± 1\n",
    "my_brothers_height = 175 ± 2\n",
    "\n",
    "t = (2 * g * (my_height - my_brothers_height))^0.5 / g"
   ],
   "metadata": {},
   "execution_count": 36
  },
  {
   "cell_type": "markdown",
   "source": [
    "This next part is inspired by a JuliaCon talk called [_The Unreasonable Effectiveness of Multiple Dispatch_](https://www.youtube.com/watch?v=kc9HwsxE1OY) by one of the Julia co-founders, Stefan Karpinski."
   ],
   "metadata": {}
  },
  {
   "cell_type": "markdown",
   "source": [
    "All the \"methods\" are outside the class definition, that can include being in a completely different package."
   ],
   "metadata": {}
  },
  {
   "cell_type": "markdown",
   "source": [
    "Let's solve the same problem using differential equations!"
   ],
   "metadata": {}
  },
  {
   "cell_type": "markdown",
   "source": [
    "Calculate the position of the ball between time $t = 0$ and $t = 3$\n",
    "$$\n",
    "v = \\frac{ds}{dt}\n",
    "$$\n",
    "$$\n",
    "f(t) = -g t = - (9.8 \\pm 0.1) t\n",
    "$$\n",
    "With initial conditions $s_0 = 190 \\pm 1$"
   ],
   "metadata": {}
  },
  {
   "outputs": [],
   "cell_type": "code",
   "source": [
    "using DifferentialEquations"
   ],
   "metadata": {},
   "execution_count": 37
  },
  {
   "outputs": [
    {
     "output_type": "execute_result",
     "data": {
      "text/plain": "\u001b[36mODEProblem\u001b[0m with uType \u001b[36mMeasurements.Measurement{Float64}\u001b[0m and tType \u001b[36mFloat64\u001b[0m. In-place: \u001b[36mfalse\u001b[0m\ntimespan: (0.0, 3.0)\nu0: 190.0 ± 1.0"
     },
     "metadata": {},
     "execution_count": 38
    }
   ],
   "cell_type": "code",
   "source": [
    "f(s, p, t) = -g * t\n",
    "s₀ = my_height\n",
    "time_span = (0.0, 3.0)\n",
    "problem = ODEProblem(f, s₀, time_span)"
   ],
   "metadata": {},
   "execution_count": 38
  },
  {
   "outputs": [
    {
     "output_type": "execute_result",
     "data": {
      "text/plain": "retcode: Success\nInterpolation: 1st order linear\nt: 31-element Array{Float64,1}:\n 0.0\n 0.1\n 0.2\n 0.3\n 0.4\n 0.5\n 0.6\n 0.7\n 0.8\n 0.9\n ⋮\n 2.2\n 2.3\n 2.4\n 2.5\n 2.6\n 2.7\n 2.8\n 2.9\n 3.0\nu: 31-element Array{Measurements.Measurement{Float64},1}:\n 190.0 ± 1.0\n 190.0 ± 1.0\n 189.8 ± 1.0\n 189.6 ± 1.0\n 189.2 ± 1.0\n 188.8 ± 1.0\n 188.2 ± 1.0\n 187.6 ± 1.0\n 186.9 ± 1.0\n 186.0 ± 1.0\n       ⋮\n 166.3 ± 1.0\n 164.1 ± 1.0\n 161.8 ± 1.0\n 159.4 ± 1.0\n 156.9 ± 1.1\n 154.3 ± 1.1\n 151.6 ± 1.1\n 148.8 ± 1.1\n 145.9 ± 1.1"
     },
     "metadata": {},
     "execution_count": 39
    }
   ],
   "cell_type": "code",
   "source": [
    "solution = solve(problem, Tsit5(),  saveat=0.1)"
   ],
   "metadata": {},
   "execution_count": 39
  },
  {
   "outputs": [],
   "cell_type": "code",
   "source": [
    "using Plots"
   ],
   "metadata": {},
   "execution_count": 40
  },
  {
   "outputs": [
    {
     "output_type": "execute_result",
     "data": {
      "text/plain": "Plot{Plots.GRBackend() n=1}",
      "image/png": "[encoded data removed]",
      "text/html": [
       "<?xml version=\"1.0\" encoding=\"utf-8\"?>\n",
       "<svg xmlns=\"http://www.w3.org/2000/svg\" xmlns:xlink=\"http://www.w3.org/1999/xlink\" width=\"600\" height=\"400\" viewBox=\"0 0 2400 1600\">\n",
       "<defs>\n",
       "  <clipPath id=\"clip800\">\n",
       "    <rect x=\"0\" y=\"0\" width=\"2400\" height=\"1600\"/>\n",
       "  </clipPath>\n",
       "</defs>\n",
       "<path clip-path=\"url(#clip800)\" d=\"\n",
       "M0 1600 L2400 1600 L2400 0 L0 0  Z\n",
       "  \" fill=\"#ffffff\" fill-rule=\"evenodd\" fill-opacity=\"1\"/>\n",
       "<defs>\n",
       "  <clipPath id=\"clip801\">\n",
       "    <rect x=\"480\" y=\"0\" width=\"1681\" height=\"1600\"/>\n",
       "  </clipPath>\n",
       "</defs>\n",
       "<path clip-path=\"url(#clip800)\" d=\"\n",
       "M225.028 1423.18 L2352.76 1423.18 L2352.76 123.472 L225.028 123.472  Z\n",
       "  \" fill=\"#ffffff\" fill-rule=\"evenodd\" fill-opacity=\"1\"/>\n",
       "<defs>\n",
       "  <clipPath id=\"clip802\">\n",
       "    <rect x=\"225\" y=\"123\" width=\"2129\" height=\"1301\"/>\n",
       "  </clipPath>\n",
       "</defs>\n",
       "<polyline clip-path=\"url(#clip802)\" style=\"stroke:#000000; stroke-width:2; stroke-opacity:0.1; fill:none\" points=\"\n",
       "  285.247,1423.18 285.247,123.472 \n",
       "  \"/>\n",
       "<polyline clip-path=\"url(#clip802)\" style=\"stroke:#000000; stroke-width:2; stroke-opacity:0.1; fill:none\" points=\"\n",
       "  954.344,1423.18 954.344,123.472 \n",
       "  \"/>\n",
       "<polyline clip-path=\"url(#clip802)\" style=\"stroke:#000000; stroke-width:2; stroke-opacity:0.1; fill:none\" points=\"\n",
       "  1623.44,1423.18 1623.44,123.472 \n",
       "  \"/>\n",
       "<polyline clip-path=\"url(#clip802)\" style=\"stroke:#000000; stroke-width:2; stroke-opacity:0.1; fill:none\" points=\"\n",
       "  2292.54,1423.18 2292.54,123.472 \n",
       "  \"/>\n",
       "<polyline clip-path=\"url(#clip802)\" style=\"stroke:#000000; stroke-width:2; stroke-opacity:0.1; fill:none\" points=\"\n",
       "  225.028,1248.47 2352.76,1248.47 \n",
       "  \"/>\n",
       "<polyline clip-path=\"url(#clip802)\" style=\"stroke:#000000; stroke-width:2; stroke-opacity:0.1; fill:none\" points=\"\n",
       "  225.028,983.051 2352.76,983.051 \n",
       "  \"/>\n",
       "<polyline clip-path=\"url(#clip802)\" style=\"stroke:#000000; stroke-width:2; stroke-opacity:0.1; fill:none\" points=\"\n",
       "  225.028,717.634 2352.76,717.634 \n",
       "  \"/>\n",
       "<polyline clip-path=\"url(#clip802)\" style=\"stroke:#000000; stroke-width:2; stroke-opacity:0.1; fill:none\" points=\"\n",
       "  225.028,452.216 2352.76,452.216 \n",
       "  \"/>\n",
       "<polyline clip-path=\"url(#clip802)\" style=\"stroke:#000000; stroke-width:2; stroke-opacity:0.1; fill:none\" points=\"\n",
       "  225.028,186.798 2352.76,186.798 \n",
       "  \"/>\n",
       "<polyline clip-path=\"url(#clip800)\" style=\"stroke:#000000; stroke-width:4; stroke-opacity:1; fill:none\" points=\"\n",
       "  225.028,1423.18 2352.76,1423.18 \n",
       "  \"/>\n",
       "<polyline clip-path=\"url(#clip800)\" style=\"stroke:#000000; stroke-width:4; stroke-opacity:1; fill:none\" points=\"\n",
       "  225.028,1423.18 225.028,123.472 \n",
       "  \"/>\n",
       "<polyline clip-path=\"url(#clip800)\" style=\"stroke:#000000; stroke-width:4; stroke-opacity:1; fill:none\" points=\"\n",
       "  285.247,1423.18 285.247,1407.58 \n",
       "  \"/>\n",
       "<polyline clip-path=\"url(#clip800)\" style=\"stroke:#000000; stroke-width:4; stroke-opacity:1; fill:none\" points=\"\n",
       "  954.344,1423.18 954.344,1407.58 \n",
       "  \"/>\n",
       "<polyline clip-path=\"url(#clip800)\" style=\"stroke:#000000; stroke-width:4; stroke-opacity:1; fill:none\" points=\"\n",
       "  1623.44,1423.18 1623.44,1407.58 \n",
       "  \"/>\n",
       "<polyline clip-path=\"url(#clip800)\" style=\"stroke:#000000; stroke-width:4; stroke-opacity:1; fill:none\" points=\"\n",
       "  2292.54,1423.18 2292.54,1407.58 \n",
       "  \"/>\n",
       "<polyline clip-path=\"url(#clip800)\" style=\"stroke:#000000; stroke-width:4; stroke-opacity:1; fill:none\" points=\"\n",
       "  225.028,1248.47 250.561,1248.47 \n",
       "  \"/>\n",
       "<polyline clip-path=\"url(#clip800)\" style=\"stroke:#000000; stroke-width:4; stroke-opacity:1; fill:none\" points=\"\n",
       "  225.028,983.051 250.561,983.051 \n",
       "  \"/>\n",
       "<polyline clip-path=\"url(#clip800)\" style=\"stroke:#000000; stroke-width:4; stroke-opacity:1; fill:none\" points=\"\n",
       "  225.028,717.634 250.561,717.634 \n",
       "  \"/>\n",
       "<polyline clip-path=\"url(#clip800)\" style=\"stroke:#000000; stroke-width:4; stroke-opacity:1; fill:none\" points=\"\n",
       "  225.028,452.216 250.561,452.216 \n",
       "  \"/>\n",
       "<polyline clip-path=\"url(#clip800)\" style=\"stroke:#000000; stroke-width:4; stroke-opacity:1; fill:none\" points=\"\n",
       "  225.028,186.798 250.561,186.798 \n",
       "  \"/>\n",
       "<path clip-path=\"url(#clip800)\" d=\"M 0 0 M285.247 1445.17 Q281.636 1445.17 279.807 1448.74 Q278.002 1452.28 278.002 1459.41 Q278.002 1466.51 279.807 1470.08 Q281.636 1473.62 285.247 1473.62 Q288.881 1473.62 290.687 1470.08 Q292.515 1466.51 292.515 1459.41 Q292.515 1452.28 290.687 1448.74 Q288.881 1445.17 285.247 1445.17 M285.247 1441.47 Q291.057 1441.47 294.113 1446.07 Q297.191 1450.66 297.191 1459.41 Q297.191 1468.13 294.113 1472.74 Q291.057 1477.32 285.247 1477.32 Q279.437 1477.32 276.358 1472.74 Q273.303 1468.13 273.303 1459.41 Q273.303 1450.66 276.358 1446.07 Q279.437 1441.47 285.247 1441.47 Z\" fill=\"#000000\" fill-rule=\"evenodd\" fill-opacity=\"1\" /><path clip-path=\"url(#clip800)\" d=\"M 0 0 M944.726 1472.72 L952.365 1472.72 L952.365 1446.35 L944.054 1448.02 L944.054 1443.76 L952.318 1442.09 L956.994 1442.09 L956.994 1472.72 L964.633 1472.72 L964.633 1476.65 L944.726 1476.65 L944.726 1472.72 Z\" fill=\"#000000\" fill-rule=\"evenodd\" fill-opacity=\"1\" /><path clip-path=\"url(#clip800)\" d=\"M 0 0 M1618.09 1472.72 L1634.41 1472.72 L1634.41 1476.65 L1612.47 1476.65 L1612.47 1472.72 Q1615.13 1469.96 1619.71 1465.33 Q1624.32 1460.68 1625.5 1459.34 Q1627.75 1456.81 1628.63 1455.08 Q1629.53 1453.32 1629.53 1451.63 Q1629.53 1448.87 1627.58 1447.14 Q1625.66 1445.4 1622.56 1445.4 Q1620.36 1445.4 1617.91 1446.17 Q1615.48 1446.93 1612.7 1448.48 L1612.7 1443.76 Q1615.52 1442.62 1617.98 1442.05 Q1620.43 1441.47 1622.47 1441.47 Q1627.84 1441.47 1631.03 1444.15 Q1634.23 1446.84 1634.23 1451.33 Q1634.23 1453.46 1633.42 1455.38 Q1632.63 1457.28 1630.52 1459.87 Q1629.95 1460.54 1626.84 1463.76 Q1623.74 1466.95 1618.09 1472.72 Z\" fill=\"#000000\" fill-rule=\"evenodd\" fill-opacity=\"1\" /><path clip-path=\"url(#clip800)\" d=\"M 0 0 M2296.78 1458.02 Q2300.14 1458.74 2302.02 1461 Q2303.91 1463.27 2303.91 1466.61 Q2303.91 1471.72 2300.4 1474.52 Q2296.88 1477.32 2290.4 1477.32 Q2288.22 1477.32 2285.91 1476.88 Q2283.61 1476.47 2281.16 1475.61 L2281.16 1471.1 Q2283.1 1472.23 2285.42 1472.81 Q2287.73 1473.39 2290.26 1473.39 Q2294.66 1473.39 2296.95 1471.65 Q2299.26 1469.92 2299.26 1466.61 Q2299.26 1463.55 2297.11 1461.84 Q2294.98 1460.1 2291.16 1460.1 L2287.13 1460.1 L2287.13 1456.26 L2291.35 1456.26 Q2294.79 1456.26 2296.62 1454.89 Q2298.45 1453.5 2298.45 1450.91 Q2298.45 1448.25 2296.55 1446.84 Q2294.68 1445.4 2291.16 1445.4 Q2289.24 1445.4 2287.04 1445.82 Q2284.84 1446.24 2282.2 1447.11 L2282.2 1442.95 Q2284.86 1442.21 2287.18 1441.84 Q2289.52 1441.47 2291.58 1441.47 Q2296.9 1441.47 2300 1443.9 Q2303.1 1446.3 2303.1 1450.43 Q2303.1 1453.3 2301.46 1455.29 Q2299.82 1457.25 2296.78 1458.02 Z\" fill=\"#000000\" fill-rule=\"evenodd\" fill-opacity=\"1\" /><path clip-path=\"url(#clip800)\" d=\"M 0 0 M128.089 1261.81 L135.728 1261.81 L135.728 1235.45 L127.418 1237.11 L127.418 1232.86 L135.681 1231.19 L140.357 1231.19 L140.357 1261.81 L147.996 1261.81 L147.996 1265.75 L128.089 1265.75 L128.089 1261.81 Z\" fill=\"#000000\" fill-rule=\"evenodd\" fill-opacity=\"1\" /><path clip-path=\"url(#clip800)\" d=\"M 0 0 M153.112 1231.19 L171.468 1231.19 L171.468 1235.12 L157.394 1235.12 L157.394 1243.6 Q158.413 1243.25 159.431 1243.09 Q160.45 1242.9 161.468 1242.9 Q167.255 1242.9 170.635 1246.07 Q174.015 1249.24 174.015 1254.66 Q174.015 1260.24 170.542 1263.34 Q167.07 1266.42 160.751 1266.42 Q158.575 1266.42 156.306 1266.05 Q154.061 1265.68 151.654 1264.94 L151.654 1260.24 Q153.737 1261.37 155.959 1261.93 Q158.181 1262.49 160.658 1262.49 Q164.663 1262.49 167.001 1260.38 Q169.339 1258.27 169.339 1254.66 Q169.339 1251.05 167.001 1248.94 Q164.663 1246.84 160.658 1246.84 Q158.783 1246.84 156.908 1247.25 Q155.056 1247.67 153.112 1248.55 L153.112 1231.19 Z\" fill=\"#000000\" fill-rule=\"evenodd\" fill-opacity=\"1\" /><path clip-path=\"url(#clip800)\" d=\"M 0 0 M189.084 1234.27 Q185.473 1234.27 183.644 1237.83 Q181.839 1241.37 181.839 1248.5 Q181.839 1255.61 183.644 1259.18 Q185.473 1262.72 189.084 1262.72 Q192.718 1262.72 194.524 1259.18 Q196.352 1255.61 196.352 1248.5 Q196.352 1241.37 194.524 1237.83 Q192.718 1234.27 189.084 1234.27 M189.084 1230.56 Q194.894 1230.56 197.95 1235.17 Q201.028 1239.75 201.028 1248.5 Q201.028 1257.23 197.95 1261.84 Q194.894 1266.42 189.084 1266.42 Q183.274 1266.42 180.195 1261.84 Q177.14 1257.23 177.14 1248.5 Q177.14 1239.75 180.195 1235.17 Q183.274 1230.56 189.084 1230.56 Z\" fill=\"#000000\" fill-rule=\"evenodd\" fill-opacity=\"1\" /><path clip-path=\"url(#clip800)\" d=\"M 0 0 M126.931 996.396 L134.57 996.396 L134.57 970.031 L126.26 971.697 L126.26 967.438 L134.524 965.771 L139.2 965.771 L139.2 996.396 L146.839 996.396 L146.839 1000.33 L126.931 1000.33 L126.931 996.396 Z\" fill=\"#000000\" fill-rule=\"evenodd\" fill-opacity=\"1\" /><path clip-path=\"url(#clip800)\" d=\"M 0 0 M162.487 981.188 Q159.339 981.188 157.487 983.341 Q155.658 985.493 155.658 989.243 Q155.658 992.97 157.487 995.146 Q159.339 997.299 162.487 997.299 Q165.635 997.299 167.464 995.146 Q169.315 992.97 169.315 989.243 Q169.315 985.493 167.464 983.341 Q165.635 981.188 162.487 981.188 M171.769 966.535 L171.769 970.794 Q170.01 969.961 168.204 969.521 Q166.422 969.081 164.663 969.081 Q160.033 969.081 157.579 972.206 Q155.149 975.331 154.802 981.651 Q156.167 979.637 158.228 978.572 Q160.288 977.484 162.765 977.484 Q167.973 977.484 170.982 980.655 Q174.015 983.804 174.015 989.243 Q174.015 994.567 170.866 997.785 Q167.718 1001 162.487 1001 Q156.491 1001 153.32 996.419 Q150.149 991.813 150.149 983.086 Q150.149 974.892 154.038 970.031 Q157.927 965.146 164.478 965.146 Q166.237 965.146 168.019 965.494 Q169.825 965.841 171.769 966.535 Z\" fill=\"#000000\" fill-rule=\"evenodd\" fill-opacity=\"1\" /><path clip-path=\"url(#clip800)\" d=\"M 0 0 M189.084 968.85 Q185.473 968.85 183.644 972.415 Q181.839 975.956 181.839 983.086 Q181.839 990.192 183.644 993.757 Q185.473 997.299 189.084 997.299 Q192.718 997.299 194.524 993.757 Q196.352 990.192 196.352 983.086 Q196.352 975.956 194.524 972.415 Q192.718 968.85 189.084 968.85 M189.084 965.146 Q194.894 965.146 197.95 969.753 Q201.028 974.336 201.028 983.086 Q201.028 991.813 197.95 996.419 Q194.894 1001 189.084 1001 Q183.274 1001 180.195 996.419 Q177.14 991.813 177.14 983.086 Q177.14 974.336 180.195 969.753 Q183.274 965.146 189.084 965.146 Z\" fill=\"#000000\" fill-rule=\"evenodd\" fill-opacity=\"1\" /><path clip-path=\"url(#clip800)\" d=\"M 0 0 M127.996 730.978 L135.635 730.978 L135.635 704.613 L127.325 706.279 L127.325 702.02 L135.589 700.354 L140.265 700.354 L140.265 730.978 L147.904 730.978 L147.904 734.914 L127.996 734.914 L127.996 730.978 Z\" fill=\"#000000\" fill-rule=\"evenodd\" fill-opacity=\"1\" /><path clip-path=\"url(#clip800)\" d=\"M 0 0 M151.792 700.354 L174.015 700.354 L174.015 702.344 L161.468 734.914 L156.584 734.914 L168.39 704.289 L151.792 704.289 L151.792 700.354 Z\" fill=\"#000000\" fill-rule=\"evenodd\" fill-opacity=\"1\" /><path clip-path=\"url(#clip800)\" d=\"M 0 0 M189.084 703.432 Q185.473 703.432 183.644 706.997 Q181.839 710.539 181.839 717.668 Q181.839 724.775 183.644 728.34 Q185.473 731.881 189.084 731.881 Q192.718 731.881 194.524 728.34 Q196.352 724.775 196.352 717.668 Q196.352 710.539 194.524 706.997 Q192.718 703.432 189.084 703.432 M189.084 699.729 Q194.894 699.729 197.95 704.335 Q201.028 708.918 201.028 717.668 Q201.028 726.395 197.95 731.002 Q194.894 735.585 189.084 735.585 Q183.274 735.585 180.195 731.002 Q177.14 726.395 177.14 717.668 Q177.14 708.918 180.195 704.335 Q183.274 699.729 189.084 699.729 Z\" fill=\"#000000\" fill-rule=\"evenodd\" fill-opacity=\"1\" /><path clip-path=\"url(#clip800)\" d=\"M 0 0 M127.186 465.561 L134.825 465.561 L134.825 439.195 L126.515 440.862 L126.515 436.602 L134.779 434.936 L139.455 434.936 L139.455 465.561 L147.093 465.561 L147.093 469.496 L127.186 469.496 L127.186 465.561 Z\" fill=\"#000000\" fill-rule=\"evenodd\" fill-opacity=\"1\" /><path clip-path=\"url(#clip800)\" d=\"M 0 0 M162.163 453.084 Q158.829 453.084 156.908 454.866 Q155.01 456.649 155.01 459.774 Q155.01 462.899 156.908 464.681 Q158.829 466.463 162.163 466.463 Q165.496 466.463 167.417 464.681 Q169.339 462.875 169.339 459.774 Q169.339 456.649 167.417 454.866 Q165.519 453.084 162.163 453.084 M157.487 451.093 Q154.478 450.352 152.788 448.292 Q151.121 446.232 151.121 443.269 Q151.121 439.126 154.061 436.718 Q157.024 434.311 162.163 434.311 Q167.325 434.311 170.265 436.718 Q173.204 439.126 173.204 443.269 Q173.204 446.232 171.515 448.292 Q169.848 450.352 166.862 451.093 Q170.241 451.88 172.116 454.172 Q174.015 456.463 174.015 459.774 Q174.015 464.797 170.936 467.482 Q167.88 470.167 162.163 470.167 Q156.445 470.167 153.366 467.482 Q150.311 464.797 150.311 459.774 Q150.311 456.463 152.209 454.172 Q154.107 451.88 157.487 451.093 M155.774 443.709 Q155.774 446.394 157.441 447.899 Q159.13 449.403 162.163 449.403 Q165.172 449.403 166.862 447.899 Q168.575 446.394 168.575 443.709 Q168.575 441.024 166.862 439.519 Q165.172 438.015 162.163 438.015 Q159.13 438.015 157.441 439.519 Q155.774 441.024 155.774 443.709 Z\" fill=\"#000000\" fill-rule=\"evenodd\" fill-opacity=\"1\" /><path clip-path=\"url(#clip800)\" d=\"M 0 0 M189.084 438.015 Q185.473 438.015 183.644 441.579 Q181.839 445.121 181.839 452.251 Q181.839 459.357 183.644 462.922 Q185.473 466.463 189.084 466.463 Q192.718 466.463 194.524 462.922 Q196.352 459.357 196.352 452.251 Q196.352 445.121 194.524 441.579 Q192.718 438.015 189.084 438.015 M189.084 434.311 Q194.894 434.311 197.95 438.917 Q201.028 443.501 201.028 452.251 Q201.028 460.977 197.95 465.584 Q194.894 470.167 189.084 470.167 Q183.274 470.167 180.195 465.584 Q177.14 460.977 177.14 452.251 Q177.14 443.501 180.195 438.917 Q183.274 434.311 189.084 434.311 Z\" fill=\"#000000\" fill-rule=\"evenodd\" fill-opacity=\"1\" /><path clip-path=\"url(#clip800)\" d=\"M 0 0 M127.279 200.143 L134.918 200.143 L134.918 173.777 L126.607 175.444 L126.607 171.185 L134.871 169.518 L139.547 169.518 L139.547 200.143 L147.186 200.143 L147.186 204.078 L127.279 204.078 L127.279 200.143 Z\" fill=\"#000000\" fill-rule=\"evenodd\" fill-opacity=\"1\" /><path clip-path=\"url(#clip800)\" d=\"M 0 0 M152.394 203.36 L152.394 199.101 Q154.154 199.935 155.959 200.374 Q157.765 200.814 159.501 200.814 Q164.13 200.814 166.561 197.712 Q169.015 194.587 169.362 188.245 Q168.019 190.236 165.959 191.3 Q163.899 192.365 161.399 192.365 Q156.214 192.365 153.181 189.24 Q150.172 186.092 150.172 180.652 Q150.172 175.328 153.32 172.111 Q156.468 168.893 161.7 168.893 Q167.695 168.893 170.843 173.5 Q174.015 178.083 174.015 186.833 Q174.015 195.004 170.126 199.888 Q166.26 204.749 159.709 204.749 Q157.95 204.749 156.144 204.402 Q154.339 204.055 152.394 203.36 M161.7 188.708 Q164.848 188.708 166.677 186.555 Q168.528 184.402 168.528 180.652 Q168.528 176.925 166.677 174.773 Q164.848 172.597 161.7 172.597 Q158.552 172.597 156.7 174.773 Q154.871 176.925 154.871 180.652 Q154.871 184.402 156.7 186.555 Q158.552 188.708 161.7 188.708 Z\" fill=\"#000000\" fill-rule=\"evenodd\" fill-opacity=\"1\" /><path clip-path=\"url(#clip800)\" d=\"M 0 0 M189.084 172.597 Q185.473 172.597 183.644 176.162 Q181.839 179.703 181.839 186.833 Q181.839 193.939 183.644 197.504 Q185.473 201.046 189.084 201.046 Q192.718 201.046 194.524 197.504 Q196.352 193.939 196.352 186.833 Q196.352 179.703 194.524 176.162 Q192.718 172.597 189.084 172.597 M189.084 168.893 Q194.894 168.893 197.95 173.5 Q201.028 178.083 201.028 186.833 Q201.028 195.56 197.95 200.166 Q194.894 204.749 189.084 204.749 Q183.274 204.749 180.195 200.166 Q177.14 195.56 177.14 186.833 Q177.14 178.083 180.195 173.5 Q183.274 168.893 189.084 168.893 Z\" fill=\"#000000\" fill-rule=\"evenodd\" fill-opacity=\"1\" /><path clip-path=\"url(#clip800)\" d=\"M 0 0 M961.822 14.0809 L961.822 22.0612 Q957.164 19.8332 953.032 18.7395 Q948.9 17.6457 945.051 17.6457 Q938.367 17.6457 934.722 20.2383 Q931.116 22.8309 931.116 27.611 Q931.116 31.6214 933.506 33.6873 Q935.937 35.7128 942.661 36.9686 L947.603 37.9813 Q956.758 39.7232 961.093 44.1387 Q965.468 48.5136 965.468 55.8863 Q965.468 64.6767 959.554 69.2137 Q953.68 73.7508 942.297 73.7508 Q938.003 73.7508 933.142 72.7785 Q928.321 71.8063 923.136 69.9024 L923.136 61.4765 Q928.119 64.2716 932.899 65.6895 Q937.679 67.1073 942.297 67.1073 Q949.305 67.1073 953.113 64.3527 Q956.92 61.598 956.92 56.4939 Q956.92 52.0379 954.166 49.5264 Q951.452 47.0148 945.213 45.759 L940.231 44.7868 Q931.076 42.9639 926.984 39.075 Q922.893 35.1862 922.893 28.2591 Q922.893 20.2383 928.524 15.6203 Q934.195 11.0023 944.12 11.0023 Q948.373 11.0023 952.789 11.7719 Q957.204 12.5416 961.822 14.0809 Z\" fill=\"#000000\" fill-rule=\"evenodd\" fill-opacity=\"1\" /><path clip-path=\"url(#clip800)\" d=\"M 0 0 M990.867 32.4315 Q984.872 32.4315 981.388 37.1306 Q977.904 41.7891 977.904 49.9314 Q977.904 58.0738 981.347 62.7728 Q984.831 67.4314 990.867 67.4314 Q996.822 67.4314 1000.31 62.7323 Q1003.79 58.0333 1003.79 49.9314 Q1003.79 41.8701 1000.31 37.1711 Q996.822 32.4315 990.867 32.4315 M990.867 26.1121 Q1000.59 26.1121 1006.14 32.4315 Q1011.69 38.7509 1011.69 49.9314 Q1011.69 61.0714 1006.14 67.4314 Q1000.59 73.7508 990.867 73.7508 Q981.104 73.7508 975.555 67.4314 Q970.045 61.0714 970.045 49.9314 Q970.045 38.7509 975.555 32.4315 Q981.104 26.1121 990.867 26.1121 Z\" fill=\"#000000\" fill-rule=\"evenodd\" fill-opacity=\"1\" /><path clip-path=\"url(#clip800)\" d=\"M 0 0 M1019.51 9.54393 L1026.96 9.54393 L1026.96 72.576 L1019.51 72.576 L1019.51 9.54393 Z\" fill=\"#000000\" fill-rule=\"evenodd\" fill-opacity=\"1\" /><path clip-path=\"url(#clip800)\" d=\"M 0 0 M1034.01 54.671 L1034.01 27.2059 L1041.46 27.2059 L1041.46 54.3874 Q1041.46 60.8284 1043.97 64.0691 Q1046.49 67.2693 1051.51 67.2693 Q1057.54 67.2693 1061.03 63.421 Q1064.55 59.5726 1064.55 52.9291 L1064.55 27.2059 L1072.01 27.2059 L1072.01 72.576 L1064.55 72.576 L1064.55 65.6084 Q1061.84 69.7404 1058.23 71.7658 Q1054.67 73.7508 1049.93 73.7508 Q1042.11 73.7508 1038.06 68.8897 Q1034.01 64.0286 1034.01 54.671 M1052.76 26.1121 L1052.76 26.1121 Z\" fill=\"#000000\" fill-rule=\"evenodd\" fill-opacity=\"1\" /><path clip-path=\"url(#clip800)\" d=\"M 0 0 M1087.2 14.324 L1087.2 27.2059 L1102.55 27.2059 L1102.55 32.9987 L1087.2 32.9987 L1087.2 57.6282 Q1087.2 63.1779 1088.7 64.7578 Q1090.24 66.3376 1094.89 66.3376 L1102.55 66.3376 L1102.55 72.576 L1094.89 72.576 Q1086.27 72.576 1082.98 69.3758 Q1079.7 66.1351 1079.7 57.6282 L1079.7 32.9987 L1074.23 32.9987 L1074.23 27.2059 L1079.7 27.2059 L1079.7 14.324 L1087.2 14.324 Z\" fill=\"#000000\" fill-rule=\"evenodd\" fill-opacity=\"1\" /><path clip-path=\"url(#clip800)\" d=\"M 0 0 M1110.37 27.2059 L1117.82 27.2059 L1117.82 72.576 L1110.37 72.576 L1110.37 27.2059 M1110.37 9.54393 L1117.82 9.54393 L1117.82 18.9825 L1110.37 18.9825 L1110.37 9.54393 Z\" fill=\"#000000\" fill-rule=\"evenodd\" fill-opacity=\"1\" /><path clip-path=\"url(#clip800)\" d=\"M 0 0 M1143.22 32.4315 Q1137.23 32.4315 1133.74 37.1306 Q1130.26 41.7891 1130.26 49.9314 Q1130.26 58.0738 1133.7 62.7728 Q1137.19 67.4314 1143.22 67.4314 Q1149.18 67.4314 1152.66 62.7323 Q1156.14 58.0333 1156.14 49.9314 Q1156.14 41.8701 1152.66 37.1711 Q1149.18 32.4315 1143.22 32.4315 M1143.22 26.1121 Q1152.94 26.1121 1158.49 32.4315 Q1164.04 38.7509 1164.04 49.9314 Q1164.04 61.0714 1158.49 67.4314 Q1152.94 73.7508 1143.22 73.7508 Q1133.46 73.7508 1127.91 67.4314 Q1122.4 61.0714 1122.4 49.9314 Q1122.4 38.7509 1127.91 32.4315 Q1133.46 26.1121 1143.22 26.1121 Z\" fill=\"#000000\" fill-rule=\"evenodd\" fill-opacity=\"1\" /><path clip-path=\"url(#clip800)\" d=\"M 0 0 M1209.58 45.1919 L1209.58 72.576 L1202.12 72.576 L1202.12 45.4349 Q1202.12 38.994 1199.61 35.7938 Q1197.1 32.5936 1192.08 32.5936 Q1186.04 32.5936 1182.56 36.4419 Q1179.07 40.2903 1179.07 46.9338 L1179.07 72.576 L1171.58 72.576 L1171.58 27.2059 L1179.07 27.2059 L1179.07 34.2544 Q1181.75 30.163 1185.35 28.1376 Q1189 26.1121 1193.74 26.1121 Q1201.55 26.1121 1205.56 30.9732 Q1209.58 35.7938 1209.58 45.1919 Z\" fill=\"#000000\" fill-rule=\"evenodd\" fill-opacity=\"1\" /><path clip-path=\"url(#clip800)\" d=\"M 0 0 M1251.14 14.324 L1251.14 27.2059 L1266.49 27.2059 L1266.49 32.9987 L1251.14 32.9987 L1251.14 57.6282 Q1251.14 63.1779 1252.64 64.7578 Q1254.18 66.3376 1258.83 66.3376 L1266.49 66.3376 L1266.49 72.576 L1258.83 72.576 Q1250.21 72.576 1246.92 69.3758 Q1243.64 66.1351 1243.64 57.6282 L1243.64 32.9987 L1238.17 32.9987 L1238.17 27.2059 L1243.64 27.2059 L1243.64 14.324 L1251.14 14.324 Z\" fill=\"#000000\" fill-rule=\"evenodd\" fill-opacity=\"1\" /><path clip-path=\"url(#clip800)\" d=\"M 0 0 M1291.89 32.4315 Q1285.89 32.4315 1282.41 37.1306 Q1278.93 41.7891 1278.93 49.9314 Q1278.93 58.0738 1282.37 62.7728 Q1285.85 67.4314 1291.89 67.4314 Q1297.84 67.4314 1301.33 62.7323 Q1304.81 58.0333 1304.81 49.9314 Q1304.81 41.8701 1301.33 37.1711 Q1297.84 32.4315 1291.89 32.4315 M1291.89 26.1121 Q1301.61 26.1121 1307.16 32.4315 Q1312.71 38.7509 1312.71 49.9314 Q1312.71 61.0714 1307.16 67.4314 Q1301.61 73.7508 1291.89 73.7508 Q1282.13 73.7508 1276.58 67.4314 Q1271.07 61.0714 1271.07 49.9314 Q1271.07 38.7509 1276.58 32.4315 Q1282.13 26.1121 1291.89 26.1121 Z\" fill=\"#000000\" fill-rule=\"evenodd\" fill-opacity=\"1\" /><path clip-path=\"url(#clip800)\" d=\"M 0 0 M1354.27 14.324 L1354.27 27.2059 L1369.63 27.2059 L1369.63 32.9987 L1354.27 32.9987 L1354.27 57.6282 Q1354.27 63.1779 1355.77 64.7578 Q1357.31 66.3376 1361.97 66.3376 L1369.63 66.3376 L1369.63 72.576 L1361.97 72.576 Q1353.34 72.576 1350.06 69.3758 Q1346.78 66.1351 1346.78 57.6282 L1346.78 32.9987 L1341.31 32.9987 L1341.31 27.2059 L1346.78 27.2059 L1346.78 14.324 L1354.27 14.324 Z\" fill=\"#000000\" fill-rule=\"evenodd\" fill-opacity=\"1\" /><path clip-path=\"url(#clip800)\" d=\"M 0 0 M1415.16 45.1919 L1415.16 72.576 L1407.71 72.576 L1407.71 45.4349 Q1407.71 38.994 1405.19 35.7938 Q1402.68 32.5936 1397.66 32.5936 Q1391.62 32.5936 1388.14 36.4419 Q1384.66 40.2903 1384.66 46.9338 L1384.66 72.576 L1377.16 72.576 L1377.16 9.54393 L1384.66 9.54393 L1384.66 34.2544 Q1387.33 30.163 1390.93 28.1376 Q1394.58 26.1121 1399.32 26.1121 Q1407.14 26.1121 1411.15 30.9732 Q1415.16 35.7938 1415.16 45.1919 Z\" fill=\"#000000\" fill-rule=\"evenodd\" fill-opacity=\"1\" /><path clip-path=\"url(#clip800)\" d=\"M 0 0 M1461.78 48.0275 L1461.78 51.6733 L1427.51 51.6733 Q1428 59.3701 1432.13 63.421 Q1436.3 67.4314 1443.72 67.4314 Q1448.01 67.4314 1452.02 66.3781 Q1456.07 65.3249 1460.04 63.2184 L1460.04 70.267 Q1456.03 71.9684 1451.82 72.8596 Q1447.61 73.7508 1443.27 73.7508 Q1432.42 73.7508 1426.06 67.4314 Q1419.74 61.1119 1419.74 50.3365 Q1419.74 39.1965 1425.73 32.6746 Q1431.77 26.1121 1441.98 26.1121 Q1451.13 26.1121 1456.44 32.0264 Q1461.78 37.9003 1461.78 48.0275 M1454.33 45.84 Q1454.25 39.7232 1450.89 36.0774 Q1447.57 32.4315 1442.06 32.4315 Q1435.82 32.4315 1432.05 35.9558 Q1428.32 39.4801 1427.76 45.8805 L1454.33 45.84 Z\" fill=\"#000000\" fill-rule=\"evenodd\" fill-opacity=\"1\" /><path clip-path=\"url(#clip800)\" d=\"M 0 0 M1520.85 17.6457 Q1511.93 17.6457 1506.67 24.2892 Q1501.44 30.9327 1501.44 42.3968 Q1501.44 53.8203 1506.67 60.4638 Q1511.93 67.1073 1520.85 67.1073 Q1529.76 67.1073 1534.94 60.4638 Q1540.17 53.8203 1540.17 42.3968 Q1540.17 30.9327 1534.94 24.2892 Q1529.76 17.6457 1520.85 17.6457 M1520.85 11.0023 Q1533.57 11.0023 1541.18 19.5497 Q1548.8 28.0566 1548.8 42.3968 Q1548.8 56.6965 1541.18 65.2439 Q1533.57 73.7508 1520.85 73.7508 Q1508.09 73.7508 1500.43 65.2439 Q1492.81 56.737 1492.81 42.3968 Q1492.81 28.0566 1500.43 19.5497 Q1508.09 11.0023 1520.85 11.0023 Z\" fill=\"#000000\" fill-rule=\"evenodd\" fill-opacity=\"1\" /><path clip-path=\"url(#clip800)\" d=\"M 0 0 M1565.12 18.8205 L1565.12 65.8515 L1575.01 65.8515 Q1587.52 65.8515 1593.32 60.1802 Q1599.15 54.509 1599.15 42.2752 Q1599.15 30.1225 1593.32 24.4918 Q1587.52 18.8205 1575.01 18.8205 L1565.12 18.8205 M1556.94 12.096 L1573.75 12.096 Q1591.33 12.096 1599.56 19.4281 Q1607.78 26.7198 1607.78 42.2752 Q1607.78 57.9117 1599.52 65.2439 Q1591.25 72.576 1573.75 72.576 L1556.94 72.576 L1556.94 12.096 Z\" fill=\"#000000\" fill-rule=\"evenodd\" fill-opacity=\"1\" /><path clip-path=\"url(#clip800)\" d=\"M 0 0 M1615.92 12.096 L1654.16 12.096 L1654.16 18.9825 L1624.1 18.9825 L1624.1 36.8875 L1652.91 36.8875 L1652.91 43.7741 L1624.1 43.7741 L1624.1 65.6895 L1654.89 65.6895 L1654.89 72.576 L1615.92 72.576 L1615.92 12.096 Z\" fill=\"#000000\" fill-rule=\"evenodd\" fill-opacity=\"1\" /><path clip-path=\"url(#clip800)\" d=\"M 0 0 M1010.74 1508.52 L1050.94 1508.52 L1050.94 1513.93 L1034.07 1513.93 L1034.07 1556.04 L1027.61 1556.04 L1027.61 1513.93 L1010.74 1513.93 L1010.74 1508.52 Z\" fill=\"#000000\" fill-rule=\"evenodd\" fill-opacity=\"1\" /><path clip-path=\"url(#clip800)\" d=\"M 0 0 M1055.08 1520.4 L1060.94 1520.4 L1060.94 1556.04 L1055.08 1556.04 L1055.08 1520.4 M1055.08 1506.52 L1060.94 1506.52 L1060.94 1513.93 L1055.08 1513.93 L1055.08 1506.52 Z\" fill=\"#000000\" fill-rule=\"evenodd\" fill-opacity=\"1\" /><path clip-path=\"url(#clip800)\" d=\"M 0 0 M1094.83 1527.24 Q1097.03 1523.29 1100.09 1521.41 Q1103.14 1519.54 1107.28 1519.54 Q1112.85 1519.54 1115.87 1523.45 Q1118.9 1527.33 1118.9 1534.53 L1118.9 1556.04 L1113.01 1556.04 L1113.01 1534.72 Q1113.01 1529.59 1111.19 1527.11 Q1109.38 1524.63 1105.66 1524.63 Q1101.1 1524.63 1098.46 1527.65 Q1095.82 1530.68 1095.82 1535.9 L1095.82 1556.04 L1089.93 1556.04 L1089.93 1534.72 Q1089.93 1529.56 1088.12 1527.11 Q1086.3 1524.63 1082.52 1524.63 Q1078.03 1524.63 1075.39 1527.68 Q1072.74 1530.71 1072.74 1535.9 L1072.74 1556.04 L1066.86 1556.04 L1066.86 1520.4 L1072.74 1520.4 L1072.74 1525.93 Q1074.75 1522.66 1077.55 1521.1 Q1080.35 1519.54 1084.2 1519.54 Q1088.09 1519.54 1090.79 1521.51 Q1093.53 1523.48 1094.83 1527.24 Z\" fill=\"#000000\" fill-rule=\"evenodd\" fill-opacity=\"1\" /><path clip-path=\"url(#clip800)\" d=\"M 0 0 M1155.53 1536.76 L1155.53 1539.62 L1128.6 1539.62 Q1128.99 1545.67 1132.23 1548.85 Q1135.51 1552 1141.34 1552 Q1144.71 1552 1147.86 1551.17 Q1151.04 1550.35 1154.16 1548.69 L1154.16 1554.23 Q1151.01 1555.57 1147.7 1556.27 Q1144.39 1556.97 1140.98 1556.97 Q1132.45 1556.97 1127.46 1552 Q1122.49 1547.04 1122.49 1538.57 Q1122.49 1529.82 1127.2 1524.69 Q1131.95 1519.54 1139.97 1519.54 Q1147.16 1519.54 1151.33 1524.18 Q1155.53 1528.8 1155.53 1536.76 M1149.67 1535.04 Q1149.61 1530.23 1146.97 1527.37 Q1144.36 1524.5 1140.03 1524.5 Q1135.13 1524.5 1132.17 1527.27 Q1129.24 1530.04 1128.79 1535.07 L1149.67 1535.04 Z\" fill=\"#000000\" fill-rule=\"evenodd\" fill-opacity=\"1\" /><path clip-path=\"url(#clip800)\" d=\"M 0 0 M1196.46 1506.58 Q1192.2 1513.9 1190.13 1521.06 Q1188.06 1528.23 1188.06 1535.58 Q1188.06 1542.93 1190.13 1550.16 Q1192.23 1557.35 1196.46 1564.64 L1191.37 1564.64 Q1186.6 1557.16 1184.21 1549.93 Q1181.85 1542.71 1181.85 1535.58 Q1181.85 1528.48 1184.21 1521.29 Q1186.56 1514.09 1191.37 1506.58 L1196.46 1506.58 Z\" fill=\"#000000\" fill-rule=\"evenodd\" fill-opacity=\"1\" /><path clip-path=\"url(#clip800)\" d=\"M 0 0 M1208.4 1510.27 L1208.4 1520.4 L1220.46 1520.4 L1220.46 1524.95 L1208.4 1524.95 L1208.4 1544.3 Q1208.4 1548.66 1209.58 1549.9 Q1210.78 1551.14 1214.45 1551.14 L1220.46 1551.14 L1220.46 1556.04 L1214.45 1556.04 Q1207.67 1556.04 1205.09 1553.53 Q1202.51 1550.98 1202.51 1544.3 L1202.51 1524.95 L1198.21 1524.95 L1198.21 1520.4 L1202.51 1520.4 L1202.51 1510.27 L1208.4 1510.27 Z\" fill=\"#000000\" fill-rule=\"evenodd\" fill-opacity=\"1\" /><path clip-path=\"url(#clip800)\" d=\"M 0 0 M1225.68 1506.58 L1230.77 1506.58 Q1235.55 1514.09 1237.9 1521.29 Q1240.29 1528.48 1240.29 1535.58 Q1240.29 1542.71 1237.9 1549.93 Q1235.55 1557.16 1230.77 1564.64 L1225.68 1564.64 Q1229.91 1557.35 1231.98 1550.16 Q1234.08 1542.93 1234.08 1535.58 Q1234.08 1528.23 1231.98 1521.06 Q1229.91 1513.9 1225.68 1506.58 Z\" fill=\"#000000\" fill-rule=\"evenodd\" fill-opacity=\"1\" /><path clip-path=\"url(#clip800)\" d=\"M 0 0 M1267.15 1520.4 L1273.01 1520.4 L1273.01 1556.04 L1267.15 1556.04 L1267.15 1520.4 M1267.15 1506.52 L1273.01 1506.52 L1273.01 1513.93 L1267.15 1513.93 L1267.15 1506.52 Z\" fill=\"#000000\" fill-rule=\"evenodd\" fill-opacity=\"1\" /><path clip-path=\"url(#clip800)\" d=\"M 0 0 M1308.78 1534.53 L1308.78 1556.04 L1302.93 1556.04 L1302.93 1534.72 Q1302.93 1529.66 1300.96 1527.14 Q1298.98 1524.63 1295.03 1524.63 Q1290.29 1524.63 1287.56 1527.65 Q1284.82 1530.68 1284.82 1535.9 L1284.82 1556.04 L1278.93 1556.04 L1278.93 1520.4 L1284.82 1520.4 L1284.82 1525.93 Q1286.92 1522.72 1289.75 1521.13 Q1292.62 1519.54 1296.34 1519.54 Q1302.48 1519.54 1305.63 1523.36 Q1308.78 1527.14 1308.78 1534.53 Z\" fill=\"#000000\" fill-rule=\"evenodd\" fill-opacity=\"1\" /><path clip-path=\"url(#clip800)\" d=\"M 0 0 M1358.37 1521.45 L1358.37 1526.98 Q1355.89 1525.71 1353.22 1525.07 Q1350.54 1524.44 1347.68 1524.44 Q1343.32 1524.44 1341.12 1525.77 Q1338.96 1527.11 1338.96 1529.79 Q1338.96 1531.82 1340.52 1533 Q1342.08 1534.15 1346.79 1535.2 L1348.79 1535.64 Q1355.03 1536.98 1357.64 1539.43 Q1360.28 1541.85 1360.28 1546.21 Q1360.28 1551.17 1356.34 1554.07 Q1352.42 1556.97 1345.55 1556.97 Q1342.68 1556.97 1339.56 1556.39 Q1336.48 1555.85 1333.04 1554.74 L1333.04 1548.69 Q1336.28 1550.38 1339.44 1551.24 Q1342.59 1552.07 1345.67 1552.07 Q1349.81 1552.07 1352.04 1550.66 Q1354.27 1549.23 1354.27 1546.65 Q1354.27 1544.27 1352.64 1542.99 Q1351.05 1541.72 1345.61 1540.54 L1343.57 1540.07 Q1338.13 1538.92 1335.71 1536.56 Q1333.29 1534.18 1333.29 1530.04 Q1333.29 1525.01 1336.86 1522.27 Q1340.42 1519.54 1346.98 1519.54 Q1350.23 1519.54 1353.09 1520.01 Q1355.95 1520.49 1358.37 1521.45 Z\" fill=\"#000000\" fill-rule=\"evenodd\" fill-opacity=\"1\" /><path clip-path=\"url(#clip800)\" d=\"M 0 0 M1396.92 1536.76 L1396.92 1539.62 L1369.99 1539.62 Q1370.37 1545.67 1373.62 1548.85 Q1376.9 1552 1382.72 1552 Q1386.1 1552 1389.25 1551.17 Q1392.43 1550.35 1395.55 1548.69 L1395.55 1554.23 Q1392.4 1555.57 1389.09 1556.27 Q1385.78 1556.97 1382.37 1556.97 Q1373.84 1556.97 1368.85 1552 Q1363.88 1547.04 1363.88 1538.57 Q1363.88 1529.82 1368.59 1524.69 Q1373.33 1519.54 1381.35 1519.54 Q1388.55 1519.54 1392.72 1524.18 Q1396.92 1528.8 1396.92 1536.76 M1391.06 1535.04 Q1391 1530.23 1388.36 1527.37 Q1385.75 1524.5 1381.42 1524.5 Q1376.52 1524.5 1373.56 1527.27 Q1370.63 1530.04 1370.18 1535.07 L1391.06 1535.04 Z\" fill=\"#000000\" fill-rule=\"evenodd\" fill-opacity=\"1\" /><path clip-path=\"url(#clip800)\" d=\"M 0 0 M1428.71 1521.76 L1428.71 1527.24 Q1426.23 1525.87 1423.72 1525.2 Q1421.24 1524.5 1418.69 1524.5 Q1412.99 1524.5 1409.84 1528.13 Q1406.69 1531.73 1406.69 1538.25 Q1406.69 1544.78 1409.84 1548.4 Q1412.99 1552 1418.69 1552 Q1421.24 1552 1423.72 1551.33 Q1426.23 1550.63 1428.71 1549.26 L1428.71 1554.68 Q1426.26 1555.82 1423.62 1556.39 Q1421.01 1556.97 1418.05 1556.97 Q1410 1556.97 1405.26 1551.91 Q1400.51 1546.85 1400.51 1538.25 Q1400.51 1529.53 1405.29 1524.53 Q1410.1 1519.54 1418.43 1519.54 Q1421.14 1519.54 1423.72 1520.11 Q1426.3 1520.65 1428.71 1521.76 Z\" fill=\"#000000\" fill-rule=\"evenodd\" fill-opacity=\"1\" /><path clip-path=\"url(#clip800)\" d=\"M 0 0 M1448.67 1524.5 Q1443.96 1524.5 1441.22 1528.19 Q1438.49 1531.85 1438.49 1538.25 Q1438.49 1544.65 1441.19 1548.34 Q1443.93 1552 1448.67 1552 Q1453.35 1552 1456.09 1548.31 Q1458.82 1544.62 1458.82 1538.25 Q1458.82 1531.92 1456.09 1528.23 Q1453.35 1524.5 1448.67 1524.5 M1448.67 1519.54 Q1456.31 1519.54 1460.67 1524.5 Q1465.03 1529.47 1465.03 1538.25 Q1465.03 1547 1460.67 1552 Q1456.31 1556.97 1448.67 1556.97 Q1441 1556.97 1436.64 1552 Q1432.31 1547 1432.31 1538.25 Q1432.31 1529.47 1436.64 1524.5 Q1441 1519.54 1448.67 1519.54 Z\" fill=\"#000000\" fill-rule=\"evenodd\" fill-opacity=\"1\" /><path clip-path=\"url(#clip800)\" d=\"M 0 0 M1500.81 1534.53 L1500.81 1556.04 L1494.95 1556.04 L1494.95 1534.72 Q1494.95 1529.66 1492.98 1527.14 Q1491 1524.63 1487.06 1524.63 Q1482.31 1524.63 1479.58 1527.65 Q1476.84 1530.68 1476.84 1535.9 L1476.84 1556.04 L1470.95 1556.04 L1470.95 1520.4 L1476.84 1520.4 L1476.84 1525.93 Q1478.94 1522.72 1481.77 1521.13 Q1484.64 1519.54 1488.36 1519.54 Q1494.5 1519.54 1497.66 1523.36 Q1500.81 1527.14 1500.81 1534.53 Z\" fill=\"#000000\" fill-rule=\"evenodd\" fill-opacity=\"1\" /><path clip-path=\"url(#clip800)\" d=\"M 0 0 M1530.41 1525.81 L1530.41 1506.52 L1536.26 1506.52 L1536.26 1556.04 L1530.41 1556.04 L1530.41 1550.7 Q1528.56 1553.88 1525.73 1555.44 Q1522.93 1556.97 1518.98 1556.97 Q1512.52 1556.97 1508.45 1551.81 Q1504.4 1546.65 1504.4 1538.25 Q1504.4 1529.85 1508.45 1524.69 Q1512.52 1519.54 1518.98 1519.54 Q1522.93 1519.54 1525.73 1521.1 Q1528.56 1522.62 1530.41 1525.81 M1510.45 1538.25 Q1510.45 1544.71 1513.09 1548.4 Q1515.77 1552.07 1520.41 1552.07 Q1525.06 1552.07 1527.73 1548.4 Q1530.41 1544.71 1530.41 1538.25 Q1530.41 1531.79 1527.73 1528.13 Q1525.06 1524.44 1520.41 1524.44 Q1515.77 1524.44 1513.09 1528.13 Q1510.45 1531.79 1510.45 1538.25 Z\" fill=\"#000000\" fill-rule=\"evenodd\" fill-opacity=\"1\" /><path clip-path=\"url(#clip800)\" d=\"M 0 0 M1565.13 1521.45 L1565.13 1526.98 Q1562.65 1525.71 1559.98 1525.07 Q1557.3 1524.44 1554.44 1524.44 Q1550.08 1524.44 1547.88 1525.77 Q1545.72 1527.11 1545.72 1529.79 Q1545.72 1531.82 1547.28 1533 Q1548.84 1534.15 1553.55 1535.2 L1555.55 1535.64 Q1561.79 1536.98 1564.4 1539.43 Q1567.04 1541.85 1567.04 1546.21 Q1567.04 1551.17 1563.09 1554.07 Q1559.18 1556.97 1552.31 1556.97 Q1549.44 1556.97 1546.32 1556.39 Q1543.23 1555.85 1539.8 1554.74 L1539.8 1548.69 Q1543.04 1550.38 1546.19 1551.24 Q1549.34 1552.07 1552.43 1552.07 Q1556.57 1552.07 1558.8 1550.66 Q1561.03 1549.23 1561.03 1546.65 Q1561.03 1544.27 1559.4 1542.99 Q1557.81 1541.72 1552.37 1540.54 L1550.33 1540.07 Q1544.89 1538.92 1542.47 1536.56 Q1540.05 1534.18 1540.05 1530.04 Q1540.05 1525.01 1543.62 1522.27 Q1547.18 1519.54 1553.74 1519.54 Q1556.98 1519.54 1559.85 1520.01 Q1562.71 1520.49 1565.13 1521.45 Z\" fill=\"#000000\" fill-rule=\"evenodd\" fill-opacity=\"1\" /><path clip-path=\"url(#clip800)\" d=\"M 0 0 M45.7677 1169.64 L82.7206 1169.64 L82.7206 1161.87 Q82.7206 1152.04 78.2646 1147.49 Q73.8086 1142.9 64.1964 1142.9 Q54.6479 1142.9 50.2237 1147.49 Q45.7677 1152.04 45.7677 1161.87 L45.7677 1169.64 M40.4842 1176.07 L40.4842 1162.86 Q40.4842 1149.05 46.2451 1142.58 Q51.9743 1136.12 64.1964 1136.12 Q76.4822 1136.12 82.2432 1142.62 Q88.0042 1149.11 88.0042 1162.86 L88.0042 1176.07 L40.4842 1176.07 Z\" fill=\"#000000\" fill-rule=\"evenodd\" fill-opacity=\"1\" /><path clip-path=\"url(#clip800)\" d=\"M 0 0 M52.3562 1129.98 L52.3562 1124.12 L88.0042 1124.12 L88.0042 1129.98 L52.3562 1129.98 M38.479 1129.98 L38.479 1124.12 L45.895 1124.12 L45.895 1129.98 L38.479 1129.98 Z\" fill=\"#000000\" fill-rule=\"evenodd\" fill-opacity=\"1\" /><path clip-path=\"url(#clip800)\" d=\"M 0 0 M53.4065 1095.26 L58.9447 1095.26 Q57.6716 1097.74 57.035 1100.41 Q56.3984 1103.09 56.3984 1105.95 Q56.3984 1110.31 57.7352 1112.51 Q59.072 1114.67 61.7456 1114.67 Q63.7826 1114.67 64.9603 1113.11 Q66.1061 1111.55 67.1565 1106.84 L67.6021 1104.84 Q68.9389 1098.6 71.3897 1095.99 Q73.8086 1093.35 78.1691 1093.35 Q83.1344 1093.35 86.0308 1097.29 Q88.9272 1101.21 88.9272 1108.08 Q88.9272 1110.95 88.3543 1114.07 Q87.8132 1117.15 86.6992 1120.59 L80.6518 1120.59 Q82.3387 1117.34 83.198 1114.19 Q84.0256 1111.04 84.0256 1107.96 Q84.0256 1103.82 82.6251 1101.59 Q81.1929 1099.36 78.6147 1099.36 Q76.2276 1099.36 74.9545 1100.98 Q73.6813 1102.58 72.5037 1108.02 L72.0262 1110.06 Q70.8804 1115.5 68.5251 1117.92 Q66.138 1120.34 62.0002 1120.34 Q56.9713 1120.34 54.2341 1116.77 Q51.4968 1113.21 51.4968 1106.65 Q51.4968 1103.4 51.9743 1100.54 Q52.4517 1097.67 53.4065 1095.26 Z\" fill=\"#000000\" fill-rule=\"evenodd\" fill-opacity=\"1\" /><path clip-path=\"url(#clip800)\" d=\"M 0 0 M82.657 1081.54 L101.563 1081.54 L101.563 1087.43 L52.3562 1087.43 L52.3562 1081.54 L57.7671 1081.54 Q54.5842 1079.69 53.0564 1076.89 Q51.4968 1074.06 51.4968 1070.14 Q51.4968 1063.65 56.6531 1059.61 Q61.8093 1055.53 70.212 1055.53 Q78.6147 1055.53 83.771 1059.61 Q88.9272 1063.65 88.9272 1070.14 Q88.9272 1074.06 87.3994 1076.89 Q85.8398 1079.69 82.657 1081.54 M70.212 1061.61 Q63.7508 1061.61 60.0905 1064.29 Q56.3984 1066.93 56.3984 1071.58 Q56.3984 1076.22 60.0905 1078.9 Q63.7508 1081.54 70.212 1081.54 Q76.6732 1081.54 80.3653 1078.9 Q84.0256 1076.22 84.0256 1071.58 Q84.0256 1066.93 80.3653 1064.29 Q76.6732 1061.61 70.212 1061.61 Z\" fill=\"#000000\" fill-rule=\"evenodd\" fill-opacity=\"1\" /><path clip-path=\"url(#clip800)\" d=\"M 0 0 M38.479 1049.39 L38.479 1043.53 L88.0042 1043.53 L88.0042 1049.39 L38.479 1049.39 Z\" fill=\"#000000\" fill-rule=\"evenodd\" fill-opacity=\"1\" /><path clip-path=\"url(#clip800)\" d=\"M 0 0 M70.0847 1021.19 Q70.0847 1028.29 71.7079 1031.03 Q73.3312 1033.76 77.2461 1033.76 Q80.3653 1033.76 82.2114 1031.73 Q84.0256 1029.66 84.0256 1026.12 Q84.0256 1021.25 80.5881 1018.33 Q77.1188 1015.37 71.3897 1015.37 L70.0847 1015.37 L70.0847 1021.19 M67.6657 1009.51 L88.0042 1009.51 L88.0042 1015.37 L82.5933 1015.37 Q85.8398 1017.37 87.3994 1020.36 Q88.9272 1023.36 88.9272 1027.68 Q88.9272 1033.16 85.8716 1036.4 Q82.7843 1039.62 77.6281 1039.62 Q71.6125 1039.62 68.5569 1035.61 Q65.5014 1031.57 65.5014 1023.58 L65.5014 1015.37 L64.9285 1015.37 Q60.8862 1015.37 58.6901 1018.04 Q56.4621 1020.68 56.4621 1025.49 Q56.4621 1028.54 57.1941 1031.44 Q57.9262 1034.34 59.3903 1037.01 L53.9795 1037.01 Q52.7381 1033.79 52.1334 1030.77 Q51.4968 1027.75 51.4968 1024.88 Q51.4968 1017.15 55.5072 1013.33 Q59.5176 1009.51 67.6657 1009.51 Z\" fill=\"#000000\" fill-rule=\"evenodd\" fill-opacity=\"1\" /><path clip-path=\"url(#clip800)\" d=\"M 0 0 M53.7248 977.713 L59.1993 977.713 Q57.8307 980.196 57.1623 982.71 Q56.4621 985.193 56.4621 987.739 Q56.4621 993.436 60.0905 996.587 Q63.6872 999.738 70.212 999.738 Q76.7369 999.738 80.3653 996.587 Q83.9619 993.436 83.9619 987.739 Q83.9619 985.193 83.2935 982.71 Q82.5933 980.196 81.2247 977.713 L86.6355 977.713 Q87.7814 980.164 88.3543 982.805 Q88.9272 985.415 88.9272 988.375 Q88.9272 996.428 83.8664 1001.17 Q78.8057 1005.91 70.212 1005.91 Q61.491 1005.91 56.4939 1001.14 Q51.4968 996.333 51.4968 987.994 Q51.4968 985.288 52.0697 982.71 Q52.6108 980.132 53.7248 977.713 Z\" fill=\"#000000\" fill-rule=\"evenodd\" fill-opacity=\"1\" /><path clip-path=\"url(#clip800)\" d=\"M 0 0 M68.7161 941.078 L71.5806 941.078 L71.5806 968.005 Q77.6281 967.623 80.8109 964.377 Q83.9619 961.098 83.9619 955.274 Q83.9619 951.9 83.1344 948.749 Q82.3069 945.566 80.6518 942.447 L86.1899 942.447 Q87.5267 945.598 88.227 948.908 Q88.9272 952.218 88.9272 955.624 Q88.9272 964.154 83.9619 969.151 Q78.9967 974.116 70.5303 974.116 Q61.7774 974.116 56.6531 969.406 Q51.4968 964.663 51.4968 956.642 Q51.4968 949.449 56.1438 945.28 Q60.7589 941.078 68.7161 941.078 M66.9973 946.935 Q62.1912 946.998 59.3266 949.64 Q56.4621 952.25 56.4621 956.579 Q56.4621 961.48 59.2312 964.44 Q62.0002 967.369 67.0292 967.814 L66.9973 946.935 Z\" fill=\"#000000\" fill-rule=\"evenodd\" fill-opacity=\"1\" /><path clip-path=\"url(#clip800)\" d=\"M 0 0 M59.1993 907.181 Q55.2526 904.985 53.3747 901.929 Q51.4968 898.874 51.4968 894.736 Q51.4968 889.166 55.4117 886.142 Q59.2948 883.119 66.4881 883.119 L88.0042 883.119 L88.0042 889.007 L66.679 889.007 Q61.5546 889.007 59.072 890.821 Q56.5894 892.635 56.5894 896.359 Q56.5894 900.911 59.6131 903.552 Q62.6368 906.194 67.8567 906.194 L88.0042 906.194 L88.0042 912.082 L66.679 912.082 Q61.5228 912.082 59.072 913.897 Q56.5894 915.711 56.5894 919.499 Q56.5894 923.986 59.6449 926.628 Q62.6686 929.27 67.8567 929.27 L88.0042 929.27 L88.0042 935.158 L52.3562 935.158 L52.3562 929.27 L57.8944 929.27 Q54.616 927.265 53.0564 924.464 Q51.4968 921.663 51.4968 917.812 Q51.4968 913.929 53.4702 911.223 Q55.4436 908.486 59.1993 907.181 Z\" fill=\"#000000\" fill-rule=\"evenodd\" fill-opacity=\"1\" /><path clip-path=\"url(#clip800)\" d=\"M 0 0 M68.7161 846.484 L71.5806 846.484 L71.5806 873.411 Q77.6281 873.029 80.8109 869.782 Q83.9619 866.504 83.9619 860.679 Q83.9619 857.306 83.1344 854.155 Q82.3069 850.972 80.6518 847.852 L86.1899 847.852 Q87.5267 851.004 88.227 854.314 Q88.9272 857.624 88.9272 861.03 Q88.9272 869.56 83.9619 874.557 Q78.9967 879.522 70.5303 879.522 Q61.7774 879.522 56.6531 874.811 Q51.4968 870.069 51.4968 862.048 Q51.4968 854.855 56.1438 850.685 Q60.7589 846.484 68.7161 846.484 M66.9973 852.34 Q62.1912 852.404 59.3266 855.046 Q56.4621 857.656 56.4621 861.984 Q56.4621 866.886 59.2312 869.846 Q62.0002 872.774 67.0292 873.22 L66.9973 852.34 Z\" fill=\"#000000\" fill-rule=\"evenodd\" fill-opacity=\"1\" /><path clip-path=\"url(#clip800)\" d=\"M 0 0 M66.4881 810.709 L88.0042 810.709 L88.0042 816.565 L66.679 816.565 Q61.6183 816.565 59.1038 818.538 Q56.5894 820.512 56.5894 824.459 Q56.5894 829.201 59.6131 831.938 Q62.6368 834.675 67.8567 834.675 L88.0042 834.675 L88.0042 840.564 L52.3562 840.564 L52.3562 834.675 L57.8944 834.675 Q54.6797 832.575 53.0883 829.742 Q51.4968 826.877 51.4968 823.154 Q51.4968 817.011 55.3163 813.86 Q59.1038 810.709 66.4881 810.709 Z\" fill=\"#000000\" fill-rule=\"evenodd\" fill-opacity=\"1\" /><path clip-path=\"url(#clip800)\" d=\"M 0 0 M42.2347 798.773 L52.3562 798.773 L52.3562 786.71 L56.9077 786.71 L56.9077 798.773 L76.2594 798.773 Q80.6199 798.773 81.8613 797.595 Q83.1026 796.386 83.1026 792.725 L83.1026 786.71 L88.0042 786.71 L88.0042 792.725 Q88.0042 799.505 85.4897 802.083 Q82.9434 804.661 76.2594 804.661 L56.9077 804.661 L56.9077 808.958 L52.3562 808.958 L52.3562 804.661 L42.2347 804.661 L42.2347 798.773 Z\" fill=\"#000000\" fill-rule=\"evenodd\" fill-opacity=\"1\" /><path clip-path=\"url(#clip800)\" d=\"M 0 0 M53.4065 737.121 L58.9447 737.121 Q57.6716 739.604 57.035 742.277 Q56.3984 744.951 56.3984 747.815 Q56.3984 752.176 57.7352 754.372 Q59.072 756.536 61.7456 756.536 Q63.7826 756.536 64.9603 754.977 Q66.1061 753.417 67.1565 748.707 L67.6021 746.701 Q68.9389 740.463 71.3897 737.853 Q73.8086 735.211 78.1691 735.211 Q83.1344 735.211 86.0308 739.158 Q88.9272 743.073 88.9272 749.948 Q88.9272 752.812 88.3543 755.932 Q87.8132 759.019 86.6992 762.457 L80.6518 762.457 Q82.3387 759.21 83.198 756.059 Q84.0256 752.908 84.0256 749.821 Q84.0256 745.683 82.6251 743.455 Q81.1929 741.227 78.6147 741.227 Q76.2276 741.227 74.9545 742.85 Q73.6813 744.442 72.5037 749.884 L72.0262 751.921 Q70.8804 757.364 68.5251 759.783 Q66.138 762.202 62.0002 762.202 Q56.9713 762.202 54.2341 758.637 Q51.4968 755.072 51.4968 748.516 Q51.4968 745.269 51.9743 742.405 Q52.4517 739.54 53.4065 737.121 Z\" fill=\"#000000\" fill-rule=\"evenodd\" fill-opacity=\"1\" /><path clip-path=\"url(#clip800)\" d=\"M 0 0 M38.5426 715 Q45.8632 719.265 53.0246 721.334 Q60.186 723.403 67.5384 723.403 Q74.8908 723.403 82.1159 721.334 Q89.3091 719.233 96.5979 715 L96.5979 720.093 Q89.1182 724.867 81.8931 727.254 Q74.668 729.609 67.5384 729.609 Q60.4406 729.609 53.2474 727.254 Q46.0542 724.899 38.5426 720.093 L38.5426 715 Z\" fill=\"#000000\" fill-rule=\"evenodd\" fill-opacity=\"1\" /><path clip-path=\"url(#clip800)\" d=\"M 0 0 M42.2347 703.064 L52.3562 703.064 L52.3562 691.001 L56.9077 691.001 L56.9077 703.064 L76.2594 703.064 Q80.6199 703.064 81.8613 701.887 Q83.1026 700.677 83.1026 697.017 L83.1026 691.001 L88.0042 691.001 L88.0042 697.017 Q88.0042 703.797 85.4897 706.375 Q82.9434 708.953 76.2594 708.953 L56.9077 708.953 L56.9077 713.25 L52.3562 713.25 L52.3562 708.953 L42.2347 708.953 L42.2347 703.064 Z\" fill=\"#000000\" fill-rule=\"evenodd\" fill-opacity=\"1\" /><path clip-path=\"url(#clip800)\" d=\"M 0 0 M38.5426 685.782 L38.5426 680.689 Q46.0542 675.915 53.2474 673.559 Q60.4406 671.172 67.5384 671.172 Q74.668 671.172 81.8931 673.559 Q89.1182 675.915 96.5979 680.689 L96.5979 685.782 Q89.3091 681.548 82.1159 679.48 Q74.8908 677.379 67.5384 677.379 Q60.186 677.379 53.0246 679.48 Q45.8632 681.548 38.5426 685.782 Z\" fill=\"#000000\" fill-rule=\"evenodd\" fill-opacity=\"1\" /><path clip-path=\"url(#clip800)\" d=\"M 0 0 M52.3562 644.309 L52.3562 638.453 L88.0042 638.453 L88.0042 644.309 L52.3562 644.309 M38.479 644.309 L38.479 638.453 L45.895 638.453 L45.895 644.309 L38.479 644.309 Z\" fill=\"#000000\" fill-rule=\"evenodd\" fill-opacity=\"1\" /><path clip-path=\"url(#clip800)\" d=\"M 0 0 M66.4881 602.677 L88.0042 602.677 L88.0042 608.534 L66.679 608.534 Q61.6183 608.534 59.1038 610.507 Q56.5894 612.48 56.5894 616.427 Q56.5894 621.17 59.6131 623.907 Q62.6368 626.644 67.8567 626.644 L88.0042 626.644 L88.0042 632.532 L52.3562 632.532 L52.3562 626.644 L57.8944 626.644 Q54.6797 624.544 53.0883 621.711 Q51.4968 618.846 51.4968 615.122 Q51.4968 608.979 55.3163 605.828 Q59.1038 602.677 66.4881 602.677 Z\" fill=\"#000000\" fill-rule=\"evenodd\" fill-opacity=\"1\" /><path clip-path=\"url(#clip800)\" d=\"M 0 0 M59.1993 548.06 Q55.2526 545.863 53.3747 542.808 Q51.4968 539.752 51.4968 535.615 Q51.4968 530.045 55.4117 527.021 Q59.2948 523.997 66.4881 523.997 L88.0042 523.997 L88.0042 529.885 L66.679 529.885 Q61.5546 529.885 59.072 531.7 Q56.5894 533.514 56.5894 537.238 Q56.5894 541.789 59.6131 544.431 Q62.6368 547.073 67.8567 547.073 L88.0042 547.073 L88.0042 552.961 L66.679 552.961 Q61.5228 552.961 59.072 554.775 Q56.5894 556.59 56.5894 560.377 Q56.5894 564.865 59.6449 567.507 Q62.6686 570.149 67.8567 570.149 L88.0042 570.149 L88.0042 576.037 L52.3562 576.037 L52.3562 570.149 L57.8944 570.149 Q54.616 568.143 53.0564 565.342 Q51.4968 562.542 51.4968 558.69 Q51.4968 554.807 53.4702 552.102 Q55.4436 549.365 59.1993 548.06 Z\" fill=\"#000000\" fill-rule=\"evenodd\" fill-opacity=\"1\" /><path clip-path=\"url(#clip800)\" d=\"M 0 0 M68.7161 487.363 L71.5806 487.363 L71.5806 514.289 Q77.6281 513.908 80.8109 510.661 Q83.9619 507.383 83.9619 501.558 Q83.9619 498.184 83.1344 495.033 Q82.3069 491.85 80.6518 488.731 L86.1899 488.731 Q87.5267 491.882 88.227 495.192 Q88.9272 498.503 88.9272 501.908 Q88.9272 510.438 83.9619 515.435 Q78.9967 520.401 70.5303 520.401 Q61.7774 520.401 56.6531 515.69 Q51.4968 510.947 51.4968 502.927 Q51.4968 495.733 56.1438 491.564 Q60.7589 487.363 68.7161 487.363 M66.9973 493.219 Q62.1912 493.283 59.3266 495.924 Q56.4621 498.534 56.4621 502.863 Q56.4621 507.765 59.2312 510.725 Q62.0002 513.653 67.0292 514.098 L66.9973 493.219 Z\" fill=\"#000000\" fill-rule=\"evenodd\" fill-opacity=\"1\" /><path clip-path=\"url(#clip800)\" d=\"M 0 0 M42.2347 475.427 L52.3562 475.427 L52.3562 463.364 L56.9077 463.364 L56.9077 475.427 L76.2594 475.427 Q80.6199 475.427 81.8613 474.249 Q83.1026 473.04 83.1026 469.379 L83.1026 463.364 L88.0042 463.364 L88.0042 469.379 Q88.0042 476.159 85.4897 478.737 Q82.9434 481.315 76.2594 481.315 L56.9077 481.315 L56.9077 485.612 L52.3562 485.612 L52.3562 481.315 L42.2347 481.315 L42.2347 475.427 Z\" fill=\"#000000\" fill-rule=\"evenodd\" fill-opacity=\"1\" /><path clip-path=\"url(#clip800)\" d=\"M 0 0 M57.8307 436.564 Q57.2578 437.551 57.0032 438.729 Q56.7167 439.874 56.7167 441.275 Q56.7167 446.24 59.9632 448.914 Q63.1779 451.555 69.2253 451.555 L88.0042 451.555 L88.0042 457.444 L52.3562 457.444 L52.3562 451.555 L57.8944 451.555 Q54.6479 449.709 53.0883 446.749 Q51.4968 443.789 51.4968 439.556 Q51.4968 438.951 51.5923 438.219 Q51.656 437.487 51.8151 436.596 L57.8307 436.564 Z\" fill=\"#000000\" fill-rule=\"evenodd\" fill-opacity=\"1\" /><path clip-path=\"url(#clip800)\" d=\"M 0 0 M68.7161 401.362 L71.5806 401.362 L71.5806 428.289 Q77.6281 427.907 80.8109 424.66 Q83.9619 421.382 83.9619 415.557 Q83.9619 412.184 83.1344 409.033 Q82.3069 405.85 80.6518 402.73 L86.1899 402.73 Q87.5267 405.881 88.227 409.192 Q88.9272 412.502 88.9272 415.907 Q88.9272 424.438 83.9619 429.435 Q78.9967 434.4 70.5303 434.4 Q61.7774 434.4 56.6531 429.689 Q51.4968 424.947 51.4968 416.926 Q51.4968 409.733 56.1438 405.563 Q60.7589 401.362 68.7161 401.362 M66.9973 407.218 Q62.1912 407.282 59.3266 409.924 Q56.4621 412.534 56.4621 416.862 Q56.4621 421.764 59.2312 424.724 Q62.0002 427.652 67.0292 428.098 L66.9973 407.218 Z\" fill=\"#000000\" fill-rule=\"evenodd\" fill-opacity=\"1\" /><path clip-path=\"url(#clip800)\" d=\"M 0 0 M53.4065 372.493 L58.9447 372.493 Q57.6716 374.976 57.035 377.65 Q56.3984 380.323 56.3984 383.188 Q56.3984 387.548 57.7352 389.744 Q59.072 391.909 61.7456 391.909 Q63.7826 391.909 64.9603 390.349 Q66.1061 388.79 67.1565 384.079 L67.6021 382.074 Q68.9389 375.835 71.3897 373.225 Q73.8086 370.584 78.1691 370.584 Q83.1344 370.584 86.0308 374.53 Q88.9272 378.445 88.9272 385.32 Q88.9272 388.185 88.3543 391.304 Q87.8132 394.391 86.6992 397.829 L80.6518 397.829 Q82.3387 394.582 83.198 391.431 Q84.0256 388.28 84.0256 385.193 Q84.0256 381.055 82.6251 378.827 Q81.1929 376.599 78.6147 376.599 Q76.2276 376.599 74.9545 378.222 Q73.6813 379.814 72.5037 385.257 L72.0262 387.294 Q70.8804 392.736 68.5251 395.155 Q66.138 397.574 62.0002 397.574 Q56.9713 397.574 54.2341 394.009 Q51.4968 390.445 51.4968 383.888 Q51.4968 380.641 51.9743 377.777 Q52.4517 374.912 53.4065 372.493 Z\" fill=\"#000000\" fill-rule=\"evenodd\" fill-opacity=\"1\" /><polyline clip-path=\"url(#clip802)\" style=\"stroke:#009af9; stroke-width:4; stroke-opacity:1; fill:none\" points=\"\n",
       "  285.247,186.798 352.157,188.099 419.066,192 485.976,198.503 552.886,207.607 619.795,219.312 686.705,233.618 753.615,250.525 820.524,270.033 887.434,292.142 \n",
       "  954.344,316.853 1021.25,344.164 1088.16,374.077 1155.07,406.591 1221.98,441.705 1288.89,479.421 1355.8,519.738 1422.71,562.656 1489.62,608.175 1556.53,656.296 \n",
       "  1623.44,707.017 1690.35,760.339 1757.26,816.263 1824.17,874.787 1891.08,935.913 1957.99,999.64 2024.9,1065.97 2091.81,1134.9 2158.72,1206.43 2225.63,1280.56 \n",
       "  2292.54,1357.29 \n",
       "  \"/>\n",
       "<polyline clip-path=\"url(#clip802)\" style=\"stroke:#009af9; stroke-width:4; stroke-opacity:1; fill:none\" points=\"\n",
       "  285.247,213.34 285.247,160.256 \n",
       "  \"/>\n",
       "<polyline clip-path=\"url(#clip802)\" style=\"stroke:#009af9; stroke-width:4; stroke-opacity:1; fill:none\" points=\"\n",
       "  352.157,214.64 352.157,161.557 \n",
       "  \"/>\n",
       "<polyline clip-path=\"url(#clip802)\" style=\"stroke:#009af9; stroke-width:4; stroke-opacity:1; fill:none\" points=\"\n",
       "  419.066,218.542 419.066,165.458 \n",
       "  \"/>\n",
       "<polyline clip-path=\"url(#clip802)\" style=\"stroke:#009af9; stroke-width:4; stroke-opacity:1; fill:none\" points=\"\n",
       "  485.976,225.045 485.976,171.961 \n",
       "  \"/>\n",
       "<polyline clip-path=\"url(#clip802)\" style=\"stroke:#009af9; stroke-width:4; stroke-opacity:1; fill:none\" points=\"\n",
       "  552.886,234.149 552.886,181.064 \n",
       "  \"/>\n",
       "<polyline clip-path=\"url(#clip802)\" style=\"stroke:#009af9; stroke-width:4; stroke-opacity:1; fill:none\" points=\"\n",
       "  619.795,245.856 619.795,192.768 \n",
       "  \"/>\n",
       "<polyline clip-path=\"url(#clip802)\" style=\"stroke:#009af9; stroke-width:4; stroke-opacity:1; fill:none\" points=\"\n",
       "  686.705,260.164 686.705,207.072 \n",
       "  \"/>\n",
       "<polyline clip-path=\"url(#clip802)\" style=\"stroke:#009af9; stroke-width:4; stroke-opacity:1; fill:none\" points=\"\n",
       "  753.615,277.075 753.615,223.975 \n",
       "  \"/>\n",
       "<polyline clip-path=\"url(#clip802)\" style=\"stroke:#009af9; stroke-width:4; stroke-opacity:1; fill:none\" points=\"\n",
       "  820.524,296.588 820.524,243.478 \n",
       "  \"/>\n",
       "<polyline clip-path=\"url(#clip802)\" style=\"stroke:#009af9; stroke-width:4; stroke-opacity:1; fill:none\" points=\"\n",
       "  887.434,318.706 887.434,265.579 \n",
       "  \"/>\n",
       "<polyline clip-path=\"url(#clip802)\" style=\"stroke:#009af9; stroke-width:4; stroke-opacity:1; fill:none\" points=\"\n",
       "  954.344,343.428 954.344,290.278 \n",
       "  \"/>\n",
       "<polyline clip-path=\"url(#clip802)\" style=\"stroke:#009af9; stroke-width:4; stroke-opacity:1; fill:none\" points=\"\n",
       "  1021.25,370.755 1021.25,317.574 \n",
       "  \"/>\n",
       "<polyline clip-path=\"url(#clip802)\" style=\"stroke:#009af9; stroke-width:4; stroke-opacity:1; fill:none\" points=\"\n",
       "  1088.16,400.687 1088.16,347.466 \n",
       "  \"/>\n",
       "<polyline clip-path=\"url(#clip802)\" style=\"stroke:#009af9; stroke-width:4; stroke-opacity:1; fill:none\" points=\"\n",
       "  1155.07,433.227 1155.07,379.954 \n",
       "  \"/>\n",
       "<polyline clip-path=\"url(#clip802)\" style=\"stroke:#009af9; stroke-width:4; stroke-opacity:1; fill:none\" points=\"\n",
       "  1221.98,468.374 1221.98,415.036 \n",
       "  \"/>\n",
       "<polyline clip-path=\"url(#clip802)\" style=\"stroke:#009af9; stroke-width:4; stroke-opacity:1; fill:none\" points=\"\n",
       "  1288.89,506.13 1288.89,452.712 \n",
       "  \"/>\n",
       "<polyline clip-path=\"url(#clip802)\" style=\"stroke:#009af9; stroke-width:4; stroke-opacity:1; fill:none\" points=\"\n",
       "  1355.8,546.496 1355.8,492.98 \n",
       "  \"/>\n",
       "<polyline clip-path=\"url(#clip802)\" style=\"stroke:#009af9; stroke-width:4; stroke-opacity:1; fill:none\" points=\"\n",
       "  1422.71,589.474 1422.71,535.839 \n",
       "  \"/>\n",
       "<polyline clip-path=\"url(#clip802)\" style=\"stroke:#009af9; stroke-width:4; stroke-opacity:1; fill:none\" points=\"\n",
       "  1489.62,635.063 1489.62,581.287 \n",
       "  \"/>\n",
       "<polyline clip-path=\"url(#clip802)\" style=\"stroke:#009af9; stroke-width:4; stroke-opacity:1; fill:none\" points=\"\n",
       "  1556.53,683.266 1556.53,629.325 \n",
       "  \"/>\n",
       "<polyline clip-path=\"url(#clip802)\" style=\"stroke:#009af9; stroke-width:4; stroke-opacity:1; fill:none\" points=\"\n",
       "  1623.44,734.084 1623.44,679.949 \n",
       "  \"/>\n",
       "<polyline clip-path=\"url(#clip802)\" style=\"stroke:#009af9; stroke-width:4; stroke-opacity:1; fill:none\" points=\"\n",
       "  1690.35,787.519 1690.35,733.16 \n",
       "  \"/>\n",
       "<polyline clip-path=\"url(#clip802)\" style=\"stroke:#009af9; stroke-width:4; stroke-opacity:1; fill:none\" points=\"\n",
       "  1757.26,843.571 1757.26,788.955 \n",
       "  \"/>\n",
       "<polyline clip-path=\"url(#clip802)\" style=\"stroke:#009af9; stroke-width:4; stroke-opacity:1; fill:none\" points=\"\n",
       "  1824.17,902.242 1824.17,847.333 \n",
       "  \"/>\n",
       "<polyline clip-path=\"url(#clip802)\" style=\"stroke:#009af9; stroke-width:4; stroke-opacity:1; fill:none\" points=\"\n",
       "  1891.08,963.534 1891.08,908.293 \n",
       "  \"/>\n",
       "<polyline clip-path=\"url(#clip802)\" style=\"stroke:#009af9; stroke-width:4; stroke-opacity:1; fill:none\" points=\"\n",
       "  1957.99,1027.45 1957.99,971.832 \n",
       "  \"/>\n",
       "<polyline clip-path=\"url(#clip802)\" style=\"stroke:#009af9; stroke-width:4; stroke-opacity:1; fill:none\" points=\"\n",
       "  2024.9,1093.98 2024.9,1037.95 \n",
       "  \"/>\n",
       "<polyline clip-path=\"url(#clip802)\" style=\"stroke:#009af9; stroke-width:4; stroke-opacity:1; fill:none\" points=\"\n",
       "  2091.81,1163.15 2091.81,1106.65 \n",
       "  \"/>\n",
       "<polyline clip-path=\"url(#clip802)\" style=\"stroke:#009af9; stroke-width:4; stroke-opacity:1; fill:none\" points=\"\n",
       "  2158.72,1234.94 2158.72,1177.92 \n",
       "  \"/>\n",
       "<polyline clip-path=\"url(#clip802)\" style=\"stroke:#009af9; stroke-width:4; stroke-opacity:1; fill:none\" points=\"\n",
       "  2225.63,1309.35 2225.63,1251.77 \n",
       "  \"/>\n",
       "<polyline clip-path=\"url(#clip802)\" style=\"stroke:#009af9; stroke-width:4; stroke-opacity:1; fill:none\" points=\"\n",
       "  2292.54,1386.4 2292.54,1328.19 \n",
       "  \"/>\n",
       "<line clip-path=\"url(#clip802)\" x1=\"301.247\" y1=\"213.34\" x2=\"269.247\" y2=\"213.34\" style=\"stroke:#009af9; stroke-width:3.2; stroke-opacity:1\"/>\n",
       "<line clip-path=\"url(#clip802)\" x1=\"301.247\" y1=\"160.256\" x2=\"269.247\" y2=\"160.256\" style=\"stroke:#009af9; stroke-width:3.2; stroke-opacity:1\"/>\n",
       "<line clip-path=\"url(#clip802)\" x1=\"368.157\" y1=\"214.64\" x2=\"336.157\" y2=\"214.64\" style=\"stroke:#009af9; stroke-width:3.2; stroke-opacity:1\"/>\n",
       "<line clip-path=\"url(#clip802)\" x1=\"368.157\" y1=\"161.557\" x2=\"336.157\" y2=\"161.557\" style=\"stroke:#009af9; stroke-width:3.2; stroke-opacity:1\"/>\n",
       "<line clip-path=\"url(#clip802)\" x1=\"435.066\" y1=\"218.542\" x2=\"403.066\" y2=\"218.542\" style=\"stroke:#009af9; stroke-width:3.2; stroke-opacity:1\"/>\n",
       "<line clip-path=\"url(#clip802)\" x1=\"435.066\" y1=\"165.458\" x2=\"403.066\" y2=\"165.458\" style=\"stroke:#009af9; stroke-width:3.2; stroke-opacity:1\"/>\n",
       "<line clip-path=\"url(#clip802)\" x1=\"501.976\" y1=\"225.045\" x2=\"469.976\" y2=\"225.045\" style=\"stroke:#009af9; stroke-width:3.2; stroke-opacity:1\"/>\n",
       "<line clip-path=\"url(#clip802)\" x1=\"501.976\" y1=\"171.961\" x2=\"469.976\" y2=\"171.961\" style=\"stroke:#009af9; stroke-width:3.2; stroke-opacity:1\"/>\n",
       "<line clip-path=\"url(#clip802)\" x1=\"568.886\" y1=\"234.149\" x2=\"536.886\" y2=\"234.149\" style=\"stroke:#009af9; stroke-width:3.2; stroke-opacity:1\"/>\n",
       "<line clip-path=\"url(#clip802)\" x1=\"568.886\" y1=\"181.064\" x2=\"536.886\" y2=\"181.064\" style=\"stroke:#009af9; stroke-width:3.2; stroke-opacity:1\"/>\n",
       "<line clip-path=\"url(#clip802)\" x1=\"635.795\" y1=\"245.856\" x2=\"603.795\" y2=\"245.856\" style=\"stroke:#009af9; stroke-width:3.2; stroke-opacity:1\"/>\n",
       "<line clip-path=\"url(#clip802)\" x1=\"635.795\" y1=\"192.768\" x2=\"603.795\" y2=\"192.768\" style=\"stroke:#009af9; stroke-width:3.2; stroke-opacity:1\"/>\n",
       "<line clip-path=\"url(#clip802)\" x1=\"702.705\" y1=\"260.164\" x2=\"670.705\" y2=\"260.164\" style=\"stroke:#009af9; stroke-width:3.2; stroke-opacity:1\"/>\n",
       "<line clip-path=\"url(#clip802)\" x1=\"702.705\" y1=\"207.072\" x2=\"670.705\" y2=\"207.072\" style=\"stroke:#009af9; stroke-width:3.2; stroke-opacity:1\"/>\n",
       "<line clip-path=\"url(#clip802)\" x1=\"769.615\" y1=\"277.075\" x2=\"737.615\" y2=\"277.075\" style=\"stroke:#009af9; stroke-width:3.2; stroke-opacity:1\"/>\n",
       "<line clip-path=\"url(#clip802)\" x1=\"769.615\" y1=\"223.975\" x2=\"737.615\" y2=\"223.975\" style=\"stroke:#009af9; stroke-width:3.2; stroke-opacity:1\"/>\n",
       "<line clip-path=\"url(#clip802)\" x1=\"836.524\" y1=\"296.588\" x2=\"804.524\" y2=\"296.588\" style=\"stroke:#009af9; stroke-width:3.2; stroke-opacity:1\"/>\n",
       "<line clip-path=\"url(#clip802)\" x1=\"836.524\" y1=\"243.478\" x2=\"804.524\" y2=\"243.478\" style=\"stroke:#009af9; stroke-width:3.2; stroke-opacity:1\"/>\n",
       "<line clip-path=\"url(#clip802)\" x1=\"903.434\" y1=\"318.706\" x2=\"871.434\" y2=\"318.706\" style=\"stroke:#009af9; stroke-width:3.2; stroke-opacity:1\"/>\n",
       "<line clip-path=\"url(#clip802)\" x1=\"903.434\" y1=\"265.579\" x2=\"871.434\" y2=\"265.579\" style=\"stroke:#009af9; stroke-width:3.2; stroke-opacity:1\"/>\n",
       "<line clip-path=\"url(#clip802)\" x1=\"970.344\" y1=\"343.428\" x2=\"938.344\" y2=\"343.428\" style=\"stroke:#009af9; stroke-width:3.2; stroke-opacity:1\"/>\n",
       "<line clip-path=\"url(#clip802)\" x1=\"970.344\" y1=\"290.278\" x2=\"938.344\" y2=\"290.278\" style=\"stroke:#009af9; stroke-width:3.2; stroke-opacity:1\"/>\n",
       "<line clip-path=\"url(#clip802)\" x1=\"1037.25\" y1=\"370.755\" x2=\"1005.25\" y2=\"370.755\" style=\"stroke:#009af9; stroke-width:3.2; stroke-opacity:1\"/>\n",
       "<line clip-path=\"url(#clip802)\" x1=\"1037.25\" y1=\"317.574\" x2=\"1005.25\" y2=\"317.574\" style=\"stroke:#009af9; stroke-width:3.2; stroke-opacity:1\"/>\n",
       "<line clip-path=\"url(#clip802)\" x1=\"1104.16\" y1=\"400.687\" x2=\"1072.16\" y2=\"400.687\" style=\"stroke:#009af9; stroke-width:3.2; stroke-opacity:1\"/>\n",
       "<line clip-path=\"url(#clip802)\" x1=\"1104.16\" y1=\"347.466\" x2=\"1072.16\" y2=\"347.466\" style=\"stroke:#009af9; stroke-width:3.2; stroke-opacity:1\"/>\n",
       "<line clip-path=\"url(#clip802)\" x1=\"1171.07\" y1=\"433.227\" x2=\"1139.07\" y2=\"433.227\" style=\"stroke:#009af9; stroke-width:3.2; stroke-opacity:1\"/>\n",
       "<line clip-path=\"url(#clip802)\" x1=\"1171.07\" y1=\"379.954\" x2=\"1139.07\" y2=\"379.954\" style=\"stroke:#009af9; stroke-width:3.2; stroke-opacity:1\"/>\n",
       "<line clip-path=\"url(#clip802)\" x1=\"1237.98\" y1=\"468.374\" x2=\"1205.98\" y2=\"468.374\" style=\"stroke:#009af9; stroke-width:3.2; stroke-opacity:1\"/>\n",
       "<line clip-path=\"url(#clip802)\" x1=\"1237.98\" y1=\"415.036\" x2=\"1205.98\" y2=\"415.036\" style=\"stroke:#009af9; stroke-width:3.2; stroke-opacity:1\"/>\n",
       "<line clip-path=\"url(#clip802)\" x1=\"1304.89\" y1=\"506.13\" x2=\"1272.89\" y2=\"506.13\" style=\"stroke:#009af9; stroke-width:3.2; stroke-opacity:1\"/>\n",
       "<line clip-path=\"url(#clip802)\" x1=\"1304.89\" y1=\"452.712\" x2=\"1272.89\" y2=\"452.712\" style=\"stroke:#009af9; stroke-width:3.2; stroke-opacity:1\"/>\n",
       "<line clip-path=\"url(#clip802)\" x1=\"1371.8\" y1=\"546.496\" x2=\"1339.8\" y2=\"546.496\" style=\"stroke:#009af9; stroke-width:3.2; stroke-opacity:1\"/>\n",
       "<line clip-path=\"url(#clip802)\" x1=\"1371.8\" y1=\"492.98\" x2=\"1339.8\" y2=\"492.98\" style=\"stroke:#009af9; stroke-width:3.2; stroke-opacity:1\"/>\n",
       "<line clip-path=\"url(#clip802)\" x1=\"1438.71\" y1=\"589.474\" x2=\"1406.71\" y2=\"589.474\" style=\"stroke:#009af9; stroke-width:3.2; stroke-opacity:1\"/>\n",
       "<line clip-path=\"url(#clip802)\" x1=\"1438.71\" y1=\"535.839\" x2=\"1406.71\" y2=\"535.839\" style=\"stroke:#009af9; stroke-width:3.2; stroke-opacity:1\"/>\n",
       "<line clip-path=\"url(#clip802)\" x1=\"1505.62\" y1=\"635.063\" x2=\"1473.62\" y2=\"635.063\" style=\"stroke:#009af9; stroke-width:3.2; stroke-opacity:1\"/>\n",
       "<line clip-path=\"url(#clip802)\" x1=\"1505.62\" y1=\"581.287\" x2=\"1473.62\" y2=\"581.287\" style=\"stroke:#009af9; stroke-width:3.2; stroke-opacity:1\"/>\n",
       "<line clip-path=\"url(#clip802)\" x1=\"1572.53\" y1=\"683.266\" x2=\"1540.53\" y2=\"683.266\" style=\"stroke:#009af9; stroke-width:3.2; stroke-opacity:1\"/>\n",
       "<line clip-path=\"url(#clip802)\" x1=\"1572.53\" y1=\"629.325\" x2=\"1540.53\" y2=\"629.325\" style=\"stroke:#009af9; stroke-width:3.2; stroke-opacity:1\"/>\n",
       "<line clip-path=\"url(#clip802)\" x1=\"1639.44\" y1=\"734.084\" x2=\"1607.44\" y2=\"734.084\" style=\"stroke:#009af9; stroke-width:3.2; stroke-opacity:1\"/>\n",
       "<line clip-path=\"url(#clip802)\" x1=\"1639.44\" y1=\"679.949\" x2=\"1607.44\" y2=\"679.949\" style=\"stroke:#009af9; stroke-width:3.2; stroke-opacity:1\"/>\n",
       "<line clip-path=\"url(#clip802)\" x1=\"1706.35\" y1=\"787.519\" x2=\"1674.35\" y2=\"787.519\" style=\"stroke:#009af9; stroke-width:3.2; stroke-opacity:1\"/>\n",
       "<line clip-path=\"url(#clip802)\" x1=\"1706.35\" y1=\"733.16\" x2=\"1674.35\" y2=\"733.16\" style=\"stroke:#009af9; stroke-width:3.2; stroke-opacity:1\"/>\n",
       "<line clip-path=\"url(#clip802)\" x1=\"1773.26\" y1=\"843.571\" x2=\"1741.26\" y2=\"843.571\" style=\"stroke:#009af9; stroke-width:3.2; stroke-opacity:1\"/>\n",
       "<line clip-path=\"url(#clip802)\" x1=\"1773.26\" y1=\"788.955\" x2=\"1741.26\" y2=\"788.955\" style=\"stroke:#009af9; stroke-width:3.2; stroke-opacity:1\"/>\n",
       "<line clip-path=\"url(#clip802)\" x1=\"1840.17\" y1=\"902.242\" x2=\"1808.17\" y2=\"902.242\" style=\"stroke:#009af9; stroke-width:3.2; stroke-opacity:1\"/>\n",
       "<line clip-path=\"url(#clip802)\" x1=\"1840.17\" y1=\"847.333\" x2=\"1808.17\" y2=\"847.333\" style=\"stroke:#009af9; stroke-width:3.2; stroke-opacity:1\"/>\n",
       "<line clip-path=\"url(#clip802)\" x1=\"1907.08\" y1=\"963.534\" x2=\"1875.08\" y2=\"963.534\" style=\"stroke:#009af9; stroke-width:3.2; stroke-opacity:1\"/>\n",
       "<line clip-path=\"url(#clip802)\" x1=\"1907.08\" y1=\"908.293\" x2=\"1875.08\" y2=\"908.293\" style=\"stroke:#009af9; stroke-width:3.2; stroke-opacity:1\"/>\n",
       "<line clip-path=\"url(#clip802)\" x1=\"1973.99\" y1=\"1027.45\" x2=\"1941.99\" y2=\"1027.45\" style=\"stroke:#009af9; stroke-width:3.2; stroke-opacity:1\"/>\n",
       "<line clip-path=\"url(#clip802)\" x1=\"1973.99\" y1=\"971.832\" x2=\"1941.99\" y2=\"971.832\" style=\"stroke:#009af9; stroke-width:3.2; stroke-opacity:1\"/>\n",
       "<line clip-path=\"url(#clip802)\" x1=\"2040.9\" y1=\"1093.98\" x2=\"2008.9\" y2=\"1093.98\" style=\"stroke:#009af9; stroke-width:3.2; stroke-opacity:1\"/>\n",
       "<line clip-path=\"url(#clip802)\" x1=\"2040.9\" y1=\"1037.95\" x2=\"2008.9\" y2=\"1037.95\" style=\"stroke:#009af9; stroke-width:3.2; stroke-opacity:1\"/>\n",
       "<line clip-path=\"url(#clip802)\" x1=\"2107.81\" y1=\"1163.15\" x2=\"2075.81\" y2=\"1163.15\" style=\"stroke:#009af9; stroke-width:3.2; stroke-opacity:1\"/>\n",
       "<line clip-path=\"url(#clip802)\" x1=\"2107.81\" y1=\"1106.65\" x2=\"2075.81\" y2=\"1106.65\" style=\"stroke:#009af9; stroke-width:3.2; stroke-opacity:1\"/>\n",
       "<line clip-path=\"url(#clip802)\" x1=\"2174.72\" y1=\"1234.94\" x2=\"2142.72\" y2=\"1234.94\" style=\"stroke:#009af9; stroke-width:3.2; stroke-opacity:1\"/>\n",
       "<line clip-path=\"url(#clip802)\" x1=\"2174.72\" y1=\"1177.92\" x2=\"2142.72\" y2=\"1177.92\" style=\"stroke:#009af9; stroke-width:3.2; stroke-opacity:1\"/>\n",
       "<line clip-path=\"url(#clip802)\" x1=\"2241.63\" y1=\"1309.35\" x2=\"2209.63\" y2=\"1309.35\" style=\"stroke:#009af9; stroke-width:3.2; stroke-opacity:1\"/>\n",
       "<line clip-path=\"url(#clip802)\" x1=\"2241.63\" y1=\"1251.77\" x2=\"2209.63\" y2=\"1251.77\" style=\"stroke:#009af9; stroke-width:3.2; stroke-opacity:1\"/>\n",
       "<line clip-path=\"url(#clip802)\" x1=\"2308.54\" y1=\"1386.4\" x2=\"2276.54\" y2=\"1386.4\" style=\"stroke:#009af9; stroke-width:3.2; stroke-opacity:1\"/>\n",
       "<line clip-path=\"url(#clip802)\" x1=\"2308.54\" y1=\"1328.19\" x2=\"2276.54\" y2=\"1328.19\" style=\"stroke:#009af9; stroke-width:3.2; stroke-opacity:1\"/>\n",
       "<path clip-path=\"url(#clip800)\" d=\"\n",
       "M1989.74 327.952 L2280.76 327.952 L2280.76 206.992 L1989.74 206.992  Z\n",
       "  \" fill=\"#ffffff\" fill-rule=\"evenodd\" fill-opacity=\"1\"/>\n",
       "<polyline clip-path=\"url(#clip800)\" style=\"stroke:#000000; stroke-width:4; stroke-opacity:1; fill:none\" points=\"\n",
       "  1989.74,327.952 2280.76,327.952 2280.76,206.992 1989.74,206.992 1989.74,327.952 \n",
       "  \"/>\n",
       "<polyline clip-path=\"url(#clip800)\" style=\"stroke:#009af9; stroke-width:4; stroke-opacity:1; fill:none\" points=\"\n",
       "  2013.74,267.472 2157.74,267.472 \n",
       "  \"/>\n",
       "<path clip-path=\"url(#clip800)\" d=\"M 0 0 M2195.58 287.16 Q2193.77 291.789 2192.06 293.201 Q2190.35 294.613 2187.48 294.613 L2184.08 294.613 L2184.08 291.048 L2186.58 291.048 Q2188.33 291.048 2189.31 290.215 Q2190.28 289.382 2191.46 286.28 L2192.22 284.335 L2181.74 258.826 L2186.25 258.826 L2194.35 279.104 L2202.46 258.826 L2206.97 258.826 L2195.58 287.16 Z\" fill=\"#000000\" fill-rule=\"evenodd\" fill-opacity=\"1\" /><path clip-path=\"url(#clip800)\" d=\"M 0 0 M2212.85 280.817 L2220.49 280.817 L2220.49 254.451 L2212.18 256.118 L2212.18 251.859 L2220.44 250.192 L2225.12 250.192 L2225.12 280.817 L2232.76 280.817 L2232.76 284.752 L2212.85 284.752 L2212.85 280.817 Z\" fill=\"#000000\" fill-rule=\"evenodd\" fill-opacity=\"1\" /></svg>\n"
      ],
      "image/svg+xml": [
       "<?xml version=\"1.0\" encoding=\"utf-8\"?>\n",
       "<svg xmlns=\"http://www.w3.org/2000/svg\" xmlns:xlink=\"http://www.w3.org/1999/xlink\" width=\"600\" height=\"400\" viewBox=\"0 0 2400 1600\">\n",
       "<defs>\n",
       "  <clipPath id=\"clip770\">\n",
       "    <rect x=\"0\" y=\"0\" width=\"2400\" height=\"1600\"/>\n",
       "  </clipPath>\n",
       "</defs>\n",
       "<path clip-path=\"url(#clip770)\" d=\"\n",
       "M0 1600 L2400 1600 L2400 0 L0 0  Z\n",
       "  \" fill=\"#ffffff\" fill-rule=\"evenodd\" fill-opacity=\"1\"/>\n",
       "<defs>\n",
       "  <clipPath id=\"clip771\">\n",
       "    <rect x=\"480\" y=\"0\" width=\"1681\" height=\"1600\"/>\n",
       "  </clipPath>\n",
       "</defs>\n",
       "<path clip-path=\"url(#clip770)\" d=\"\n",
       "M225.028 1423.18 L2352.76 1423.18 L2352.76 123.472 L225.028 123.472  Z\n",
       "  \" fill=\"#ffffff\" fill-rule=\"evenodd\" fill-opacity=\"1\"/>\n",
       "<defs>\n",
       "  <clipPath id=\"clip772\">\n",
       "    <rect x=\"225\" y=\"123\" width=\"2129\" height=\"1301\"/>\n",
       "  </clipPath>\n",
       "</defs>\n",
       "<polyline clip-path=\"url(#clip772)\" style=\"stroke:#000000; stroke-width:2; stroke-opacity:0.1; fill:none\" points=\"\n",
       "  285.247,1423.18 285.247,123.472 \n",
       "  \"/>\n",
       "<polyline clip-path=\"url(#clip772)\" style=\"stroke:#000000; stroke-width:2; stroke-opacity:0.1; fill:none\" points=\"\n",
       "  954.344,1423.18 954.344,123.472 \n",
       "  \"/>\n",
       "<polyline clip-path=\"url(#clip772)\" style=\"stroke:#000000; stroke-width:2; stroke-opacity:0.1; fill:none\" points=\"\n",
       "  1623.44,1423.18 1623.44,123.472 \n",
       "  \"/>\n",
       "<polyline clip-path=\"url(#clip772)\" style=\"stroke:#000000; stroke-width:2; stroke-opacity:0.1; fill:none\" points=\"\n",
       "  2292.54,1423.18 2292.54,123.472 \n",
       "  \"/>\n",
       "<polyline clip-path=\"url(#clip772)\" style=\"stroke:#000000; stroke-width:2; stroke-opacity:0.1; fill:none\" points=\"\n",
       "  225.028,1248.47 2352.76,1248.47 \n",
       "  \"/>\n",
       "<polyline clip-path=\"url(#clip772)\" style=\"stroke:#000000; stroke-width:2; stroke-opacity:0.1; fill:none\" points=\"\n",
       "  225.028,983.051 2352.76,983.051 \n",
       "  \"/>\n",
       "<polyline clip-path=\"url(#clip772)\" style=\"stroke:#000000; stroke-width:2; stroke-opacity:0.1; fill:none\" points=\"\n",
       "  225.028,717.634 2352.76,717.634 \n",
       "  \"/>\n",
       "<polyline clip-path=\"url(#clip772)\" style=\"stroke:#000000; stroke-width:2; stroke-opacity:0.1; fill:none\" points=\"\n",
       "  225.028,452.216 2352.76,452.216 \n",
       "  \"/>\n",
       "<polyline clip-path=\"url(#clip772)\" style=\"stroke:#000000; stroke-width:2; stroke-opacity:0.1; fill:none\" points=\"\n",
       "  225.028,186.798 2352.76,186.798 \n",
       "  \"/>\n",
       "<polyline clip-path=\"url(#clip770)\" style=\"stroke:#000000; stroke-width:4; stroke-opacity:1; fill:none\" points=\"\n",
       "  225.028,1423.18 2352.76,1423.18 \n",
       "  \"/>\n",
       "<polyline clip-path=\"url(#clip770)\" style=\"stroke:#000000; stroke-width:4; stroke-opacity:1; fill:none\" points=\"\n",
       "  225.028,1423.18 225.028,123.472 \n",
       "  \"/>\n",
       "<polyline clip-path=\"url(#clip770)\" style=\"stroke:#000000; stroke-width:4; stroke-opacity:1; fill:none\" points=\"\n",
       "  285.247,1423.18 285.247,1407.58 \n",
       "  \"/>\n",
       "<polyline clip-path=\"url(#clip770)\" style=\"stroke:#000000; stroke-width:4; stroke-opacity:1; fill:none\" points=\"\n",
       "  954.344,1423.18 954.344,1407.58 \n",
       "  \"/>\n",
       "<polyline clip-path=\"url(#clip770)\" style=\"stroke:#000000; stroke-width:4; stroke-opacity:1; fill:none\" points=\"\n",
       "  1623.44,1423.18 1623.44,1407.58 \n",
       "  \"/>\n",
       "<polyline clip-path=\"url(#clip770)\" style=\"stroke:#000000; stroke-width:4; stroke-opacity:1; fill:none\" points=\"\n",
       "  2292.54,1423.18 2292.54,1407.58 \n",
       "  \"/>\n",
       "<polyline clip-path=\"url(#clip770)\" style=\"stroke:#000000; stroke-width:4; stroke-opacity:1; fill:none\" points=\"\n",
       "  225.028,1248.47 250.561,1248.47 \n",
       "  \"/>\n",
       "<polyline clip-path=\"url(#clip770)\" style=\"stroke:#000000; stroke-width:4; stroke-opacity:1; fill:none\" points=\"\n",
       "  225.028,983.051 250.561,983.051 \n",
       "  \"/>\n",
       "<polyline clip-path=\"url(#clip770)\" style=\"stroke:#000000; stroke-width:4; stroke-opacity:1; fill:none\" points=\"\n",
       "  225.028,717.634 250.561,717.634 \n",
       "  \"/>\n",
       "<polyline clip-path=\"url(#clip770)\" style=\"stroke:#000000; stroke-width:4; stroke-opacity:1; fill:none\" points=\"\n",
       "  225.028,452.216 250.561,452.216 \n",
       "  \"/>\n",
       "<polyline clip-path=\"url(#clip770)\" style=\"stroke:#000000; stroke-width:4; stroke-opacity:1; fill:none\" points=\"\n",
       "  225.028,186.798 250.561,186.798 \n",
       "  \"/>\n",
       "<path clip-path=\"url(#clip770)\" d=\"M 0 0 M285.247 1445.17 Q281.636 1445.17 279.807 1448.74 Q278.002 1452.28 278.002 1459.41 Q278.002 1466.51 279.807 1470.08 Q281.636 1473.62 285.247 1473.62 Q288.881 1473.62 290.687 1470.08 Q292.515 1466.51 292.515 1459.41 Q292.515 1452.28 290.687 1448.74 Q288.881 1445.17 285.247 1445.17 M285.247 1441.47 Q291.057 1441.47 294.113 1446.07 Q297.191 1450.66 297.191 1459.41 Q297.191 1468.13 294.113 1472.74 Q291.057 1477.32 285.247 1477.32 Q279.437 1477.32 276.358 1472.74 Q273.303 1468.13 273.303 1459.41 Q273.303 1450.66 276.358 1446.07 Q279.437 1441.47 285.247 1441.47 Z\" fill=\"#000000\" fill-rule=\"evenodd\" fill-opacity=\"1\" /><path clip-path=\"url(#clip770)\" d=\"M 0 0 M944.726 1472.72 L952.365 1472.72 L952.365 1446.35 L944.054 1448.02 L944.054 1443.76 L952.318 1442.09 L956.994 1442.09 L956.994 1472.72 L964.633 1472.72 L964.633 1476.65 L944.726 1476.65 L944.726 1472.72 Z\" fill=\"#000000\" fill-rule=\"evenodd\" fill-opacity=\"1\" /><path clip-path=\"url(#clip770)\" d=\"M 0 0 M1618.09 1472.72 L1634.41 1472.72 L1634.41 1476.65 L1612.47 1476.65 L1612.47 1472.72 Q1615.13 1469.96 1619.71 1465.33 Q1624.32 1460.68 1625.5 1459.34 Q1627.75 1456.81 1628.63 1455.08 Q1629.53 1453.32 1629.53 1451.63 Q1629.53 1448.87 1627.58 1447.14 Q1625.66 1445.4 1622.56 1445.4 Q1620.36 1445.4 1617.91 1446.17 Q1615.48 1446.93 1612.7 1448.48 L1612.7 1443.76 Q1615.52 1442.62 1617.98 1442.05 Q1620.43 1441.47 1622.47 1441.47 Q1627.84 1441.47 1631.03 1444.15 Q1634.23 1446.84 1634.23 1451.33 Q1634.23 1453.46 1633.42 1455.38 Q1632.63 1457.28 1630.52 1459.87 Q1629.95 1460.54 1626.84 1463.76 Q1623.74 1466.95 1618.09 1472.72 Z\" fill=\"#000000\" fill-rule=\"evenodd\" fill-opacity=\"1\" /><path clip-path=\"url(#clip770)\" d=\"M 0 0 M2296.78 1458.02 Q2300.14 1458.74 2302.02 1461 Q2303.91 1463.27 2303.91 1466.61 Q2303.91 1471.72 2300.4 1474.52 Q2296.88 1477.32 2290.4 1477.32 Q2288.22 1477.32 2285.91 1476.88 Q2283.61 1476.47 2281.16 1475.61 L2281.16 1471.1 Q2283.1 1472.23 2285.42 1472.81 Q2287.73 1473.39 2290.26 1473.39 Q2294.66 1473.39 2296.95 1471.65 Q2299.26 1469.92 2299.26 1466.61 Q2299.26 1463.55 2297.11 1461.84 Q2294.98 1460.1 2291.16 1460.1 L2287.13 1460.1 L2287.13 1456.26 L2291.35 1456.26 Q2294.79 1456.26 2296.62 1454.89 Q2298.45 1453.5 2298.45 1450.91 Q2298.45 1448.25 2296.55 1446.84 Q2294.68 1445.4 2291.16 1445.4 Q2289.24 1445.4 2287.04 1445.82 Q2284.84 1446.24 2282.2 1447.11 L2282.2 1442.95 Q2284.86 1442.21 2287.18 1441.84 Q2289.52 1441.47 2291.58 1441.47 Q2296.9 1441.47 2300 1443.9 Q2303.1 1446.3 2303.1 1450.43 Q2303.1 1453.3 2301.46 1455.29 Q2299.82 1457.25 2296.78 1458.02 Z\" fill=\"#000000\" fill-rule=\"evenodd\" fill-opacity=\"1\" /><path clip-path=\"url(#clip770)\" d=\"M 0 0 M128.089 1261.81 L135.728 1261.81 L135.728 1235.45 L127.418 1237.11 L127.418 1232.86 L135.681 1231.19 L140.357 1231.19 L140.357 1261.81 L147.996 1261.81 L147.996 1265.75 L128.089 1265.75 L128.089 1261.81 Z\" fill=\"#000000\" fill-rule=\"evenodd\" fill-opacity=\"1\" /><path clip-path=\"url(#clip770)\" d=\"M 0 0 M153.112 1231.19 L171.468 1231.19 L171.468 1235.12 L157.394 1235.12 L157.394 1243.6 Q158.413 1243.25 159.431 1243.09 Q160.45 1242.9 161.468 1242.9 Q167.255 1242.9 170.635 1246.07 Q174.015 1249.24 174.015 1254.66 Q174.015 1260.24 170.542 1263.34 Q167.07 1266.42 160.751 1266.42 Q158.575 1266.42 156.306 1266.05 Q154.061 1265.68 151.654 1264.94 L151.654 1260.24 Q153.737 1261.37 155.959 1261.93 Q158.181 1262.49 160.658 1262.49 Q164.663 1262.49 167.001 1260.38 Q169.339 1258.27 169.339 1254.66 Q169.339 1251.05 167.001 1248.94 Q164.663 1246.84 160.658 1246.84 Q158.783 1246.84 156.908 1247.25 Q155.056 1247.67 153.112 1248.55 L153.112 1231.19 Z\" fill=\"#000000\" fill-rule=\"evenodd\" fill-opacity=\"1\" /><path clip-path=\"url(#clip770)\" d=\"M 0 0 M189.084 1234.27 Q185.473 1234.27 183.644 1237.83 Q181.839 1241.37 181.839 1248.5 Q181.839 1255.61 183.644 1259.18 Q185.473 1262.72 189.084 1262.72 Q192.718 1262.72 194.524 1259.18 Q196.352 1255.61 196.352 1248.5 Q196.352 1241.37 194.524 1237.83 Q192.718 1234.27 189.084 1234.27 M189.084 1230.56 Q194.894 1230.56 197.95 1235.17 Q201.028 1239.75 201.028 1248.5 Q201.028 1257.23 197.95 1261.84 Q194.894 1266.42 189.084 1266.42 Q183.274 1266.42 180.195 1261.84 Q177.14 1257.23 177.14 1248.5 Q177.14 1239.75 180.195 1235.17 Q183.274 1230.56 189.084 1230.56 Z\" fill=\"#000000\" fill-rule=\"evenodd\" fill-opacity=\"1\" /><path clip-path=\"url(#clip770)\" d=\"M 0 0 M126.931 996.396 L134.57 996.396 L134.57 970.031 L126.26 971.697 L126.26 967.438 L134.524 965.771 L139.2 965.771 L139.2 996.396 L146.839 996.396 L146.839 1000.33 L126.931 1000.33 L126.931 996.396 Z\" fill=\"#000000\" fill-rule=\"evenodd\" fill-opacity=\"1\" /><path clip-path=\"url(#clip770)\" d=\"M 0 0 M162.487 981.188 Q159.339 981.188 157.487 983.341 Q155.658 985.493 155.658 989.243 Q155.658 992.97 157.487 995.146 Q159.339 997.299 162.487 997.299 Q165.635 997.299 167.464 995.146 Q169.315 992.97 169.315 989.243 Q169.315 985.493 167.464 983.341 Q165.635 981.188 162.487 981.188 M171.769 966.535 L171.769 970.794 Q170.01 969.961 168.204 969.521 Q166.422 969.081 164.663 969.081 Q160.033 969.081 157.579 972.206 Q155.149 975.331 154.802 981.651 Q156.167 979.637 158.228 978.572 Q160.288 977.484 162.765 977.484 Q167.973 977.484 170.982 980.655 Q174.015 983.804 174.015 989.243 Q174.015 994.567 170.866 997.785 Q167.718 1001 162.487 1001 Q156.491 1001 153.32 996.419 Q150.149 991.813 150.149 983.086 Q150.149 974.892 154.038 970.031 Q157.927 965.146 164.478 965.146 Q166.237 965.146 168.019 965.494 Q169.825 965.841 171.769 966.535 Z\" fill=\"#000000\" fill-rule=\"evenodd\" fill-opacity=\"1\" /><path clip-path=\"url(#clip770)\" d=\"M 0 0 M189.084 968.85 Q185.473 968.85 183.644 972.415 Q181.839 975.956 181.839 983.086 Q181.839 990.192 183.644 993.757 Q185.473 997.299 189.084 997.299 Q192.718 997.299 194.524 993.757 Q196.352 990.192 196.352 983.086 Q196.352 975.956 194.524 972.415 Q192.718 968.85 189.084 968.85 M189.084 965.146 Q194.894 965.146 197.95 969.753 Q201.028 974.336 201.028 983.086 Q201.028 991.813 197.95 996.419 Q194.894 1001 189.084 1001 Q183.274 1001 180.195 996.419 Q177.14 991.813 177.14 983.086 Q177.14 974.336 180.195 969.753 Q183.274 965.146 189.084 965.146 Z\" fill=\"#000000\" fill-rule=\"evenodd\" fill-opacity=\"1\" /><path clip-path=\"url(#clip770)\" d=\"M 0 0 M127.996 730.978 L135.635 730.978 L135.635 704.613 L127.325 706.279 L127.325 702.02 L135.589 700.354 L140.265 700.354 L140.265 730.978 L147.904 730.978 L147.904 734.914 L127.996 734.914 L127.996 730.978 Z\" fill=\"#000000\" fill-rule=\"evenodd\" fill-opacity=\"1\" /><path clip-path=\"url(#clip770)\" d=\"M 0 0 M151.792 700.354 L174.015 700.354 L174.015 702.344 L161.468 734.914 L156.584 734.914 L168.39 704.289 L151.792 704.289 L151.792 700.354 Z\" fill=\"#000000\" fill-rule=\"evenodd\" fill-opacity=\"1\" /><path clip-path=\"url(#clip770)\" d=\"M 0 0 M189.084 703.432 Q185.473 703.432 183.644 706.997 Q181.839 710.539 181.839 717.668 Q181.839 724.775 183.644 728.34 Q185.473 731.881 189.084 731.881 Q192.718 731.881 194.524 728.34 Q196.352 724.775 196.352 717.668 Q196.352 710.539 194.524 706.997 Q192.718 703.432 189.084 703.432 M189.084 699.729 Q194.894 699.729 197.95 704.335 Q201.028 708.918 201.028 717.668 Q201.028 726.395 197.95 731.002 Q194.894 735.585 189.084 735.585 Q183.274 735.585 180.195 731.002 Q177.14 726.395 177.14 717.668 Q177.14 708.918 180.195 704.335 Q183.274 699.729 189.084 699.729 Z\" fill=\"#000000\" fill-rule=\"evenodd\" fill-opacity=\"1\" /><path clip-path=\"url(#clip770)\" d=\"M 0 0 M127.186 465.561 L134.825 465.561 L134.825 439.195 L126.515 440.862 L126.515 436.602 L134.779 434.936 L139.455 434.936 L139.455 465.561 L147.093 465.561 L147.093 469.496 L127.186 469.496 L127.186 465.561 Z\" fill=\"#000000\" fill-rule=\"evenodd\" fill-opacity=\"1\" /><path clip-path=\"url(#clip770)\" d=\"M 0 0 M162.163 453.084 Q158.829 453.084 156.908 454.866 Q155.01 456.649 155.01 459.774 Q155.01 462.899 156.908 464.681 Q158.829 466.463 162.163 466.463 Q165.496 466.463 167.417 464.681 Q169.339 462.875 169.339 459.774 Q169.339 456.649 167.417 454.866 Q165.519 453.084 162.163 453.084 M157.487 451.093 Q154.478 450.352 152.788 448.292 Q151.121 446.232 151.121 443.269 Q151.121 439.126 154.061 436.718 Q157.024 434.311 162.163 434.311 Q167.325 434.311 170.265 436.718 Q173.204 439.126 173.204 443.269 Q173.204 446.232 171.515 448.292 Q169.848 450.352 166.862 451.093 Q170.241 451.88 172.116 454.172 Q174.015 456.463 174.015 459.774 Q174.015 464.797 170.936 467.482 Q167.88 470.167 162.163 470.167 Q156.445 470.167 153.366 467.482 Q150.311 464.797 150.311 459.774 Q150.311 456.463 152.209 454.172 Q154.107 451.88 157.487 451.093 M155.774 443.709 Q155.774 446.394 157.441 447.899 Q159.13 449.403 162.163 449.403 Q165.172 449.403 166.862 447.899 Q168.575 446.394 168.575 443.709 Q168.575 441.024 166.862 439.519 Q165.172 438.015 162.163 438.015 Q159.13 438.015 157.441 439.519 Q155.774 441.024 155.774 443.709 Z\" fill=\"#000000\" fill-rule=\"evenodd\" fill-opacity=\"1\" /><path clip-path=\"url(#clip770)\" d=\"M 0 0 M189.084 438.015 Q185.473 438.015 183.644 441.579 Q181.839 445.121 181.839 452.251 Q181.839 459.357 183.644 462.922 Q185.473 466.463 189.084 466.463 Q192.718 466.463 194.524 462.922 Q196.352 459.357 196.352 452.251 Q196.352 445.121 194.524 441.579 Q192.718 438.015 189.084 438.015 M189.084 434.311 Q194.894 434.311 197.95 438.917 Q201.028 443.501 201.028 452.251 Q201.028 460.977 197.95 465.584 Q194.894 470.167 189.084 470.167 Q183.274 470.167 180.195 465.584 Q177.14 460.977 177.14 452.251 Q177.14 443.501 180.195 438.917 Q183.274 434.311 189.084 434.311 Z\" fill=\"#000000\" fill-rule=\"evenodd\" fill-opacity=\"1\" /><path clip-path=\"url(#clip770)\" d=\"M 0 0 M127.279 200.143 L134.918 200.143 L134.918 173.777 L126.607 175.444 L126.607 171.185 L134.871 169.518 L139.547 169.518 L139.547 200.143 L147.186 200.143 L147.186 204.078 L127.279 204.078 L127.279 200.143 Z\" fill=\"#000000\" fill-rule=\"evenodd\" fill-opacity=\"1\" /><path clip-path=\"url(#clip770)\" d=\"M 0 0 M152.394 203.36 L152.394 199.101 Q154.154 199.935 155.959 200.374 Q157.765 200.814 159.501 200.814 Q164.13 200.814 166.561 197.712 Q169.015 194.587 169.362 188.245 Q168.019 190.236 165.959 191.3 Q163.899 192.365 161.399 192.365 Q156.214 192.365 153.181 189.24 Q150.172 186.092 150.172 180.652 Q150.172 175.328 153.32 172.111 Q156.468 168.893 161.7 168.893 Q167.695 168.893 170.843 173.5 Q174.015 178.083 174.015 186.833 Q174.015 195.004 170.126 199.888 Q166.26 204.749 159.709 204.749 Q157.95 204.749 156.144 204.402 Q154.339 204.055 152.394 203.36 M161.7 188.708 Q164.848 188.708 166.677 186.555 Q168.528 184.402 168.528 180.652 Q168.528 176.925 166.677 174.773 Q164.848 172.597 161.7 172.597 Q158.552 172.597 156.7 174.773 Q154.871 176.925 154.871 180.652 Q154.871 184.402 156.7 186.555 Q158.552 188.708 161.7 188.708 Z\" fill=\"#000000\" fill-rule=\"evenodd\" fill-opacity=\"1\" /><path clip-path=\"url(#clip770)\" d=\"M 0 0 M189.084 172.597 Q185.473 172.597 183.644 176.162 Q181.839 179.703 181.839 186.833 Q181.839 193.939 183.644 197.504 Q185.473 201.046 189.084 201.046 Q192.718 201.046 194.524 197.504 Q196.352 193.939 196.352 186.833 Q196.352 179.703 194.524 176.162 Q192.718 172.597 189.084 172.597 M189.084 168.893 Q194.894 168.893 197.95 173.5 Q201.028 178.083 201.028 186.833 Q201.028 195.56 197.95 200.166 Q194.894 204.749 189.084 204.749 Q183.274 204.749 180.195 200.166 Q177.14 195.56 177.14 186.833 Q177.14 178.083 180.195 173.5 Q183.274 168.893 189.084 168.893 Z\" fill=\"#000000\" fill-rule=\"evenodd\" fill-opacity=\"1\" /><path clip-path=\"url(#clip770)\" d=\"M 0 0 M961.822 14.0809 L961.822 22.0612 Q957.164 19.8332 953.032 18.7395 Q948.9 17.6457 945.051 17.6457 Q938.367 17.6457 934.722 20.2383 Q931.116 22.8309 931.116 27.611 Q931.116 31.6214 933.506 33.6873 Q935.937 35.7128 942.661 36.9686 L947.603 37.9813 Q956.758 39.7232 961.093 44.1387 Q965.468 48.5136 965.468 55.8863 Q965.468 64.6767 959.554 69.2137 Q953.68 73.7508 942.297 73.7508 Q938.003 73.7508 933.142 72.7785 Q928.321 71.8063 923.136 69.9024 L923.136 61.4765 Q928.119 64.2716 932.899 65.6895 Q937.679 67.1073 942.297 67.1073 Q949.305 67.1073 953.113 64.3527 Q956.92 61.598 956.92 56.4939 Q956.92 52.0379 954.166 49.5264 Q951.452 47.0148 945.213 45.759 L940.231 44.7868 Q931.076 42.9639 926.984 39.075 Q922.893 35.1862 922.893 28.2591 Q922.893 20.2383 928.524 15.6203 Q934.195 11.0023 944.12 11.0023 Q948.373 11.0023 952.789 11.7719 Q957.204 12.5416 961.822 14.0809 Z\" fill=\"#000000\" fill-rule=\"evenodd\" fill-opacity=\"1\" /><path clip-path=\"url(#clip770)\" d=\"M 0 0 M990.867 32.4315 Q984.872 32.4315 981.388 37.1306 Q977.904 41.7891 977.904 49.9314 Q977.904 58.0738 981.347 62.7728 Q984.831 67.4314 990.867 67.4314 Q996.822 67.4314 1000.31 62.7323 Q1003.79 58.0333 1003.79 49.9314 Q1003.79 41.8701 1000.31 37.1711 Q996.822 32.4315 990.867 32.4315 M990.867 26.1121 Q1000.59 26.1121 1006.14 32.4315 Q1011.69 38.7509 1011.69 49.9314 Q1011.69 61.0714 1006.14 67.4314 Q1000.59 73.7508 990.867 73.7508 Q981.104 73.7508 975.555 67.4314 Q970.045 61.0714 970.045 49.9314 Q970.045 38.7509 975.555 32.4315 Q981.104 26.1121 990.867 26.1121 Z\" fill=\"#000000\" fill-rule=\"evenodd\" fill-opacity=\"1\" /><path clip-path=\"url(#clip770)\" d=\"M 0 0 M1019.51 9.54393 L1026.96 9.54393 L1026.96 72.576 L1019.51 72.576 L1019.51 9.54393 Z\" fill=\"#000000\" fill-rule=\"evenodd\" fill-opacity=\"1\" /><path clip-path=\"url(#clip770)\" d=\"M 0 0 M1034.01 54.671 L1034.01 27.2059 L1041.46 27.2059 L1041.46 54.3874 Q1041.46 60.8284 1043.97 64.0691 Q1046.49 67.2693 1051.51 67.2693 Q1057.54 67.2693 1061.03 63.421 Q1064.55 59.5726 1064.55 52.9291 L1064.55 27.2059 L1072.01 27.2059 L1072.01 72.576 L1064.55 72.576 L1064.55 65.6084 Q1061.84 69.7404 1058.23 71.7658 Q1054.67 73.7508 1049.93 73.7508 Q1042.11 73.7508 1038.06 68.8897 Q1034.01 64.0286 1034.01 54.671 M1052.76 26.1121 L1052.76 26.1121 Z\" fill=\"#000000\" fill-rule=\"evenodd\" fill-opacity=\"1\" /><path clip-path=\"url(#clip770)\" d=\"M 0 0 M1087.2 14.324 L1087.2 27.2059 L1102.55 27.2059 L1102.55 32.9987 L1087.2 32.9987 L1087.2 57.6282 Q1087.2 63.1779 1088.7 64.7578 Q1090.24 66.3376 1094.89 66.3376 L1102.55 66.3376 L1102.55 72.576 L1094.89 72.576 Q1086.27 72.576 1082.98 69.3758 Q1079.7 66.1351 1079.7 57.6282 L1079.7 32.9987 L1074.23 32.9987 L1074.23 27.2059 L1079.7 27.2059 L1079.7 14.324 L1087.2 14.324 Z\" fill=\"#000000\" fill-rule=\"evenodd\" fill-opacity=\"1\" /><path clip-path=\"url(#clip770)\" d=\"M 0 0 M1110.37 27.2059 L1117.82 27.2059 L1117.82 72.576 L1110.37 72.576 L1110.37 27.2059 M1110.37 9.54393 L1117.82 9.54393 L1117.82 18.9825 L1110.37 18.9825 L1110.37 9.54393 Z\" fill=\"#000000\" fill-rule=\"evenodd\" fill-opacity=\"1\" /><path clip-path=\"url(#clip770)\" d=\"M 0 0 M1143.22 32.4315 Q1137.23 32.4315 1133.74 37.1306 Q1130.26 41.7891 1130.26 49.9314 Q1130.26 58.0738 1133.7 62.7728 Q1137.19 67.4314 1143.22 67.4314 Q1149.18 67.4314 1152.66 62.7323 Q1156.14 58.0333 1156.14 49.9314 Q1156.14 41.8701 1152.66 37.1711 Q1149.18 32.4315 1143.22 32.4315 M1143.22 26.1121 Q1152.94 26.1121 1158.49 32.4315 Q1164.04 38.7509 1164.04 49.9314 Q1164.04 61.0714 1158.49 67.4314 Q1152.94 73.7508 1143.22 73.7508 Q1133.46 73.7508 1127.91 67.4314 Q1122.4 61.0714 1122.4 49.9314 Q1122.4 38.7509 1127.91 32.4315 Q1133.46 26.1121 1143.22 26.1121 Z\" fill=\"#000000\" fill-rule=\"evenodd\" fill-opacity=\"1\" /><path clip-path=\"url(#clip770)\" d=\"M 0 0 M1209.58 45.1919 L1209.58 72.576 L1202.12 72.576 L1202.12 45.4349 Q1202.12 38.994 1199.61 35.7938 Q1197.1 32.5936 1192.08 32.5936 Q1186.04 32.5936 1182.56 36.4419 Q1179.07 40.2903 1179.07 46.9338 L1179.07 72.576 L1171.58 72.576 L1171.58 27.2059 L1179.07 27.2059 L1179.07 34.2544 Q1181.75 30.163 1185.35 28.1376 Q1189 26.1121 1193.74 26.1121 Q1201.55 26.1121 1205.56 30.9732 Q1209.58 35.7938 1209.58 45.1919 Z\" fill=\"#000000\" fill-rule=\"evenodd\" fill-opacity=\"1\" /><path clip-path=\"url(#clip770)\" d=\"M 0 0 M1251.14 14.324 L1251.14 27.2059 L1266.49 27.2059 L1266.49 32.9987 L1251.14 32.9987 L1251.14 57.6282 Q1251.14 63.1779 1252.64 64.7578 Q1254.18 66.3376 1258.83 66.3376 L1266.49 66.3376 L1266.49 72.576 L1258.83 72.576 Q1250.21 72.576 1246.92 69.3758 Q1243.64 66.1351 1243.64 57.6282 L1243.64 32.9987 L1238.17 32.9987 L1238.17 27.2059 L1243.64 27.2059 L1243.64 14.324 L1251.14 14.324 Z\" fill=\"#000000\" fill-rule=\"evenodd\" fill-opacity=\"1\" /><path clip-path=\"url(#clip770)\" d=\"M 0 0 M1291.89 32.4315 Q1285.89 32.4315 1282.41 37.1306 Q1278.93 41.7891 1278.93 49.9314 Q1278.93 58.0738 1282.37 62.7728 Q1285.85 67.4314 1291.89 67.4314 Q1297.84 67.4314 1301.33 62.7323 Q1304.81 58.0333 1304.81 49.9314 Q1304.81 41.8701 1301.33 37.1711 Q1297.84 32.4315 1291.89 32.4315 M1291.89 26.1121 Q1301.61 26.1121 1307.16 32.4315 Q1312.71 38.7509 1312.71 49.9314 Q1312.71 61.0714 1307.16 67.4314 Q1301.61 73.7508 1291.89 73.7508 Q1282.13 73.7508 1276.58 67.4314 Q1271.07 61.0714 1271.07 49.9314 Q1271.07 38.7509 1276.58 32.4315 Q1282.13 26.1121 1291.89 26.1121 Z\" fill=\"#000000\" fill-rule=\"evenodd\" fill-opacity=\"1\" /><path clip-path=\"url(#clip770)\" d=\"M 0 0 M1354.27 14.324 L1354.27 27.2059 L1369.63 27.2059 L1369.63 32.9987 L1354.27 32.9987 L1354.27 57.6282 Q1354.27 63.1779 1355.77 64.7578 Q1357.31 66.3376 1361.97 66.3376 L1369.63 66.3376 L1369.63 72.576 L1361.97 72.576 Q1353.34 72.576 1350.06 69.3758 Q1346.78 66.1351 1346.78 57.6282 L1346.78 32.9987 L1341.31 32.9987 L1341.31 27.2059 L1346.78 27.2059 L1346.78 14.324 L1354.27 14.324 Z\" fill=\"#000000\" fill-rule=\"evenodd\" fill-opacity=\"1\" /><path clip-path=\"url(#clip770)\" d=\"M 0 0 M1415.16 45.1919 L1415.16 72.576 L1407.71 72.576 L1407.71 45.4349 Q1407.71 38.994 1405.19 35.7938 Q1402.68 32.5936 1397.66 32.5936 Q1391.62 32.5936 1388.14 36.4419 Q1384.66 40.2903 1384.66 46.9338 L1384.66 72.576 L1377.16 72.576 L1377.16 9.54393 L1384.66 9.54393 L1384.66 34.2544 Q1387.33 30.163 1390.93 28.1376 Q1394.58 26.1121 1399.32 26.1121 Q1407.14 26.1121 1411.15 30.9732 Q1415.16 35.7938 1415.16 45.1919 Z\" fill=\"#000000\" fill-rule=\"evenodd\" fill-opacity=\"1\" /><path clip-path=\"url(#clip770)\" d=\"M 0 0 M1461.78 48.0275 L1461.78 51.6733 L1427.51 51.6733 Q1428 59.3701 1432.13 63.421 Q1436.3 67.4314 1443.72 67.4314 Q1448.01 67.4314 1452.02 66.3781 Q1456.07 65.3249 1460.04 63.2184 L1460.04 70.267 Q1456.03 71.9684 1451.82 72.8596 Q1447.61 73.7508 1443.27 73.7508 Q1432.42 73.7508 1426.06 67.4314 Q1419.74 61.1119 1419.74 50.3365 Q1419.74 39.1965 1425.73 32.6746 Q1431.77 26.1121 1441.98 26.1121 Q1451.13 26.1121 1456.44 32.0264 Q1461.78 37.9003 1461.78 48.0275 M1454.33 45.84 Q1454.25 39.7232 1450.89 36.0774 Q1447.57 32.4315 1442.06 32.4315 Q1435.82 32.4315 1432.05 35.9558 Q1428.32 39.4801 1427.76 45.8805 L1454.33 45.84 Z\" fill=\"#000000\" fill-rule=\"evenodd\" fill-opacity=\"1\" /><path clip-path=\"url(#clip770)\" d=\"M 0 0 M1520.85 17.6457 Q1511.93 17.6457 1506.67 24.2892 Q1501.44 30.9327 1501.44 42.3968 Q1501.44 53.8203 1506.67 60.4638 Q1511.93 67.1073 1520.85 67.1073 Q1529.76 67.1073 1534.94 60.4638 Q1540.17 53.8203 1540.17 42.3968 Q1540.17 30.9327 1534.94 24.2892 Q1529.76 17.6457 1520.85 17.6457 M1520.85 11.0023 Q1533.57 11.0023 1541.18 19.5497 Q1548.8 28.0566 1548.8 42.3968 Q1548.8 56.6965 1541.18 65.2439 Q1533.57 73.7508 1520.85 73.7508 Q1508.09 73.7508 1500.43 65.2439 Q1492.81 56.737 1492.81 42.3968 Q1492.81 28.0566 1500.43 19.5497 Q1508.09 11.0023 1520.85 11.0023 Z\" fill=\"#000000\" fill-rule=\"evenodd\" fill-opacity=\"1\" /><path clip-path=\"url(#clip770)\" d=\"M 0 0 M1565.12 18.8205 L1565.12 65.8515 L1575.01 65.8515 Q1587.52 65.8515 1593.32 60.1802 Q1599.15 54.509 1599.15 42.2752 Q1599.15 30.1225 1593.32 24.4918 Q1587.52 18.8205 1575.01 18.8205 L1565.12 18.8205 M1556.94 12.096 L1573.75 12.096 Q1591.33 12.096 1599.56 19.4281 Q1607.78 26.7198 1607.78 42.2752 Q1607.78 57.9117 1599.52 65.2439 Q1591.25 72.576 1573.75 72.576 L1556.94 72.576 L1556.94 12.096 Z\" fill=\"#000000\" fill-rule=\"evenodd\" fill-opacity=\"1\" /><path clip-path=\"url(#clip770)\" d=\"M 0 0 M1615.92 12.096 L1654.16 12.096 L1654.16 18.9825 L1624.1 18.9825 L1624.1 36.8875 L1652.91 36.8875 L1652.91 43.7741 L1624.1 43.7741 L1624.1 65.6895 L1654.89 65.6895 L1654.89 72.576 L1615.92 72.576 L1615.92 12.096 Z\" fill=\"#000000\" fill-rule=\"evenodd\" fill-opacity=\"1\" /><path clip-path=\"url(#clip770)\" d=\"M 0 0 M1010.74 1508.52 L1050.94 1508.52 L1050.94 1513.93 L1034.07 1513.93 L1034.07 1556.04 L1027.61 1556.04 L1027.61 1513.93 L1010.74 1513.93 L1010.74 1508.52 Z\" fill=\"#000000\" fill-rule=\"evenodd\" fill-opacity=\"1\" /><path clip-path=\"url(#clip770)\" d=\"M 0 0 M1055.08 1520.4 L1060.94 1520.4 L1060.94 1556.04 L1055.08 1556.04 L1055.08 1520.4 M1055.08 1506.52 L1060.94 1506.52 L1060.94 1513.93 L1055.08 1513.93 L1055.08 1506.52 Z\" fill=\"#000000\" fill-rule=\"evenodd\" fill-opacity=\"1\" /><path clip-path=\"url(#clip770)\" d=\"M 0 0 M1094.83 1527.24 Q1097.03 1523.29 1100.09 1521.41 Q1103.14 1519.54 1107.28 1519.54 Q1112.85 1519.54 1115.87 1523.45 Q1118.9 1527.33 1118.9 1534.53 L1118.9 1556.04 L1113.01 1556.04 L1113.01 1534.72 Q1113.01 1529.59 1111.19 1527.11 Q1109.38 1524.63 1105.66 1524.63 Q1101.1 1524.63 1098.46 1527.65 Q1095.82 1530.68 1095.82 1535.9 L1095.82 1556.04 L1089.93 1556.04 L1089.93 1534.72 Q1089.93 1529.56 1088.12 1527.11 Q1086.3 1524.63 1082.52 1524.63 Q1078.03 1524.63 1075.39 1527.68 Q1072.74 1530.71 1072.74 1535.9 L1072.74 1556.04 L1066.86 1556.04 L1066.86 1520.4 L1072.74 1520.4 L1072.74 1525.93 Q1074.75 1522.66 1077.55 1521.1 Q1080.35 1519.54 1084.2 1519.54 Q1088.09 1519.54 1090.79 1521.51 Q1093.53 1523.48 1094.83 1527.24 Z\" fill=\"#000000\" fill-rule=\"evenodd\" fill-opacity=\"1\" /><path clip-path=\"url(#clip770)\" d=\"M 0 0 M1155.53 1536.76 L1155.53 1539.62 L1128.6 1539.62 Q1128.99 1545.67 1132.23 1548.85 Q1135.51 1552 1141.34 1552 Q1144.71 1552 1147.86 1551.17 Q1151.04 1550.35 1154.16 1548.69 L1154.16 1554.23 Q1151.01 1555.57 1147.7 1556.27 Q1144.39 1556.97 1140.98 1556.97 Q1132.45 1556.97 1127.46 1552 Q1122.49 1547.04 1122.49 1538.57 Q1122.49 1529.82 1127.2 1524.69 Q1131.95 1519.54 1139.97 1519.54 Q1147.16 1519.54 1151.33 1524.18 Q1155.53 1528.8 1155.53 1536.76 M1149.67 1535.04 Q1149.61 1530.23 1146.97 1527.37 Q1144.36 1524.5 1140.03 1524.5 Q1135.13 1524.5 1132.17 1527.27 Q1129.24 1530.04 1128.79 1535.07 L1149.67 1535.04 Z\" fill=\"#000000\" fill-rule=\"evenodd\" fill-opacity=\"1\" /><path clip-path=\"url(#clip770)\" d=\"M 0 0 M1196.46 1506.58 Q1192.2 1513.9 1190.13 1521.06 Q1188.06 1528.23 1188.06 1535.58 Q1188.06 1542.93 1190.13 1550.16 Q1192.23 1557.35 1196.46 1564.64 L1191.37 1564.64 Q1186.6 1557.16 1184.21 1549.93 Q1181.85 1542.71 1181.85 1535.58 Q1181.85 1528.48 1184.21 1521.29 Q1186.56 1514.09 1191.37 1506.58 L1196.46 1506.58 Z\" fill=\"#000000\" fill-rule=\"evenodd\" fill-opacity=\"1\" /><path clip-path=\"url(#clip770)\" d=\"M 0 0 M1208.4 1510.27 L1208.4 1520.4 L1220.46 1520.4 L1220.46 1524.95 L1208.4 1524.95 L1208.4 1544.3 Q1208.4 1548.66 1209.58 1549.9 Q1210.78 1551.14 1214.45 1551.14 L1220.46 1551.14 L1220.46 1556.04 L1214.45 1556.04 Q1207.67 1556.04 1205.09 1553.53 Q1202.51 1550.98 1202.51 1544.3 L1202.51 1524.95 L1198.21 1524.95 L1198.21 1520.4 L1202.51 1520.4 L1202.51 1510.27 L1208.4 1510.27 Z\" fill=\"#000000\" fill-rule=\"evenodd\" fill-opacity=\"1\" /><path clip-path=\"url(#clip770)\" d=\"M 0 0 M1225.68 1506.58 L1230.77 1506.58 Q1235.55 1514.09 1237.9 1521.29 Q1240.29 1528.48 1240.29 1535.58 Q1240.29 1542.71 1237.9 1549.93 Q1235.55 1557.16 1230.77 1564.64 L1225.68 1564.64 Q1229.91 1557.35 1231.98 1550.16 Q1234.08 1542.93 1234.08 1535.58 Q1234.08 1528.23 1231.98 1521.06 Q1229.91 1513.9 1225.68 1506.58 Z\" fill=\"#000000\" fill-rule=\"evenodd\" fill-opacity=\"1\" /><path clip-path=\"url(#clip770)\" d=\"M 0 0 M1267.15 1520.4 L1273.01 1520.4 L1273.01 1556.04 L1267.15 1556.04 L1267.15 1520.4 M1267.15 1506.52 L1273.01 1506.52 L1273.01 1513.93 L1267.15 1513.93 L1267.15 1506.52 Z\" fill=\"#000000\" fill-rule=\"evenodd\" fill-opacity=\"1\" /><path clip-path=\"url(#clip770)\" d=\"M 0 0 M1308.78 1534.53 L1308.78 1556.04 L1302.93 1556.04 L1302.93 1534.72 Q1302.93 1529.66 1300.96 1527.14 Q1298.98 1524.63 1295.03 1524.63 Q1290.29 1524.63 1287.56 1527.65 Q1284.82 1530.68 1284.82 1535.9 L1284.82 1556.04 L1278.93 1556.04 L1278.93 1520.4 L1284.82 1520.4 L1284.82 1525.93 Q1286.92 1522.72 1289.75 1521.13 Q1292.62 1519.54 1296.34 1519.54 Q1302.48 1519.54 1305.63 1523.36 Q1308.78 1527.14 1308.78 1534.53 Z\" fill=\"#000000\" fill-rule=\"evenodd\" fill-opacity=\"1\" /><path clip-path=\"url(#clip770)\" d=\"M 0 0 M1358.37 1521.45 L1358.37 1526.98 Q1355.89 1525.71 1353.22 1525.07 Q1350.54 1524.44 1347.68 1524.44 Q1343.32 1524.44 1341.12 1525.77 Q1338.96 1527.11 1338.96 1529.79 Q1338.96 1531.82 1340.52 1533 Q1342.08 1534.15 1346.79 1535.2 L1348.79 1535.64 Q1355.03 1536.98 1357.64 1539.43 Q1360.28 1541.85 1360.28 1546.21 Q1360.28 1551.17 1356.34 1554.07 Q1352.42 1556.97 1345.55 1556.97 Q1342.68 1556.97 1339.56 1556.39 Q1336.48 1555.85 1333.04 1554.74 L1333.04 1548.69 Q1336.28 1550.38 1339.44 1551.24 Q1342.59 1552.07 1345.67 1552.07 Q1349.81 1552.07 1352.04 1550.66 Q1354.27 1549.23 1354.27 1546.65 Q1354.27 1544.27 1352.64 1542.99 Q1351.05 1541.72 1345.61 1540.54 L1343.57 1540.07 Q1338.13 1538.92 1335.71 1536.56 Q1333.29 1534.18 1333.29 1530.04 Q1333.29 1525.01 1336.86 1522.27 Q1340.42 1519.54 1346.98 1519.54 Q1350.23 1519.54 1353.09 1520.01 Q1355.95 1520.49 1358.37 1521.45 Z\" fill=\"#000000\" fill-rule=\"evenodd\" fill-opacity=\"1\" /><path clip-path=\"url(#clip770)\" d=\"M 0 0 M1396.92 1536.76 L1396.92 1539.62 L1369.99 1539.62 Q1370.37 1545.67 1373.62 1548.85 Q1376.9 1552 1382.72 1552 Q1386.1 1552 1389.25 1551.17 Q1392.43 1550.35 1395.55 1548.69 L1395.55 1554.23 Q1392.4 1555.57 1389.09 1556.27 Q1385.78 1556.97 1382.37 1556.97 Q1373.84 1556.97 1368.85 1552 Q1363.88 1547.04 1363.88 1538.57 Q1363.88 1529.82 1368.59 1524.69 Q1373.33 1519.54 1381.35 1519.54 Q1388.55 1519.54 1392.72 1524.18 Q1396.92 1528.8 1396.92 1536.76 M1391.06 1535.04 Q1391 1530.23 1388.36 1527.37 Q1385.75 1524.5 1381.42 1524.5 Q1376.52 1524.5 1373.56 1527.27 Q1370.63 1530.04 1370.18 1535.07 L1391.06 1535.04 Z\" fill=\"#000000\" fill-rule=\"evenodd\" fill-opacity=\"1\" /><path clip-path=\"url(#clip770)\" d=\"M 0 0 M1428.71 1521.76 L1428.71 1527.24 Q1426.23 1525.87 1423.72 1525.2 Q1421.24 1524.5 1418.69 1524.5 Q1412.99 1524.5 1409.84 1528.13 Q1406.69 1531.73 1406.69 1538.25 Q1406.69 1544.78 1409.84 1548.4 Q1412.99 1552 1418.69 1552 Q1421.24 1552 1423.72 1551.33 Q1426.23 1550.63 1428.71 1549.26 L1428.71 1554.68 Q1426.26 1555.82 1423.62 1556.39 Q1421.01 1556.97 1418.05 1556.97 Q1410 1556.97 1405.26 1551.91 Q1400.51 1546.85 1400.51 1538.25 Q1400.51 1529.53 1405.29 1524.53 Q1410.1 1519.54 1418.43 1519.54 Q1421.14 1519.54 1423.72 1520.11 Q1426.3 1520.65 1428.71 1521.76 Z\" fill=\"#000000\" fill-rule=\"evenodd\" fill-opacity=\"1\" /><path clip-path=\"url(#clip770)\" d=\"M 0 0 M1448.67 1524.5 Q1443.96 1524.5 1441.22 1528.19 Q1438.49 1531.85 1438.49 1538.25 Q1438.49 1544.65 1441.19 1548.34 Q1443.93 1552 1448.67 1552 Q1453.35 1552 1456.09 1548.31 Q1458.82 1544.62 1458.82 1538.25 Q1458.82 1531.92 1456.09 1528.23 Q1453.35 1524.5 1448.67 1524.5 M1448.67 1519.54 Q1456.31 1519.54 1460.67 1524.5 Q1465.03 1529.47 1465.03 1538.25 Q1465.03 1547 1460.67 1552 Q1456.31 1556.97 1448.67 1556.97 Q1441 1556.97 1436.64 1552 Q1432.31 1547 1432.31 1538.25 Q1432.31 1529.47 1436.64 1524.5 Q1441 1519.54 1448.67 1519.54 Z\" fill=\"#000000\" fill-rule=\"evenodd\" fill-opacity=\"1\" /><path clip-path=\"url(#clip770)\" d=\"M 0 0 M1500.81 1534.53 L1500.81 1556.04 L1494.95 1556.04 L1494.95 1534.72 Q1494.95 1529.66 1492.98 1527.14 Q1491 1524.63 1487.06 1524.63 Q1482.31 1524.63 1479.58 1527.65 Q1476.84 1530.68 1476.84 1535.9 L1476.84 1556.04 L1470.95 1556.04 L1470.95 1520.4 L1476.84 1520.4 L1476.84 1525.93 Q1478.94 1522.72 1481.77 1521.13 Q1484.64 1519.54 1488.36 1519.54 Q1494.5 1519.54 1497.66 1523.36 Q1500.81 1527.14 1500.81 1534.53 Z\" fill=\"#000000\" fill-rule=\"evenodd\" fill-opacity=\"1\" /><path clip-path=\"url(#clip770)\" d=\"M 0 0 M1530.41 1525.81 L1530.41 1506.52 L1536.26 1506.52 L1536.26 1556.04 L1530.41 1556.04 L1530.41 1550.7 Q1528.56 1553.88 1525.73 1555.44 Q1522.93 1556.97 1518.98 1556.97 Q1512.52 1556.97 1508.45 1551.81 Q1504.4 1546.65 1504.4 1538.25 Q1504.4 1529.85 1508.45 1524.69 Q1512.52 1519.54 1518.98 1519.54 Q1522.93 1519.54 1525.73 1521.1 Q1528.56 1522.62 1530.41 1525.81 M1510.45 1538.25 Q1510.45 1544.71 1513.09 1548.4 Q1515.77 1552.07 1520.41 1552.07 Q1525.06 1552.07 1527.73 1548.4 Q1530.41 1544.71 1530.41 1538.25 Q1530.41 1531.79 1527.73 1528.13 Q1525.06 1524.44 1520.41 1524.44 Q1515.77 1524.44 1513.09 1528.13 Q1510.45 1531.79 1510.45 1538.25 Z\" fill=\"#000000\" fill-rule=\"evenodd\" fill-opacity=\"1\" /><path clip-path=\"url(#clip770)\" d=\"M 0 0 M1565.13 1521.45 L1565.13 1526.98 Q1562.65 1525.71 1559.98 1525.07 Q1557.3 1524.44 1554.44 1524.44 Q1550.08 1524.44 1547.88 1525.77 Q1545.72 1527.11 1545.72 1529.79 Q1545.72 1531.82 1547.28 1533 Q1548.84 1534.15 1553.55 1535.2 L1555.55 1535.64 Q1561.79 1536.98 1564.4 1539.43 Q1567.04 1541.85 1567.04 1546.21 Q1567.04 1551.17 1563.09 1554.07 Q1559.18 1556.97 1552.31 1556.97 Q1549.44 1556.97 1546.32 1556.39 Q1543.23 1555.85 1539.8 1554.74 L1539.8 1548.69 Q1543.04 1550.38 1546.19 1551.24 Q1549.34 1552.07 1552.43 1552.07 Q1556.57 1552.07 1558.8 1550.66 Q1561.03 1549.23 1561.03 1546.65 Q1561.03 1544.27 1559.4 1542.99 Q1557.81 1541.72 1552.37 1540.54 L1550.33 1540.07 Q1544.89 1538.92 1542.47 1536.56 Q1540.05 1534.18 1540.05 1530.04 Q1540.05 1525.01 1543.62 1522.27 Q1547.18 1519.54 1553.74 1519.54 Q1556.98 1519.54 1559.85 1520.01 Q1562.71 1520.49 1565.13 1521.45 Z\" fill=\"#000000\" fill-rule=\"evenodd\" fill-opacity=\"1\" /><path clip-path=\"url(#clip770)\" d=\"M 0 0 M45.7677 1169.64 L82.7206 1169.64 L82.7206 1161.87 Q82.7206 1152.04 78.2646 1147.49 Q73.8086 1142.9 64.1964 1142.9 Q54.6479 1142.9 50.2237 1147.49 Q45.7677 1152.04 45.7677 1161.87 L45.7677 1169.64 M40.4842 1176.07 L40.4842 1162.86 Q40.4842 1149.05 46.2451 1142.58 Q51.9743 1136.12 64.1964 1136.12 Q76.4822 1136.12 82.2432 1142.62 Q88.0042 1149.11 88.0042 1162.86 L88.0042 1176.07 L40.4842 1176.07 Z\" fill=\"#000000\" fill-rule=\"evenodd\" fill-opacity=\"1\" /><path clip-path=\"url(#clip770)\" d=\"M 0 0 M52.3562 1129.98 L52.3562 1124.12 L88.0042 1124.12 L88.0042 1129.98 L52.3562 1129.98 M38.479 1129.98 L38.479 1124.12 L45.895 1124.12 L45.895 1129.98 L38.479 1129.98 Z\" fill=\"#000000\" fill-rule=\"evenodd\" fill-opacity=\"1\" /><path clip-path=\"url(#clip770)\" d=\"M 0 0 M53.4065 1095.26 L58.9447 1095.26 Q57.6716 1097.74 57.035 1100.41 Q56.3984 1103.09 56.3984 1105.95 Q56.3984 1110.31 57.7352 1112.51 Q59.072 1114.67 61.7456 1114.67 Q63.7826 1114.67 64.9603 1113.11 Q66.1061 1111.55 67.1565 1106.84 L67.6021 1104.84 Q68.9389 1098.6 71.3897 1095.99 Q73.8086 1093.35 78.1691 1093.35 Q83.1344 1093.35 86.0308 1097.29 Q88.9272 1101.21 88.9272 1108.08 Q88.9272 1110.95 88.3543 1114.07 Q87.8132 1117.15 86.6992 1120.59 L80.6518 1120.59 Q82.3387 1117.34 83.198 1114.19 Q84.0256 1111.04 84.0256 1107.96 Q84.0256 1103.82 82.6251 1101.59 Q81.1929 1099.36 78.6147 1099.36 Q76.2276 1099.36 74.9545 1100.98 Q73.6813 1102.58 72.5037 1108.02 L72.0262 1110.06 Q70.8804 1115.5 68.5251 1117.92 Q66.138 1120.34 62.0002 1120.34 Q56.9713 1120.34 54.2341 1116.77 Q51.4968 1113.21 51.4968 1106.65 Q51.4968 1103.4 51.9743 1100.54 Q52.4517 1097.67 53.4065 1095.26 Z\" fill=\"#000000\" fill-rule=\"evenodd\" fill-opacity=\"1\" /><path clip-path=\"url(#clip770)\" d=\"M 0 0 M82.657 1081.54 L101.563 1081.54 L101.563 1087.43 L52.3562 1087.43 L52.3562 1081.54 L57.7671 1081.54 Q54.5842 1079.69 53.0564 1076.89 Q51.4968 1074.06 51.4968 1070.14 Q51.4968 1063.65 56.6531 1059.61 Q61.8093 1055.53 70.212 1055.53 Q78.6147 1055.53 83.771 1059.61 Q88.9272 1063.65 88.9272 1070.14 Q88.9272 1074.06 87.3994 1076.89 Q85.8398 1079.69 82.657 1081.54 M70.212 1061.61 Q63.7508 1061.61 60.0905 1064.29 Q56.3984 1066.93 56.3984 1071.58 Q56.3984 1076.22 60.0905 1078.9 Q63.7508 1081.54 70.212 1081.54 Q76.6732 1081.54 80.3653 1078.9 Q84.0256 1076.22 84.0256 1071.58 Q84.0256 1066.93 80.3653 1064.29 Q76.6732 1061.61 70.212 1061.61 Z\" fill=\"#000000\" fill-rule=\"evenodd\" fill-opacity=\"1\" /><path clip-path=\"url(#clip770)\" d=\"M 0 0 M38.479 1049.39 L38.479 1043.53 L88.0042 1043.53 L88.0042 1049.39 L38.479 1049.39 Z\" fill=\"#000000\" fill-rule=\"evenodd\" fill-opacity=\"1\" /><path clip-path=\"url(#clip770)\" d=\"M 0 0 M70.0847 1021.19 Q70.0847 1028.29 71.7079 1031.03 Q73.3312 1033.76 77.2461 1033.76 Q80.3653 1033.76 82.2114 1031.73 Q84.0256 1029.66 84.0256 1026.12 Q84.0256 1021.25 80.5881 1018.33 Q77.1188 1015.37 71.3897 1015.37 L70.0847 1015.37 L70.0847 1021.19 M67.6657 1009.51 L88.0042 1009.51 L88.0042 1015.37 L82.5933 1015.37 Q85.8398 1017.37 87.3994 1020.36 Q88.9272 1023.36 88.9272 1027.68 Q88.9272 1033.16 85.8716 1036.4 Q82.7843 1039.62 77.6281 1039.62 Q71.6125 1039.62 68.5569 1035.61 Q65.5014 1031.57 65.5014 1023.58 L65.5014 1015.37 L64.9285 1015.37 Q60.8862 1015.37 58.6901 1018.04 Q56.4621 1020.68 56.4621 1025.49 Q56.4621 1028.54 57.1941 1031.44 Q57.9262 1034.34 59.3903 1037.01 L53.9795 1037.01 Q52.7381 1033.79 52.1334 1030.77 Q51.4968 1027.75 51.4968 1024.88 Q51.4968 1017.15 55.5072 1013.33 Q59.5176 1009.51 67.6657 1009.51 Z\" fill=\"#000000\" fill-rule=\"evenodd\" fill-opacity=\"1\" /><path clip-path=\"url(#clip770)\" d=\"M 0 0 M53.7248 977.713 L59.1993 977.713 Q57.8307 980.196 57.1623 982.71 Q56.4621 985.193 56.4621 987.739 Q56.4621 993.436 60.0905 996.587 Q63.6872 999.738 70.212 999.738 Q76.7369 999.738 80.3653 996.587 Q83.9619 993.436 83.9619 987.739 Q83.9619 985.193 83.2935 982.71 Q82.5933 980.196 81.2247 977.713 L86.6355 977.713 Q87.7814 980.164 88.3543 982.805 Q88.9272 985.415 88.9272 988.375 Q88.9272 996.428 83.8664 1001.17 Q78.8057 1005.91 70.212 1005.91 Q61.491 1005.91 56.4939 1001.14 Q51.4968 996.333 51.4968 987.994 Q51.4968 985.288 52.0697 982.71 Q52.6108 980.132 53.7248 977.713 Z\" fill=\"#000000\" fill-rule=\"evenodd\" fill-opacity=\"1\" /><path clip-path=\"url(#clip770)\" d=\"M 0 0 M68.7161 941.078 L71.5806 941.078 L71.5806 968.005 Q77.6281 967.623 80.8109 964.377 Q83.9619 961.098 83.9619 955.274 Q83.9619 951.9 83.1344 948.749 Q82.3069 945.566 80.6518 942.447 L86.1899 942.447 Q87.5267 945.598 88.227 948.908 Q88.9272 952.218 88.9272 955.624 Q88.9272 964.154 83.9619 969.151 Q78.9967 974.116 70.5303 974.116 Q61.7774 974.116 56.6531 969.406 Q51.4968 964.663 51.4968 956.642 Q51.4968 949.449 56.1438 945.28 Q60.7589 941.078 68.7161 941.078 M66.9973 946.935 Q62.1912 946.998 59.3266 949.64 Q56.4621 952.25 56.4621 956.579 Q56.4621 961.48 59.2312 964.44 Q62.0002 967.369 67.0292 967.814 L66.9973 946.935 Z\" fill=\"#000000\" fill-rule=\"evenodd\" fill-opacity=\"1\" /><path clip-path=\"url(#clip770)\" d=\"M 0 0 M59.1993 907.181 Q55.2526 904.985 53.3747 901.929 Q51.4968 898.874 51.4968 894.736 Q51.4968 889.166 55.4117 886.142 Q59.2948 883.119 66.4881 883.119 L88.0042 883.119 L88.0042 889.007 L66.679 889.007 Q61.5546 889.007 59.072 890.821 Q56.5894 892.635 56.5894 896.359 Q56.5894 900.911 59.6131 903.552 Q62.6368 906.194 67.8567 906.194 L88.0042 906.194 L88.0042 912.082 L66.679 912.082 Q61.5228 912.082 59.072 913.897 Q56.5894 915.711 56.5894 919.499 Q56.5894 923.986 59.6449 926.628 Q62.6686 929.27 67.8567 929.27 L88.0042 929.27 L88.0042 935.158 L52.3562 935.158 L52.3562 929.27 L57.8944 929.27 Q54.616 927.265 53.0564 924.464 Q51.4968 921.663 51.4968 917.812 Q51.4968 913.929 53.4702 911.223 Q55.4436 908.486 59.1993 907.181 Z\" fill=\"#000000\" fill-rule=\"evenodd\" fill-opacity=\"1\" /><path clip-path=\"url(#clip770)\" d=\"M 0 0 M68.7161 846.484 L71.5806 846.484 L71.5806 873.411 Q77.6281 873.029 80.8109 869.782 Q83.9619 866.504 83.9619 860.679 Q83.9619 857.306 83.1344 854.155 Q82.3069 850.972 80.6518 847.852 L86.1899 847.852 Q87.5267 851.004 88.227 854.314 Q88.9272 857.624 88.9272 861.03 Q88.9272 869.56 83.9619 874.557 Q78.9967 879.522 70.5303 879.522 Q61.7774 879.522 56.6531 874.811 Q51.4968 870.069 51.4968 862.048 Q51.4968 854.855 56.1438 850.685 Q60.7589 846.484 68.7161 846.484 M66.9973 852.34 Q62.1912 852.404 59.3266 855.046 Q56.4621 857.656 56.4621 861.984 Q56.4621 866.886 59.2312 869.846 Q62.0002 872.774 67.0292 873.22 L66.9973 852.34 Z\" fill=\"#000000\" fill-rule=\"evenodd\" fill-opacity=\"1\" /><path clip-path=\"url(#clip770)\" d=\"M 0 0 M66.4881 810.709 L88.0042 810.709 L88.0042 816.565 L66.679 816.565 Q61.6183 816.565 59.1038 818.538 Q56.5894 820.512 56.5894 824.459 Q56.5894 829.201 59.6131 831.938 Q62.6368 834.675 67.8567 834.675 L88.0042 834.675 L88.0042 840.564 L52.3562 840.564 L52.3562 834.675 L57.8944 834.675 Q54.6797 832.575 53.0883 829.742 Q51.4968 826.877 51.4968 823.154 Q51.4968 817.011 55.3163 813.86 Q59.1038 810.709 66.4881 810.709 Z\" fill=\"#000000\" fill-rule=\"evenodd\" fill-opacity=\"1\" /><path clip-path=\"url(#clip770)\" d=\"M 0 0 M42.2347 798.773 L52.3562 798.773 L52.3562 786.71 L56.9077 786.71 L56.9077 798.773 L76.2594 798.773 Q80.6199 798.773 81.8613 797.595 Q83.1026 796.386 83.1026 792.725 L83.1026 786.71 L88.0042 786.71 L88.0042 792.725 Q88.0042 799.505 85.4897 802.083 Q82.9434 804.661 76.2594 804.661 L56.9077 804.661 L56.9077 808.958 L52.3562 808.958 L52.3562 804.661 L42.2347 804.661 L42.2347 798.773 Z\" fill=\"#000000\" fill-rule=\"evenodd\" fill-opacity=\"1\" /><path clip-path=\"url(#clip770)\" d=\"M 0 0 M53.4065 737.121 L58.9447 737.121 Q57.6716 739.604 57.035 742.277 Q56.3984 744.951 56.3984 747.815 Q56.3984 752.176 57.7352 754.372 Q59.072 756.536 61.7456 756.536 Q63.7826 756.536 64.9603 754.977 Q66.1061 753.417 67.1565 748.707 L67.6021 746.701 Q68.9389 740.463 71.3897 737.853 Q73.8086 735.211 78.1691 735.211 Q83.1344 735.211 86.0308 739.158 Q88.9272 743.073 88.9272 749.948 Q88.9272 752.812 88.3543 755.932 Q87.8132 759.019 86.6992 762.457 L80.6518 762.457 Q82.3387 759.21 83.198 756.059 Q84.0256 752.908 84.0256 749.821 Q84.0256 745.683 82.6251 743.455 Q81.1929 741.227 78.6147 741.227 Q76.2276 741.227 74.9545 742.85 Q73.6813 744.442 72.5037 749.884 L72.0262 751.921 Q70.8804 757.364 68.5251 759.783 Q66.138 762.202 62.0002 762.202 Q56.9713 762.202 54.2341 758.637 Q51.4968 755.072 51.4968 748.516 Q51.4968 745.269 51.9743 742.405 Q52.4517 739.54 53.4065 737.121 Z\" fill=\"#000000\" fill-rule=\"evenodd\" fill-opacity=\"1\" /><path clip-path=\"url(#clip770)\" d=\"M 0 0 M38.5426 715 Q45.8632 719.265 53.0246 721.334 Q60.186 723.403 67.5384 723.403 Q74.8908 723.403 82.1159 721.334 Q89.3091 719.233 96.5979 715 L96.5979 720.093 Q89.1182 724.867 81.8931 727.254 Q74.668 729.609 67.5384 729.609 Q60.4406 729.609 53.2474 727.254 Q46.0542 724.899 38.5426 720.093 L38.5426 715 Z\" fill=\"#000000\" fill-rule=\"evenodd\" fill-opacity=\"1\" /><path clip-path=\"url(#clip770)\" d=\"M 0 0 M42.2347 703.064 L52.3562 703.064 L52.3562 691.001 L56.9077 691.001 L56.9077 703.064 L76.2594 703.064 Q80.6199 703.064 81.8613 701.887 Q83.1026 700.677 83.1026 697.017 L83.1026 691.001 L88.0042 691.001 L88.0042 697.017 Q88.0042 703.797 85.4897 706.375 Q82.9434 708.953 76.2594 708.953 L56.9077 708.953 L56.9077 713.25 L52.3562 713.25 L52.3562 708.953 L42.2347 708.953 L42.2347 703.064 Z\" fill=\"#000000\" fill-rule=\"evenodd\" fill-opacity=\"1\" /><path clip-path=\"url(#clip770)\" d=\"M 0 0 M38.5426 685.782 L38.5426 680.689 Q46.0542 675.915 53.2474 673.559 Q60.4406 671.172 67.5384 671.172 Q74.668 671.172 81.8931 673.559 Q89.1182 675.915 96.5979 680.689 L96.5979 685.782 Q89.3091 681.548 82.1159 679.48 Q74.8908 677.379 67.5384 677.379 Q60.186 677.379 53.0246 679.48 Q45.8632 681.548 38.5426 685.782 Z\" fill=\"#000000\" fill-rule=\"evenodd\" fill-opacity=\"1\" /><path clip-path=\"url(#clip770)\" d=\"M 0 0 M52.3562 644.309 L52.3562 638.453 L88.0042 638.453 L88.0042 644.309 L52.3562 644.309 M38.479 644.309 L38.479 638.453 L45.895 638.453 L45.895 644.309 L38.479 644.309 Z\" fill=\"#000000\" fill-rule=\"evenodd\" fill-opacity=\"1\" /><path clip-path=\"url(#clip770)\" d=\"M 0 0 M66.4881 602.677 L88.0042 602.677 L88.0042 608.534 L66.679 608.534 Q61.6183 608.534 59.1038 610.507 Q56.5894 612.48 56.5894 616.427 Q56.5894 621.17 59.6131 623.907 Q62.6368 626.644 67.8567 626.644 L88.0042 626.644 L88.0042 632.532 L52.3562 632.532 L52.3562 626.644 L57.8944 626.644 Q54.6797 624.544 53.0883 621.711 Q51.4968 618.846 51.4968 615.122 Q51.4968 608.979 55.3163 605.828 Q59.1038 602.677 66.4881 602.677 Z\" fill=\"#000000\" fill-rule=\"evenodd\" fill-opacity=\"1\" /><path clip-path=\"url(#clip770)\" d=\"M 0 0 M59.1993 548.06 Q55.2526 545.863 53.3747 542.808 Q51.4968 539.752 51.4968 535.615 Q51.4968 530.045 55.4117 527.021 Q59.2948 523.997 66.4881 523.997 L88.0042 523.997 L88.0042 529.885 L66.679 529.885 Q61.5546 529.885 59.072 531.7 Q56.5894 533.514 56.5894 537.238 Q56.5894 541.789 59.6131 544.431 Q62.6368 547.073 67.8567 547.073 L88.0042 547.073 L88.0042 552.961 L66.679 552.961 Q61.5228 552.961 59.072 554.775 Q56.5894 556.59 56.5894 560.377 Q56.5894 564.865 59.6449 567.507 Q62.6686 570.149 67.8567 570.149 L88.0042 570.149 L88.0042 576.037 L52.3562 576.037 L52.3562 570.149 L57.8944 570.149 Q54.616 568.143 53.0564 565.342 Q51.4968 562.542 51.4968 558.69 Q51.4968 554.807 53.4702 552.102 Q55.4436 549.365 59.1993 548.06 Z\" fill=\"#000000\" fill-rule=\"evenodd\" fill-opacity=\"1\" /><path clip-path=\"url(#clip770)\" d=\"M 0 0 M68.7161 487.363 L71.5806 487.363 L71.5806 514.289 Q77.6281 513.908 80.8109 510.661 Q83.9619 507.383 83.9619 501.558 Q83.9619 498.184 83.1344 495.033 Q82.3069 491.85 80.6518 488.731 L86.1899 488.731 Q87.5267 491.882 88.227 495.192 Q88.9272 498.503 88.9272 501.908 Q88.9272 510.438 83.9619 515.435 Q78.9967 520.401 70.5303 520.401 Q61.7774 520.401 56.6531 515.69 Q51.4968 510.947 51.4968 502.927 Q51.4968 495.733 56.1438 491.564 Q60.7589 487.363 68.7161 487.363 M66.9973 493.219 Q62.1912 493.283 59.3266 495.924 Q56.4621 498.534 56.4621 502.863 Q56.4621 507.765 59.2312 510.725 Q62.0002 513.653 67.0292 514.098 L66.9973 493.219 Z\" fill=\"#000000\" fill-rule=\"evenodd\" fill-opacity=\"1\" /><path clip-path=\"url(#clip770)\" d=\"M 0 0 M42.2347 475.427 L52.3562 475.427 L52.3562 463.364 L56.9077 463.364 L56.9077 475.427 L76.2594 475.427 Q80.6199 475.427 81.8613 474.249 Q83.1026 473.04 83.1026 469.379 L83.1026 463.364 L88.0042 463.364 L88.0042 469.379 Q88.0042 476.159 85.4897 478.737 Q82.9434 481.315 76.2594 481.315 L56.9077 481.315 L56.9077 485.612 L52.3562 485.612 L52.3562 481.315 L42.2347 481.315 L42.2347 475.427 Z\" fill=\"#000000\" fill-rule=\"evenodd\" fill-opacity=\"1\" /><path clip-path=\"url(#clip770)\" d=\"M 0 0 M57.8307 436.564 Q57.2578 437.551 57.0032 438.729 Q56.7167 439.874 56.7167 441.275 Q56.7167 446.24 59.9632 448.914 Q63.1779 451.555 69.2253 451.555 L88.0042 451.555 L88.0042 457.444 L52.3562 457.444 L52.3562 451.555 L57.8944 451.555 Q54.6479 449.709 53.0883 446.749 Q51.4968 443.789 51.4968 439.556 Q51.4968 438.951 51.5923 438.219 Q51.656 437.487 51.8151 436.596 L57.8307 436.564 Z\" fill=\"#000000\" fill-rule=\"evenodd\" fill-opacity=\"1\" /><path clip-path=\"url(#clip770)\" d=\"M 0 0 M68.7161 401.362 L71.5806 401.362 L71.5806 428.289 Q77.6281 427.907 80.8109 424.66 Q83.9619 421.382 83.9619 415.557 Q83.9619 412.184 83.1344 409.033 Q82.3069 405.85 80.6518 402.73 L86.1899 402.73 Q87.5267 405.881 88.227 409.192 Q88.9272 412.502 88.9272 415.907 Q88.9272 424.438 83.9619 429.435 Q78.9967 434.4 70.5303 434.4 Q61.7774 434.4 56.6531 429.689 Q51.4968 424.947 51.4968 416.926 Q51.4968 409.733 56.1438 405.563 Q60.7589 401.362 68.7161 401.362 M66.9973 407.218 Q62.1912 407.282 59.3266 409.924 Q56.4621 412.534 56.4621 416.862 Q56.4621 421.764 59.2312 424.724 Q62.0002 427.652 67.0292 428.098 L66.9973 407.218 Z\" fill=\"#000000\" fill-rule=\"evenodd\" fill-opacity=\"1\" /><path clip-path=\"url(#clip770)\" d=\"M 0 0 M53.4065 372.493 L58.9447 372.493 Q57.6716 374.976 57.035 377.65 Q56.3984 380.323 56.3984 383.188 Q56.3984 387.548 57.7352 389.744 Q59.072 391.909 61.7456 391.909 Q63.7826 391.909 64.9603 390.349 Q66.1061 388.79 67.1565 384.079 L67.6021 382.074 Q68.9389 375.835 71.3897 373.225 Q73.8086 370.584 78.1691 370.584 Q83.1344 370.584 86.0308 374.53 Q88.9272 378.445 88.9272 385.32 Q88.9272 388.185 88.3543 391.304 Q87.8132 394.391 86.6992 397.829 L80.6518 397.829 Q82.3387 394.582 83.198 391.431 Q84.0256 388.28 84.0256 385.193 Q84.0256 381.055 82.6251 378.827 Q81.1929 376.599 78.6147 376.599 Q76.2276 376.599 74.9545 378.222 Q73.6813 379.814 72.5037 385.257 L72.0262 387.294 Q70.8804 392.736 68.5251 395.155 Q66.138 397.574 62.0002 397.574 Q56.9713 397.574 54.2341 394.009 Q51.4968 390.445 51.4968 383.888 Q51.4968 380.641 51.9743 377.777 Q52.4517 374.912 53.4065 372.493 Z\" fill=\"#000000\" fill-rule=\"evenodd\" fill-opacity=\"1\" /><polyline clip-path=\"url(#clip772)\" style=\"stroke:#009af9; stroke-width:4; stroke-opacity:1; fill:none\" points=\"\n",
       "  285.247,186.798 352.157,188.099 419.066,192 485.976,198.503 552.886,207.607 619.795,219.312 686.705,233.618 753.615,250.525 820.524,270.033 887.434,292.142 \n",
       "  954.344,316.853 1021.25,344.164 1088.16,374.077 1155.07,406.591 1221.98,441.705 1288.89,479.421 1355.8,519.738 1422.71,562.656 1489.62,608.175 1556.53,656.296 \n",
       "  1623.44,707.017 1690.35,760.339 1757.26,816.263 1824.17,874.787 1891.08,935.913 1957.99,999.64 2024.9,1065.97 2091.81,1134.9 2158.72,1206.43 2225.63,1280.56 \n",
       "  2292.54,1357.29 \n",
       "  \"/>\n",
       "<polyline clip-path=\"url(#clip772)\" style=\"stroke:#009af9; stroke-width:4; stroke-opacity:1; fill:none\" points=\"\n",
       "  285.247,213.34 285.247,160.256 \n",
       "  \"/>\n",
       "<polyline clip-path=\"url(#clip772)\" style=\"stroke:#009af9; stroke-width:4; stroke-opacity:1; fill:none\" points=\"\n",
       "  352.157,214.64 352.157,161.557 \n",
       "  \"/>\n",
       "<polyline clip-path=\"url(#clip772)\" style=\"stroke:#009af9; stroke-width:4; stroke-opacity:1; fill:none\" points=\"\n",
       "  419.066,218.542 419.066,165.458 \n",
       "  \"/>\n",
       "<polyline clip-path=\"url(#clip772)\" style=\"stroke:#009af9; stroke-width:4; stroke-opacity:1; fill:none\" points=\"\n",
       "  485.976,225.045 485.976,171.961 \n",
       "  \"/>\n",
       "<polyline clip-path=\"url(#clip772)\" style=\"stroke:#009af9; stroke-width:4; stroke-opacity:1; fill:none\" points=\"\n",
       "  552.886,234.149 552.886,181.064 \n",
       "  \"/>\n",
       "<polyline clip-path=\"url(#clip772)\" style=\"stroke:#009af9; stroke-width:4; stroke-opacity:1; fill:none\" points=\"\n",
       "  619.795,245.856 619.795,192.768 \n",
       "  \"/>\n",
       "<polyline clip-path=\"url(#clip772)\" style=\"stroke:#009af9; stroke-width:4; stroke-opacity:1; fill:none\" points=\"\n",
       "  686.705,260.164 686.705,207.072 \n",
       "  \"/>\n",
       "<polyline clip-path=\"url(#clip772)\" style=\"stroke:#009af9; stroke-width:4; stroke-opacity:1; fill:none\" points=\"\n",
       "  753.615,277.075 753.615,223.975 \n",
       "  \"/>\n",
       "<polyline clip-path=\"url(#clip772)\" style=\"stroke:#009af9; stroke-width:4; stroke-opacity:1; fill:none\" points=\"\n",
       "  820.524,296.588 820.524,243.478 \n",
       "  \"/>\n",
       "<polyline clip-path=\"url(#clip772)\" style=\"stroke:#009af9; stroke-width:4; stroke-opacity:1; fill:none\" points=\"\n",
       "  887.434,318.706 887.434,265.579 \n",
       "  \"/>\n",
       "<polyline clip-path=\"url(#clip772)\" style=\"stroke:#009af9; stroke-width:4; stroke-opacity:1; fill:none\" points=\"\n",
       "  954.344,343.428 954.344,290.278 \n",
       "  \"/>\n",
       "<polyline clip-path=\"url(#clip772)\" style=\"stroke:#009af9; stroke-width:4; stroke-opacity:1; fill:none\" points=\"\n",
       "  1021.25,370.755 1021.25,317.574 \n",
       "  \"/>\n",
       "<polyline clip-path=\"url(#clip772)\" style=\"stroke:#009af9; stroke-width:4; stroke-opacity:1; fill:none\" points=\"\n",
       "  1088.16,400.687 1088.16,347.466 \n",
       "  \"/>\n",
       "<polyline clip-path=\"url(#clip772)\" style=\"stroke:#009af9; stroke-width:4; stroke-opacity:1; fill:none\" points=\"\n",
       "  1155.07,433.227 1155.07,379.954 \n",
       "  \"/>\n",
       "<polyline clip-path=\"url(#clip772)\" style=\"stroke:#009af9; stroke-width:4; stroke-opacity:1; fill:none\" points=\"\n",
       "  1221.98,468.374 1221.98,415.036 \n",
       "  \"/>\n",
       "<polyline clip-path=\"url(#clip772)\" style=\"stroke:#009af9; stroke-width:4; stroke-opacity:1; fill:none\" points=\"\n",
       "  1288.89,506.13 1288.89,452.712 \n",
       "  \"/>\n",
       "<polyline clip-path=\"url(#clip772)\" style=\"stroke:#009af9; stroke-width:4; stroke-opacity:1; fill:none\" points=\"\n",
       "  1355.8,546.496 1355.8,492.98 \n",
       "  \"/>\n",
       "<polyline clip-path=\"url(#clip772)\" style=\"stroke:#009af9; stroke-width:4; stroke-opacity:1; fill:none\" points=\"\n",
       "  1422.71,589.474 1422.71,535.839 \n",
       "  \"/>\n",
       "<polyline clip-path=\"url(#clip772)\" style=\"stroke:#009af9; stroke-width:4; stroke-opacity:1; fill:none\" points=\"\n",
       "  1489.62,635.063 1489.62,581.287 \n",
       "  \"/>\n",
       "<polyline clip-path=\"url(#clip772)\" style=\"stroke:#009af9; stroke-width:4; stroke-opacity:1; fill:none\" points=\"\n",
       "  1556.53,683.266 1556.53,629.325 \n",
       "  \"/>\n",
       "<polyline clip-path=\"url(#clip772)\" style=\"stroke:#009af9; stroke-width:4; stroke-opacity:1; fill:none\" points=\"\n",
       "  1623.44,734.084 1623.44,679.949 \n",
       "  \"/>\n",
       "<polyline clip-path=\"url(#clip772)\" style=\"stroke:#009af9; stroke-width:4; stroke-opacity:1; fill:none\" points=\"\n",
       "  1690.35,787.519 1690.35,733.16 \n",
       "  \"/>\n",
       "<polyline clip-path=\"url(#clip772)\" style=\"stroke:#009af9; stroke-width:4; stroke-opacity:1; fill:none\" points=\"\n",
       "  1757.26,843.571 1757.26,788.955 \n",
       "  \"/>\n",
       "<polyline clip-path=\"url(#clip772)\" style=\"stroke:#009af9; stroke-width:4; stroke-opacity:1; fill:none\" points=\"\n",
       "  1824.17,902.242 1824.17,847.333 \n",
       "  \"/>\n",
       "<polyline clip-path=\"url(#clip772)\" style=\"stroke:#009af9; stroke-width:4; stroke-opacity:1; fill:none\" points=\"\n",
       "  1891.08,963.534 1891.08,908.293 \n",
       "  \"/>\n",
       "<polyline clip-path=\"url(#clip772)\" style=\"stroke:#009af9; stroke-width:4; stroke-opacity:1; fill:none\" points=\"\n",
       "  1957.99,1027.45 1957.99,971.832 \n",
       "  \"/>\n",
       "<polyline clip-path=\"url(#clip772)\" style=\"stroke:#009af9; stroke-width:4; stroke-opacity:1; fill:none\" points=\"\n",
       "  2024.9,1093.98 2024.9,1037.95 \n",
       "  \"/>\n",
       "<polyline clip-path=\"url(#clip772)\" style=\"stroke:#009af9; stroke-width:4; stroke-opacity:1; fill:none\" points=\"\n",
       "  2091.81,1163.15 2091.81,1106.65 \n",
       "  \"/>\n",
       "<polyline clip-path=\"url(#clip772)\" style=\"stroke:#009af9; stroke-width:4; stroke-opacity:1; fill:none\" points=\"\n",
       "  2158.72,1234.94 2158.72,1177.92 \n",
       "  \"/>\n",
       "<polyline clip-path=\"url(#clip772)\" style=\"stroke:#009af9; stroke-width:4; stroke-opacity:1; fill:none\" points=\"\n",
       "  2225.63,1309.35 2225.63,1251.77 \n",
       "  \"/>\n",
       "<polyline clip-path=\"url(#clip772)\" style=\"stroke:#009af9; stroke-width:4; stroke-opacity:1; fill:none\" points=\"\n",
       "  2292.54,1386.4 2292.54,1328.19 \n",
       "  \"/>\n",
       "<line clip-path=\"url(#clip772)\" x1=\"301.247\" y1=\"213.34\" x2=\"269.247\" y2=\"213.34\" style=\"stroke:#009af9; stroke-width:3.2; stroke-opacity:1\"/>\n",
       "<line clip-path=\"url(#clip772)\" x1=\"301.247\" y1=\"160.256\" x2=\"269.247\" y2=\"160.256\" style=\"stroke:#009af9; stroke-width:3.2; stroke-opacity:1\"/>\n",
       "<line clip-path=\"url(#clip772)\" x1=\"368.157\" y1=\"214.64\" x2=\"336.157\" y2=\"214.64\" style=\"stroke:#009af9; stroke-width:3.2; stroke-opacity:1\"/>\n",
       "<line clip-path=\"url(#clip772)\" x1=\"368.157\" y1=\"161.557\" x2=\"336.157\" y2=\"161.557\" style=\"stroke:#009af9; stroke-width:3.2; stroke-opacity:1\"/>\n",
       "<line clip-path=\"url(#clip772)\" x1=\"435.066\" y1=\"218.542\" x2=\"403.066\" y2=\"218.542\" style=\"stroke:#009af9; stroke-width:3.2; stroke-opacity:1\"/>\n",
       "<line clip-path=\"url(#clip772)\" x1=\"435.066\" y1=\"165.458\" x2=\"403.066\" y2=\"165.458\" style=\"stroke:#009af9; stroke-width:3.2; stroke-opacity:1\"/>\n",
       "<line clip-path=\"url(#clip772)\" x1=\"501.976\" y1=\"225.045\" x2=\"469.976\" y2=\"225.045\" style=\"stroke:#009af9; stroke-width:3.2; stroke-opacity:1\"/>\n",
       "<line clip-path=\"url(#clip772)\" x1=\"501.976\" y1=\"171.961\" x2=\"469.976\" y2=\"171.961\" style=\"stroke:#009af9; stroke-width:3.2; stroke-opacity:1\"/>\n",
       "<line clip-path=\"url(#clip772)\" x1=\"568.886\" y1=\"234.149\" x2=\"536.886\" y2=\"234.149\" style=\"stroke:#009af9; stroke-width:3.2; stroke-opacity:1\"/>\n",
       "<line clip-path=\"url(#clip772)\" x1=\"568.886\" y1=\"181.064\" x2=\"536.886\" y2=\"181.064\" style=\"stroke:#009af9; stroke-width:3.2; stroke-opacity:1\"/>\n",
       "<line clip-path=\"url(#clip772)\" x1=\"635.795\" y1=\"245.856\" x2=\"603.795\" y2=\"245.856\" style=\"stroke:#009af9; stroke-width:3.2; stroke-opacity:1\"/>\n",
       "<line clip-path=\"url(#clip772)\" x1=\"635.795\" y1=\"192.768\" x2=\"603.795\" y2=\"192.768\" style=\"stroke:#009af9; stroke-width:3.2; stroke-opacity:1\"/>\n",
       "<line clip-path=\"url(#clip772)\" x1=\"702.705\" y1=\"260.164\" x2=\"670.705\" y2=\"260.164\" style=\"stroke:#009af9; stroke-width:3.2; stroke-opacity:1\"/>\n",
       "<line clip-path=\"url(#clip772)\" x1=\"702.705\" y1=\"207.072\" x2=\"670.705\" y2=\"207.072\" style=\"stroke:#009af9; stroke-width:3.2; stroke-opacity:1\"/>\n",
       "<line clip-path=\"url(#clip772)\" x1=\"769.615\" y1=\"277.075\" x2=\"737.615\" y2=\"277.075\" style=\"stroke:#009af9; stroke-width:3.2; stroke-opacity:1\"/>\n",
       "<line clip-path=\"url(#clip772)\" x1=\"769.615\" y1=\"223.975\" x2=\"737.615\" y2=\"223.975\" style=\"stroke:#009af9; stroke-width:3.2; stroke-opacity:1\"/>\n",
       "<line clip-path=\"url(#clip772)\" x1=\"836.524\" y1=\"296.588\" x2=\"804.524\" y2=\"296.588\" style=\"stroke:#009af9; stroke-width:3.2; stroke-opacity:1\"/>\n",
       "<line clip-path=\"url(#clip772)\" x1=\"836.524\" y1=\"243.478\" x2=\"804.524\" y2=\"243.478\" style=\"stroke:#009af9; stroke-width:3.2; stroke-opacity:1\"/>\n",
       "<line clip-path=\"url(#clip772)\" x1=\"903.434\" y1=\"318.706\" x2=\"871.434\" y2=\"318.706\" style=\"stroke:#009af9; stroke-width:3.2; stroke-opacity:1\"/>\n",
       "<line clip-path=\"url(#clip772)\" x1=\"903.434\" y1=\"265.579\" x2=\"871.434\" y2=\"265.579\" style=\"stroke:#009af9; stroke-width:3.2; stroke-opacity:1\"/>\n",
       "<line clip-path=\"url(#clip772)\" x1=\"970.344\" y1=\"343.428\" x2=\"938.344\" y2=\"343.428\" style=\"stroke:#009af9; stroke-width:3.2; stroke-opacity:1\"/>\n",
       "<line clip-path=\"url(#clip772)\" x1=\"970.344\" y1=\"290.278\" x2=\"938.344\" y2=\"290.278\" style=\"stroke:#009af9; stroke-width:3.2; stroke-opacity:1\"/>\n",
       "<line clip-path=\"url(#clip772)\" x1=\"1037.25\" y1=\"370.755\" x2=\"1005.25\" y2=\"370.755\" style=\"stroke:#009af9; stroke-width:3.2; stroke-opacity:1\"/>\n",
       "<line clip-path=\"url(#clip772)\" x1=\"1037.25\" y1=\"317.574\" x2=\"1005.25\" y2=\"317.574\" style=\"stroke:#009af9; stroke-width:3.2; stroke-opacity:1\"/>\n",
       "<line clip-path=\"url(#clip772)\" x1=\"1104.16\" y1=\"400.687\" x2=\"1072.16\" y2=\"400.687\" style=\"stroke:#009af9; stroke-width:3.2; stroke-opacity:1\"/>\n",
       "<line clip-path=\"url(#clip772)\" x1=\"1104.16\" y1=\"347.466\" x2=\"1072.16\" y2=\"347.466\" style=\"stroke:#009af9; stroke-width:3.2; stroke-opacity:1\"/>\n",
       "<line clip-path=\"url(#clip772)\" x1=\"1171.07\" y1=\"433.227\" x2=\"1139.07\" y2=\"433.227\" style=\"stroke:#009af9; stroke-width:3.2; stroke-opacity:1\"/>\n",
       "<line clip-path=\"url(#clip772)\" x1=\"1171.07\" y1=\"379.954\" x2=\"1139.07\" y2=\"379.954\" style=\"stroke:#009af9; stroke-width:3.2; stroke-opacity:1\"/>\n",
       "<line clip-path=\"url(#clip772)\" x1=\"1237.98\" y1=\"468.374\" x2=\"1205.98\" y2=\"468.374\" style=\"stroke:#009af9; stroke-width:3.2; stroke-opacity:1\"/>\n",
       "<line clip-path=\"url(#clip772)\" x1=\"1237.98\" y1=\"415.036\" x2=\"1205.98\" y2=\"415.036\" style=\"stroke:#009af9; stroke-width:3.2; stroke-opacity:1\"/>\n",
       "<line clip-path=\"url(#clip772)\" x1=\"1304.89\" y1=\"506.13\" x2=\"1272.89\" y2=\"506.13\" style=\"stroke:#009af9; stroke-width:3.2; stroke-opacity:1\"/>\n",
       "<line clip-path=\"url(#clip772)\" x1=\"1304.89\" y1=\"452.712\" x2=\"1272.89\" y2=\"452.712\" style=\"stroke:#009af9; stroke-width:3.2; stroke-opacity:1\"/>\n",
       "<line clip-path=\"url(#clip772)\" x1=\"1371.8\" y1=\"546.496\" x2=\"1339.8\" y2=\"546.496\" style=\"stroke:#009af9; stroke-width:3.2; stroke-opacity:1\"/>\n",
       "<line clip-path=\"url(#clip772)\" x1=\"1371.8\" y1=\"492.98\" x2=\"1339.8\" y2=\"492.98\" style=\"stroke:#009af9; stroke-width:3.2; stroke-opacity:1\"/>\n",
       "<line clip-path=\"url(#clip772)\" x1=\"1438.71\" y1=\"589.474\" x2=\"1406.71\" y2=\"589.474\" style=\"stroke:#009af9; stroke-width:3.2; stroke-opacity:1\"/>\n",
       "<line clip-path=\"url(#clip772)\" x1=\"1438.71\" y1=\"535.839\" x2=\"1406.71\" y2=\"535.839\" style=\"stroke:#009af9; stroke-width:3.2; stroke-opacity:1\"/>\n",
       "<line clip-path=\"url(#clip772)\" x1=\"1505.62\" y1=\"635.063\" x2=\"1473.62\" y2=\"635.063\" style=\"stroke:#009af9; stroke-width:3.2; stroke-opacity:1\"/>\n",
       "<line clip-path=\"url(#clip772)\" x1=\"1505.62\" y1=\"581.287\" x2=\"1473.62\" y2=\"581.287\" style=\"stroke:#009af9; stroke-width:3.2; stroke-opacity:1\"/>\n",
       "<line clip-path=\"url(#clip772)\" x1=\"1572.53\" y1=\"683.266\" x2=\"1540.53\" y2=\"683.266\" style=\"stroke:#009af9; stroke-width:3.2; stroke-opacity:1\"/>\n",
       "<line clip-path=\"url(#clip772)\" x1=\"1572.53\" y1=\"629.325\" x2=\"1540.53\" y2=\"629.325\" style=\"stroke:#009af9; stroke-width:3.2; stroke-opacity:1\"/>\n",
       "<line clip-path=\"url(#clip772)\" x1=\"1639.44\" y1=\"734.084\" x2=\"1607.44\" y2=\"734.084\" style=\"stroke:#009af9; stroke-width:3.2; stroke-opacity:1\"/>\n",
       "<line clip-path=\"url(#clip772)\" x1=\"1639.44\" y1=\"679.949\" x2=\"1607.44\" y2=\"679.949\" style=\"stroke:#009af9; stroke-width:3.2; stroke-opacity:1\"/>\n",
       "<line clip-path=\"url(#clip772)\" x1=\"1706.35\" y1=\"787.519\" x2=\"1674.35\" y2=\"787.519\" style=\"stroke:#009af9; stroke-width:3.2; stroke-opacity:1\"/>\n",
       "<line clip-path=\"url(#clip772)\" x1=\"1706.35\" y1=\"733.16\" x2=\"1674.35\" y2=\"733.16\" style=\"stroke:#009af9; stroke-width:3.2; stroke-opacity:1\"/>\n",
       "<line clip-path=\"url(#clip772)\" x1=\"1773.26\" y1=\"843.571\" x2=\"1741.26\" y2=\"843.571\" style=\"stroke:#009af9; stroke-width:3.2; stroke-opacity:1\"/>\n",
       "<line clip-path=\"url(#clip772)\" x1=\"1773.26\" y1=\"788.955\" x2=\"1741.26\" y2=\"788.955\" style=\"stroke:#009af9; stroke-width:3.2; stroke-opacity:1\"/>\n",
       "<line clip-path=\"url(#clip772)\" x1=\"1840.17\" y1=\"902.242\" x2=\"1808.17\" y2=\"902.242\" style=\"stroke:#009af9; stroke-width:3.2; stroke-opacity:1\"/>\n",
       "<line clip-path=\"url(#clip772)\" x1=\"1840.17\" y1=\"847.333\" x2=\"1808.17\" y2=\"847.333\" style=\"stroke:#009af9; stroke-width:3.2; stroke-opacity:1\"/>\n",
       "<line clip-path=\"url(#clip772)\" x1=\"1907.08\" y1=\"963.534\" x2=\"1875.08\" y2=\"963.534\" style=\"stroke:#009af9; stroke-width:3.2; stroke-opacity:1\"/>\n",
       "<line clip-path=\"url(#clip772)\" x1=\"1907.08\" y1=\"908.293\" x2=\"1875.08\" y2=\"908.293\" style=\"stroke:#009af9; stroke-width:3.2; stroke-opacity:1\"/>\n",
       "<line clip-path=\"url(#clip772)\" x1=\"1973.99\" y1=\"1027.45\" x2=\"1941.99\" y2=\"1027.45\" style=\"stroke:#009af9; stroke-width:3.2; stroke-opacity:1\"/>\n",
       "<line clip-path=\"url(#clip772)\" x1=\"1973.99\" y1=\"971.832\" x2=\"1941.99\" y2=\"971.832\" style=\"stroke:#009af9; stroke-width:3.2; stroke-opacity:1\"/>\n",
       "<line clip-path=\"url(#clip772)\" x1=\"2040.9\" y1=\"1093.98\" x2=\"2008.9\" y2=\"1093.98\" style=\"stroke:#009af9; stroke-width:3.2; stroke-opacity:1\"/>\n",
       "<line clip-path=\"url(#clip772)\" x1=\"2040.9\" y1=\"1037.95\" x2=\"2008.9\" y2=\"1037.95\" style=\"stroke:#009af9; stroke-width:3.2; stroke-opacity:1\"/>\n",
       "<line clip-path=\"url(#clip772)\" x1=\"2107.81\" y1=\"1163.15\" x2=\"2075.81\" y2=\"1163.15\" style=\"stroke:#009af9; stroke-width:3.2; stroke-opacity:1\"/>\n",
       "<line clip-path=\"url(#clip772)\" x1=\"2107.81\" y1=\"1106.65\" x2=\"2075.81\" y2=\"1106.65\" style=\"stroke:#009af9; stroke-width:3.2; stroke-opacity:1\"/>\n",
       "<line clip-path=\"url(#clip772)\" x1=\"2174.72\" y1=\"1234.94\" x2=\"2142.72\" y2=\"1234.94\" style=\"stroke:#009af9; stroke-width:3.2; stroke-opacity:1\"/>\n",
       "<line clip-path=\"url(#clip772)\" x1=\"2174.72\" y1=\"1177.92\" x2=\"2142.72\" y2=\"1177.92\" style=\"stroke:#009af9; stroke-width:3.2; stroke-opacity:1\"/>\n",
       "<line clip-path=\"url(#clip772)\" x1=\"2241.63\" y1=\"1309.35\" x2=\"2209.63\" y2=\"1309.35\" style=\"stroke:#009af9; stroke-width:3.2; stroke-opacity:1\"/>\n",
       "<line clip-path=\"url(#clip772)\" x1=\"2241.63\" y1=\"1251.77\" x2=\"2209.63\" y2=\"1251.77\" style=\"stroke:#009af9; stroke-width:3.2; stroke-opacity:1\"/>\n",
       "<line clip-path=\"url(#clip772)\" x1=\"2308.54\" y1=\"1386.4\" x2=\"2276.54\" y2=\"1386.4\" style=\"stroke:#009af9; stroke-width:3.2; stroke-opacity:1\"/>\n",
       "<line clip-path=\"url(#clip772)\" x1=\"2308.54\" y1=\"1328.19\" x2=\"2276.54\" y2=\"1328.19\" style=\"stroke:#009af9; stroke-width:3.2; stroke-opacity:1\"/>\n",
       "<path clip-path=\"url(#clip770)\" d=\"\n",
       "M1989.74 327.952 L2280.76 327.952 L2280.76 206.992 L1989.74 206.992  Z\n",
       "  \" fill=\"#ffffff\" fill-rule=\"evenodd\" fill-opacity=\"1\"/>\n",
       "<polyline clip-path=\"url(#clip770)\" style=\"stroke:#000000; stroke-width:4; stroke-opacity:1; fill:none\" points=\"\n",
       "  1989.74,327.952 2280.76,327.952 2280.76,206.992 1989.74,206.992 1989.74,327.952 \n",
       "  \"/>\n",
       "<polyline clip-path=\"url(#clip770)\" style=\"stroke:#009af9; stroke-width:4; stroke-opacity:1; fill:none\" points=\"\n",
       "  2013.74,267.472 2157.74,267.472 \n",
       "  \"/>\n",
       "<path clip-path=\"url(#clip770)\" d=\"M 0 0 M2195.58 287.16 Q2193.77 291.789 2192.06 293.201 Q2190.35 294.613 2187.48 294.613 L2184.08 294.613 L2184.08 291.048 L2186.58 291.048 Q2188.33 291.048 2189.31 290.215 Q2190.28 289.382 2191.46 286.28 L2192.22 284.335 L2181.74 258.826 L2186.25 258.826 L2194.35 279.104 L2202.46 258.826 L2206.97 258.826 L2195.58 287.16 Z\" fill=\"#000000\" fill-rule=\"evenodd\" fill-opacity=\"1\" /><path clip-path=\"url(#clip770)\" d=\"M 0 0 M2212.85 280.817 L2220.49 280.817 L2220.49 254.451 L2212.18 256.118 L2212.18 251.859 L2220.44 250.192 L2225.12 250.192 L2225.12 280.817 L2232.76 280.817 L2232.76 284.752 L2212.85 284.752 L2212.85 280.817 Z\" fill=\"#000000\" fill-rule=\"evenodd\" fill-opacity=\"1\" /></svg>\n"
      ]
     },
     "metadata": {},
     "execution_count": 41
    }
   ],
   "cell_type": "code",
   "source": [
    "plot(\n",
    "    solution.t,\n",
    "    solution.u,\n",
    "    title=\"Solution to the ODE\",\n",
    "    xaxis=\"Time (t) in seconds\",\n",
    "    yaxis=\"Displacement s(t) in metres\"\n",
    ")"
   ],
   "metadata": {},
   "execution_count": 41
  },
  {
   "cell_type": "markdown",
   "source": [
    "## Interoperability"
   ],
   "metadata": {}
  },
  {
   "cell_type": "markdown",
   "source": [
    "We can import any python module using the PyCall package:"
   ],
   "metadata": {}
  },
  {
   "outputs": [],
   "cell_type": "code",
   "source": [
    "using PyCall"
   ],
   "metadata": {},
   "execution_count": 42
  },
  {
   "outputs": [
    {
     "output_type": "execute_result",
     "data": {
      "text/plain": "PyObject <module 'math' (built-in)>"
     },
     "metadata": {},
     "execution_count": 43
    }
   ],
   "cell_type": "code",
   "source": [
    "math = pyimport(\"math\")"
   ],
   "metadata": {},
   "execution_count": 43
  },
  {
   "outputs": [
    {
     "output_type": "execute_result",
     "data": {
      "text/plain": "10.0"
     },
     "metadata": {},
     "execution_count": 44
    }
   ],
   "cell_type": "code",
   "source": [
    "math.sqrt(100)"
   ],
   "metadata": {},
   "execution_count": 44
  },
  {
   "cell_type": "markdown",
   "source": [
    "We can mix Python functions and variables with Julia code:"
   ],
   "metadata": {}
  },
  {
   "outputs": [
    {
     "output_type": "execute_result",
     "data": {
      "text/plain": "4-element Array{Float64,1}:\n  1.2246467991473532e-16\n  1.2246467991473532e-16\n -2.4492935982947064e-16\n -2.4492935982947064e-16"
     },
     "metadata": {},
     "execution_count": 45
    }
   ],
   "cell_type": "code",
   "source": [
    "math.sin.([π,  math.pi, 2π,    2 * math.pi])"
   ],
   "metadata": {},
   "execution_count": 45
  },
  {
   "cell_type": "markdown",
   "source": [
    "We can define Python functions that call Julia funcitons"
   ],
   "metadata": {}
  },
  {
   "outputs": [],
   "cell_type": "code",
   "source": [
    "py\"\"\"\n",
    "def pyfib(n, fun):\n",
    "    if n < 2:\n",
    "        return n\n",
    "    else:\n",
    "        return fun(n - 1, pyfib) + fun(n - 2, pyfib)\n",
    "\"\"\""
   ],
   "metadata": {},
   "execution_count": 46
  },
  {
   "outputs": [
    {
     "output_type": "execute_result",
     "data": {
      "text/plain": "jlfib (generic function with 1 method)"
     },
     "metadata": {},
     "execution_count": 47
    }
   ],
   "cell_type": "code",
   "source": [
    "function jlfib(n, fun)\n",
    "    if n < 2\n",
    "        return n\n",
    "    else\n",
    "        return fun(n - 1, jlfib) + fun(n - 2, jlfib)\n",
    "    end\n",
    "end"
   ],
   "metadata": {},
   "execution_count": 47
  },
  {
   "outputs": [
    {
     "output_type": "execute_result",
     "data": {
      "text/plain": "6765"
     },
     "metadata": {},
     "execution_count": 48
    }
   ],
   "cell_type": "code",
   "source": [
    "jlfib(20, py\"pyfib\")"
   ],
   "metadata": {},
   "execution_count": 48
  },
  {
   "cell_type": "markdown",
   "source": [
    "If you have some code written in another language (like Python), there can be a smooth transition to using Julia."
   ],
   "metadata": {}
  },
  {
   "cell_type": "markdown",
   "source": [
    "# Summary"
   ],
   "metadata": {}
  },
  {
   "cell_type": "markdown",
   "source": [
    "- Julia looks a bit like Python\n",
    "- It's fast (with some caveats)\n",
    "- It's free!\n",
    "- It's written in Julia\n",
    "- It has powerful features like:\n",
    "    - Broadcasting syntax\n",
    "    - Unicode variables\n",
    "    - Multiple dispatch\n",
    "    - Good interoperability"
   ],
   "metadata": {}
  },
  {
   "cell_type": "markdown",
   "source": [
    "Other stuff I haven't mentioned:\n",
    "- Automatic differentiation (Swift also has this now)\n",
    "- Metaprogramming\n",
    "- Data science stuff (The first two letters of Jupyter Notebooks are named after Julia!)"
   ],
   "metadata": {}
  },
  {
   "cell_type": "markdown",
   "source": [
    "---\n",
    "\n",
    "*This notebook was generated using [Literate.jl](https://github.com/fredrikekre/Literate.jl).*"
   ],
   "metadata": {}
  }
 ],
 "nbformat_minor": 3,
 "metadata": {
  "language_info": {
   "file_extension": ".jl",
   "mimetype": "application/julia",
   "name": "julia",
   "version": "1.4.1"
  },
  "kernelspec": {
   "name": "julia-1.4",
   "display_name": "Julia 1.4.1",
   "language": "julia"
  }
 },
 "nbformat": 4
}
